{
 "cells": [
  {
   "cell_type": "code",
   "execution_count": 1,
   "id": "cd97b6db-30c9-45ae-82a1-dba2d0cf238e",
   "metadata": {},
   "outputs": [],
   "source": [
    "import pandas as pd\n",
    "import matplotlib.pyplot as plt\n",
    "import numpy as np\n",
    "import seaborn as sns"
   ]
  },
  {
   "cell_type": "code",
   "execution_count": 2,
   "id": "c0fc7367-0dc7-4335-a5ed-dbb98f38806e",
   "metadata": {},
   "outputs": [
    {
     "name": "stdout",
     "output_type": "stream",
     "text": [
      "                                                Text           Aspect Term  \\\n",
      "0  गुठी विधेक ल्याएर ठमेल मा राज गुठि को जग्गा मा...        जोगाउन को लागि   \n",
      "1  दले ले देश सकेछन सबै बेचे र खान सुरू गरेछन अब ...             लखेटनु पछ   \n",
      "2        नेपाल को ससकृती ध्वस्त पार्ने योजना हो यो !  ससकृती ध्वस्त पार्ने   \n",
      "3  मठ मन्दिर गुम्बा का जग्गा हरु मा भुमाफिया को न...              भुमाफिया   \n",
      "4  नेपाल का कल कर्खाना र नदि नाला बेची सके अब मठ ...              बेची सके   \n",
      "\n",
      "  Sentiment  Polarity  \n",
      "0   GENERAL         0  \n",
      "1   GENERAL         1  \n",
      "2   GENERAL         1  \n",
      "3   GENERAL         1  \n",
      "4   GENERAL         1  \n"
     ]
    }
   ],
   "source": [
    "df1 = pd.read_csv(\"/home/angel-tamang/Nepali Hate Sentiment Detection/Project/Part 1/Data/Raw/Nepali_dataset.csv\")\n",
    "print(df1.head())\n"
   ]
  },
  {
   "cell_type": "code",
   "execution_count": 3,
   "id": "dd8e6358-c37c-4776-85fd-b5126d24cb84",
   "metadata": {},
   "outputs": [],
   "source": [
    "# Remove 'FEEDBACK' from df1\n",
    "df1 = df1[df1['Sentiment'] != 'FEEDBACK']"
   ]
  },
  {
   "cell_type": "code",
   "execution_count": 4,
   "id": "99aa281f-95d9-4f43-9f44-ee23d28b71b9",
   "metadata": {},
   "outputs": [
    {
     "name": "stdout",
     "output_type": "stream",
     "text": [
      "Sentiment  Polarity\n",
      "GENERAL    1           1781\n",
      "           0           1054\n",
      "PROFANITY  0            303\n",
      "VIOLENCE   1            173\n",
      "           0            114\n",
      "PROFANITY  1            104\n",
      "Name: count, dtype: int64\n"
     ]
    }
   ],
   "source": [
    "print(df1.loc[:,\"Sentiment\":\"Polarity\"].value_counts())"
   ]
  },
  {
   "cell_type": "code",
   "execution_count": 5,
   "id": "847a9b17-29ae-4567-b9f1-f55eb9139733",
   "metadata": {},
   "outputs": [
    {
     "name": "stdout",
     "output_type": "stream",
     "text": [
      "3529\n"
     ]
    }
   ],
   "source": [
    "count1  = len(df1.loc[:,\"Sentiment\"].to_numpy())\n",
    "print(count1)"
   ]
  },
  {
   "cell_type": "markdown",
   "id": "2dfc5eef-2a72-4479-a75b-65096d3de155",
   "metadata": {},
   "source": [
    "## Deduplicated dataset of above dataset"
   ]
  },
  {
   "cell_type": "code",
   "execution_count": 6,
   "id": "e0526411-c982-4c3b-be86-5ad0c641bc0e",
   "metadata": {},
   "outputs": [
    {
     "data": {
      "text/html": [
       "<div>\n",
       "<style scoped>\n",
       "    .dataframe tbody tr th:only-of-type {\n",
       "        vertical-align: middle;\n",
       "    }\n",
       "\n",
       "    .dataframe tbody tr th {\n",
       "        vertical-align: top;\n",
       "    }\n",
       "\n",
       "    .dataframe thead th {\n",
       "        text-align: right;\n",
       "    }\n",
       "</style>\n",
       "<table border=\"1\" class=\"dataframe\">\n",
       "  <thead>\n",
       "    <tr style=\"text-align: right;\">\n",
       "      <th></th>\n",
       "      <th>Text</th>\n",
       "      <th>Target</th>\n",
       "    </tr>\n",
       "  </thead>\n",
       "  <tbody>\n",
       "    <tr>\n",
       "      <th>0</th>\n",
       "      <td>गुठी विधेक ल्याएर ठमेल राज गुठि जग्गा छाया सेन...</td>\n",
       "      <td>0</td>\n",
       "    </tr>\n",
       "    <tr>\n",
       "      <th>1</th>\n",
       "      <td>दले देश सकेछन बेचे खान सुरू गरेछन दले लखेटनु पछ ।</td>\n",
       "      <td>1</td>\n",
       "    </tr>\n",
       "    <tr>\n",
       "      <th>2</th>\n",
       "      <td>नेपाल ससकृती ध्वस्त पार्ने योजना !</td>\n",
       "      <td>1</td>\n",
       "    </tr>\n",
       "    <tr>\n",
       "      <th>3</th>\n",
       "      <td>मठ मन्दिर गुम्बा जग्गा हरु भुमाफिया नजर परे हु...</td>\n",
       "      <td>1</td>\n",
       "    </tr>\n",
       "    <tr>\n",
       "      <th>4</th>\n",
       "      <td>नेपाल कल कर्खाना नदि नाला बेची सके मठ मन्दीर ब...</td>\n",
       "      <td>1</td>\n",
       "    </tr>\n",
       "  </tbody>\n",
       "</table>\n",
       "</div>"
      ],
      "text/plain": [
       "                                                Text  Target\n",
       "0  गुठी विधेक ल्याएर ठमेल राज गुठि जग्गा छाया सेन...       0\n",
       "1  दले देश सकेछन बेचे खान सुरू गरेछन दले लखेटनु पछ ।       1\n",
       "2                 नेपाल ससकृती ध्वस्त पार्ने योजना !       1\n",
       "3  मठ मन्दिर गुम्बा जग्गा हरु भुमाफिया नजर परे हु...       1\n",
       "4  नेपाल कल कर्खाना नदि नाला बेची सके मठ मन्दीर ब...       1"
      ]
     },
     "execution_count": 6,
     "metadata": {},
     "output_type": "execute_result"
    }
   ],
   "source": [
    "df2 = pd.read_csv(\"/home/angel-tamang/Nepali Hate Sentiment Detection/Project/Part 2/Data/Preprocessed/Cleaned_Nepali_dataset.csv\")\n",
    "df2.head()"
   ]
  },
  {
   "cell_type": "code",
   "execution_count": 7,
   "id": "551cc3d7-1b33-448a-80fe-72ac6b32de51",
   "metadata": {},
   "outputs": [
    {
     "data": {
      "text/plain": [
       "Target\n",
       "1    1358\n",
       "0     901\n",
       "2     250\n",
       "5     159\n",
       "4     108\n",
       "3      83\n",
       "Name: count, dtype: int64"
      ]
     },
     "execution_count": 7,
     "metadata": {},
     "output_type": "execute_result"
    }
   ],
   "source": [
    "df2.loc[:,\"Target\"].value_counts()"
   ]
  },
  {
   "cell_type": "code",
   "execution_count": 8,
   "id": "cd6e4496-9386-47e8-9ffe-43118f4cb76f",
   "metadata": {},
   "outputs": [
    {
     "data": {
      "text/html": [
       "<div>\n",
       "<style scoped>\n",
       "    .dataframe tbody tr th:only-of-type {\n",
       "        vertical-align: middle;\n",
       "    }\n",
       "\n",
       "    .dataframe tbody tr th {\n",
       "        vertical-align: top;\n",
       "    }\n",
       "\n",
       "    .dataframe thead th {\n",
       "        text-align: right;\n",
       "    }\n",
       "</style>\n",
       "<table border=\"1\" class=\"dataframe\">\n",
       "  <thead>\n",
       "    <tr style=\"text-align: right;\">\n",
       "      <th></th>\n",
       "      <th>Text</th>\n",
       "      <th>Target</th>\n",
       "      <th>Polarity</th>\n",
       "      <th>Sentiment</th>\n",
       "    </tr>\n",
       "  </thead>\n",
       "  <tbody>\n",
       "    <tr>\n",
       "      <th>0</th>\n",
       "      <td>गुठी विधेक ल्याएर ठमेल राज गुठि जग्गा छाया सेन...</td>\n",
       "      <td>0</td>\n",
       "      <td>0</td>\n",
       "      <td>GENERAL</td>\n",
       "    </tr>\n",
       "    <tr>\n",
       "      <th>1</th>\n",
       "      <td>दले देश सकेछन बेचे खान सुरू गरेछन दले लखेटनु पछ ।</td>\n",
       "      <td>1</td>\n",
       "      <td>1</td>\n",
       "      <td>GENERAL</td>\n",
       "    </tr>\n",
       "    <tr>\n",
       "      <th>2</th>\n",
       "      <td>नेपाल ससकृती ध्वस्त पार्ने योजना !</td>\n",
       "      <td>1</td>\n",
       "      <td>1</td>\n",
       "      <td>GENERAL</td>\n",
       "    </tr>\n",
       "    <tr>\n",
       "      <th>3</th>\n",
       "      <td>मठ मन्दिर गुम्बा जग्गा हरु भुमाफिया नजर परे हु...</td>\n",
       "      <td>1</td>\n",
       "      <td>1</td>\n",
       "      <td>GENERAL</td>\n",
       "    </tr>\n",
       "    <tr>\n",
       "      <th>4</th>\n",
       "      <td>नेपाल कल कर्खाना नदि नाला बेची सके मठ मन्दीर ब...</td>\n",
       "      <td>1</td>\n",
       "      <td>1</td>\n",
       "      <td>GENERAL</td>\n",
       "    </tr>\n",
       "  </tbody>\n",
       "</table>\n",
       "</div>"
      ],
      "text/plain": [
       "                                                Text  Target  Polarity  \\\n",
       "0  गुठी विधेक ल्याएर ठमेल राज गुठि जग्गा छाया सेन...       0         0   \n",
       "1  दले देश सकेछन बेचे खान सुरू गरेछन दले लखेटनु पछ ।       1         1   \n",
       "2                 नेपाल ससकृती ध्वस्त पार्ने योजना !       1         1   \n",
       "3  मठ मन्दिर गुम्बा जग्गा हरु भुमाफिया नजर परे हु...       1         1   \n",
       "4  नेपाल कल कर्खाना नदि नाला बेची सके मठ मन्दीर ब...       1         1   \n",
       "\n",
       "  Sentiment  \n",
       "0   GENERAL  \n",
       "1   GENERAL  \n",
       "2   GENERAL  \n",
       "3   GENERAL  \n",
       "4   GENERAL  "
      ]
     },
     "execution_count": 8,
     "metadata": {},
     "output_type": "execute_result"
    }
   ],
   "source": [
    "def map_sentiments(value):\n",
    "    if value in [0, 1]:\n",
    "        return  \"GENERAL\"\n",
    "    elif value in [2, 3]:\n",
    "        return \"PROFANITY\"\n",
    "    elif value in [4, 5]:\n",
    "        return \"VOILENCE\"\n",
    "\n",
    "def map_polarity(value):\n",
    "    if value in [0,2,4]:\n",
    "        return 0\n",
    "    else:\n",
    "        return 1\n",
    "\n",
    "df2[\"Polarity\"] = df2[\"Target\"].apply(map_polarity)\n",
    "df2[\"Sentiment\"] = df2[\"Target\"].apply(map_sentiments)\n",
    "df2.head()"
   ]
  },
  {
   "cell_type": "code",
   "execution_count": 9,
   "id": "0448be37-181c-41bf-8074-e1af5c25e6b6",
   "metadata": {},
   "outputs": [
    {
     "name": "stdout",
     "output_type": "stream",
     "text": [
      "Sentiment  Polarity\n",
      "GENERAL    1           1358\n",
      "           0            901\n",
      "PROFANITY  0            250\n",
      "VOILENCE   1            159\n",
      "           0            108\n",
      "PROFANITY  1             83\n",
      "Name: count, dtype: int64\n",
      "2859\n"
     ]
    }
   ],
   "source": [
    "df2 = df2.loc[:,[\"Text\", \"Sentiment\", \"Polarity\", \"Target\"]]\n",
    "print(df2.loc[:,\"Sentiment\":\"Polarity\"].value_counts())\n",
    "count2 = len(df2.loc[:,\"Sentiment\"].to_numpy())\n",
    "print( count2 )"
   ]
  },
  {
   "cell_type": "code",
   "execution_count": 14,
   "id": "36015a35-051f-4787-83db-800586d74df3",
   "metadata": {},
   "outputs": [
    {
     "name": "stderr",
     "output_type": "stream",
     "text": [
      "/tmp/ipykernel_49442/1301967964.py:1: FutureWarning: The default of observed=False is deprecated and will be changed to True in a future version of pandas. Pass observed=False to retain current behavior or observed=True to adopt the future default and silence this warning.\n",
      "  df1_counts = df1.groupby(['Sentiment', 'Polarity']).size().reset_index(name='Count')\n",
      "/tmp/ipykernel_49442/1301967964.py:2: FutureWarning: The default of observed=False is deprecated and will be changed to True in a future version of pandas. Pass observed=False to retain current behavior or observed=True to adopt the future default and silence this warning.\n",
      "  df2_counts = df2.groupby(['Sentiment', 'Polarity']).size().reset_index(name='Count')\n"
     ]
    },
    {
     "data": {
      "image/png": "[encoded data removed]",
      "text/plain": [
       "<Figure size 1400x600 with 2 Axes>"
      ]
     },
     "metadata": {},
     "output_type": "display_data"
    }
   ],
   "source": [
    "df1_counts = df1.groupby(['Sentiment', 'Polarity']).size().reset_index(name='Count')\n",
    "df2_counts = df2.groupby(['Sentiment', 'Polarity']).size().reset_index(name='Count')\n",
    "\n",
    "# Set up subplots\n",
    "fig, axes = plt.subplots(1, 2, figsize=(14, 6))\n",
    "\n",
    "# Plot df1\n",
    "ax1 = sns.barplot(ax=axes[0], x='Sentiment', y='Count', hue='Polarity', data=df1_counts)\n",
    "axes[0].set_title(f\"Dataset before deduplication. Count({count1})\", pad=10)\n",
    "axes[0].set_xlabel(\"Sentiment\", labelpad=10)\n",
    "\n",
    "# Add labels to the bars\n",
    "for p in ax1.patches:\n",
    "    if p.get_height() > 0:\n",
    "        ax1.text(p.get_x() + p.get_width() / 2, p.get_height(), '{:d}'.format(int(p.get_height())), ha='center')\n",
    "\n",
    "# Plot df2\n",
    "ax2 = sns.barplot(ax=axes[1], x='Sentiment', y='Count', hue='Polarity', data=df2_counts)\n",
    "axes[1].set_title(f\"Dataset after deduplication. Count({count2})\", pad=10)\n",
    "axes[1].set_xlabel(\"Sentiment\", labelpad=10)\n",
    "\n",
    "# Add labels to the bars\n",
    "for p in ax2.patches:\n",
    "    if p.get_height() > 0:\n",
    "        ax2.text(p.get_x() + p.get_width() / 2, p.get_height(), '{:d}'.format(int(p.get_height())), ha='center')\n",
    "\n",
    "# Remove spines\n",
    "sns.despine(left=True, bottom=True)\n",
    "\n",
    "plt.tight_layout()\n",
    "plt.show()"
   ]
  }
 ],
 "metadata": {
  "kernelspec": {
   "display_name": "Python 3 (ipykernel)",
   "language": "python",
   "name": "python3"
  },
  "language_info": {
   "codemirror_mode": {
    "name": "ipython",
    "version": 3
   },
   "file_extension": ".py",
   "mimetype": "text/x-python",
   "name": "python",
   "nbconvert_exporter": "python",
   "pygments_lexer": "ipython3",
   "version": "3.11.4"
  }
 },
 "nbformat": 4,
 "nbformat_minor": 5
}
