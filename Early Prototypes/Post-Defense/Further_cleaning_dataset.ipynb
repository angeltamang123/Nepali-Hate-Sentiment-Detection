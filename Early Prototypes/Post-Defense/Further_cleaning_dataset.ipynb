{
 "cells": [
  {
   "cell_type": "markdown",
   "id": "15df8504-6ad9-4ff5-9d24-0f7e4c5d78b3",
   "metadata": {},
   "source": [
    "## In previous notebooks we removed data instances of same sentiment different polarity, and even for same Polarity"
   ]
  },
  {
   "cell_type": "markdown",
   "id": "c331ba00-5147-4adf-8bdf-51472f8c407c",
   "metadata": {},
   "source": [
    "## But we missed to address issues where, the PROFANITY and VIOLENCE example could be in GENERAL too. due to which the misclassification, let's address that\n"
   ]
  },
  {
   "cell_type": "code",
   "execution_count": 1,
   "id": "e34e5b66-f2d4-4d8a-b0e4-e9923458095b",
   "metadata": {},
   "outputs": [
    {
     "data": {
      "text/plain": [
       "Target\n",
       "1    1358\n",
       "0     901\n",
       "2     250\n",
       "5     159\n",
       "4     108\n",
       "3      83\n",
       "Name: count, dtype: int64"
      ]
     },
     "execution_count": 1,
     "metadata": {},
     "output_type": "execute_result"
    }
   ],
   "source": [
    "import pandas as pd\n",
    "import numpy as np\n",
    "import matplotlib.pyplot as plt\n",
    "import seaborn as sns\n",
    "\n",
    "df = pd.read_csv(\"./Data/Cleaned_Nepali_dataset.csv\")\n",
    "df.loc[:,\"Target\"].value_counts()"
   ]
  },
  {
   "cell_type": "code",
   "execution_count": 2,
   "id": "a3f18860-a0bc-4f46-b5ed-72073a085b49",
   "metadata": {},
   "outputs": [
    {
     "data": {
      "text/html": [
       "<div>\n",
       "<style scoped>\n",
       "    .dataframe tbody tr th:only-of-type {\n",
       "        vertical-align: middle;\n",
       "    }\n",
       "\n",
       "    .dataframe tbody tr th {\n",
       "        vertical-align: top;\n",
       "    }\n",
       "\n",
       "    .dataframe thead th {\n",
       "        text-align: right;\n",
       "    }\n",
       "</style>\n",
       "<table border=\"1\" class=\"dataframe\">\n",
       "  <thead>\n",
       "    <tr style=\"text-align: right;\">\n",
       "      <th></th>\n",
       "      <th>Text</th>\n",
       "      <th>Target</th>\n",
       "    </tr>\n",
       "  </thead>\n",
       "  <tbody>\n",
       "    <tr>\n",
       "      <th>0</th>\n",
       "      <td>गुठी विधेक ल्याएर ठमेल राज गुठि जग्गा छाया सेन...</td>\n",
       "      <td>0</td>\n",
       "    </tr>\n",
       "    <tr>\n",
       "      <th>1</th>\n",
       "      <td>दले देश सकेछन बेचे खान सुरू गरेछन दले लखेटनु पछ ।</td>\n",
       "      <td>1</td>\n",
       "    </tr>\n",
       "    <tr>\n",
       "      <th>2</th>\n",
       "      <td>नेपाल ससकृती ध्वस्त पार्ने योजना !</td>\n",
       "      <td>1</td>\n",
       "    </tr>\n",
       "    <tr>\n",
       "      <th>3</th>\n",
       "      <td>मठ मन्दिर गुम्बा जग्गा हरु भुमाफिया नजर परे हु...</td>\n",
       "      <td>1</td>\n",
       "    </tr>\n",
       "    <tr>\n",
       "      <th>4</th>\n",
       "      <td>नेपाल कल कर्खाना नदि नाला बेची सके मठ मन्दीर ब...</td>\n",
       "      <td>1</td>\n",
       "    </tr>\n",
       "  </tbody>\n",
       "</table>\n",
       "</div>"
      ],
      "text/plain": [
       "                                                Text  Target\n",
       "0  गुठी विधेक ल्याएर ठमेल राज गुठि जग्गा छाया सेन...       0\n",
       "1  दले देश सकेछन बेचे खान सुरू गरेछन दले लखेटनु पछ ।       1\n",
       "2                 नेपाल ससकृती ध्वस्त पार्ने योजना !       1\n",
       "3  मठ मन्दिर गुम्बा जग्गा हरु भुमाफिया नजर परे हु...       1\n",
       "4  नेपाल कल कर्खाना नदि नाला बेची सके मठ मन्दीर ब...       1"
      ]
     },
     "execution_count": 2,
     "metadata": {},
     "output_type": "execute_result"
    }
   ],
   "source": [
    "df.head()"
   ]
  },
  {
   "cell_type": "markdown",
   "id": "e0d8dfda-6213-48d6-aa53-0a70a908144f",
   "metadata": {},
   "source": [
    "## Here the target is already label encodded but we know 0 and 1 is for GENERAL followed by PROFANITY and then VIOLENCE"
   ]
  },
  {
   "cell_type": "markdown",
   "id": "c8ff8948-12c3-48a2-929a-7f8edc0d2abb",
   "metadata": {},
   "source": [
    "## First for profanity"
   ]
  },
  {
   "cell_type": "code",
   "execution_count": 3,
   "id": "1f7a650b-35b4-4aca-9119-9f077ac99f13",
   "metadata": {},
   "outputs": [
    {
     "name": "stdout",
     "output_type": "stream",
     "text": [
      "                                                   Text  Target\n",
      "9     साला नाके बाहुन गूठी बिदयेक पारित भु माफिया सग...       1\n",
      "15    कमिसन खोरी हरु बाटो खोजी रहे लाटा बुजे लाजमर्द...       1\n",
      "56    पाखन्डी भन्डारी क्रिश्चियन दलाल ओलि मुत पिएर ह...       1\n",
      "83    राजा हुदा देश बिचियो सरकारि जग्गा बिचियो खाते ...       1\n",
      "88    हाम्रो देश दलाल भर्स्त हरु राज भयो देश कहिले ब...       1\n",
      "...                                                 ...     ...\n",
      "2580                                रन्डी भालु सत्यता ।       3\n",
      "2582  आईमाई 100% पागलखाना लानु पर्न्ने भो तेति बेला ...       2\n",
      "2583  अरू जान्दैनो हामी जनता यस्ता खाल कंलड़कित आईमाई...       2\n",
      "2584     यस्ता मुजी आइमाइ , , बरू एउटा अड्डा खोलेर बस ।       2\n",
      "2590                            मुजी आईमाई फटाई रहिछे !       2\n",
      "\n",
      "[260 rows x 2 columns]\n"
     ]
    }
   ],
   "source": [
    "# Duplicate condition here\n",
    "profanity_duplicates_condition = [{0, 2}, {0, 3}, {1, 2}, {1, 3}]\n",
    "\n",
    "profanity_duplicates_in_general = (\n",
    "    df.groupby('Text')['Target'].apply(lambda x: set(x) in profanity_duplicates_condition)\n",
    ")\n",
    "\n",
    "# Filter for groups that have a valid target combination\n",
    "duplicates = profanity_duplicates_in_general[profanity_duplicates_in_general].index\n",
    "\n",
    "# Merge with the original DataFrame to retrieve full details\n",
    "duplicates_full = df[df['Text'].isin(duplicates)]\n",
    "\n",
    "print(duplicates_full)"
   ]
  },
  {
   "cell_type": "code",
   "execution_count": 4,
   "id": "a391ebb5-6a6b-4163-95f1-2f0242b7ff07",
   "metadata": {},
   "outputs": [
    {
     "data": {
      "text/plain": [
       "Target\n",
       "1    1239\n",
       "0     890\n",
       "2     250\n",
       "5     159\n",
       "4     108\n",
       "3      83\n",
       "Name: count, dtype: int64"
      ]
     },
     "execution_count": 4,
     "metadata": {},
     "output_type": "execute_result"
    }
   ],
   "source": [
    "# Create a mask for rows that are in duplicates_full and have Target 0 or 1\n",
    "mask = df.index.isin(duplicates_full.index) & df['Target'].isin([0, 1])\n",
    "\n",
    "# Filter out those rows from the original df\n",
    "df = df[~mask]\n",
    "\n",
    "df.loc[:,\"Target\"].value_counts()"
   ]
  },
  {
   "cell_type": "markdown",
   "id": "47e4106d-7f6b-4b55-8ad5-8ca8962a6e8f",
   "metadata": {},
   "source": [
    "## We accomplished removing profanity in general, now time for violence"
   ]
  },
  {
   "cell_type": "code",
   "execution_count": 5,
   "id": "185b49b7-bcef-4ad7-ae73-fb51f6ba6a8b",
   "metadata": {},
   "outputs": [
    {
     "name": "stdout",
     "output_type": "stream",
     "text": [
      "                                                   Text  Target\n",
      "12    गान्धी भारत anti हिन्दु हुदा नाथुराम गोद्से गन...       1\n",
      "67    बाहुन हु बाहुन क्षेत्री नाम कलङ्क हरुलाइ चरम य...       1\n",
      "140   टुड़ीखेल लखेटी लखेटी जुत्ता पिट्नु पर्ने मान्छे...       1\n",
      "169   लुट्न लाइसन्स पाए नेता लाखाै लाख जनता मारेर कम...       1\n",
      "183   सरकार अदालत प्रहरी सेना अखितियार सरकार निकाय ह...       0\n",
      "...                                                 ...     ...\n",
      "2840  नेपाल प्रहरी लुटेरा , सून तस्करी , सुन्तली धाम...       5\n",
      "2841  डिआई जि झुटो बोल्दै छँस ज्ञानेन्द्र शाई तिमि ह...       4\n",
      "2842  डिपार्टमेंट बचाउन गलत बयान जनता सुरक्षा दिन मर...       5\n",
      "2852  भ्रष्टाचारी , घुस्खोरी , नेपाल प्रहरी भाला मत्...       5\n",
      "2853  हिरासत यातना हैन प्रहरी भ्रष्टाचार प्रहरी आखा ...       5\n",
      "\n",
      "[178 rows x 2 columns]\n"
     ]
    }
   ],
   "source": [
    "# Duplicate condition here\n",
    "violence_duplicates_condition = [{0, 4}, {0, 5}, {1, 4}, {1, 5}]\n",
    "\n",
    "violence_duplicates_in_general = (\n",
    "    df.groupby('Text')['Target'].apply(lambda x: set(x) in violence_duplicates_condition)\n",
    ")\n",
    "\n",
    "# Filter for groups that have a valid target combination\n",
    "duplicates2 = violence_duplicates_in_general[violence_duplicates_in_general].index\n",
    "\n",
    "# Merge with the original DataFrame to retrieve full details\n",
    "duplicates_full2 = df[df['Text'].isin(duplicates2)]\n",
    "\n",
    "print(duplicates_full2)"
   ]
  },
  {
   "cell_type": "code",
   "execution_count": 6,
   "id": "647c14cc-5525-4266-bfd2-b563db8d24eb",
   "metadata": {},
   "outputs": [
    {
     "data": {
      "text/plain": [
       "Target\n",
       "1    1165\n",
       "0     875\n",
       "2     250\n",
       "5     159\n",
       "4     108\n",
       "3      83\n",
       "Name: count, dtype: int64"
      ]
     },
     "execution_count": 6,
     "metadata": {},
     "output_type": "execute_result"
    }
   ],
   "source": [
    "# Create a mask for rows that are in duplicates_full and have Target 0 or 1\n",
    "mask2 = df.index.isin(duplicates_full2.index) & df['Target'].isin([0, 1])\n",
    "\n",
    "# Filter out those rows from the original df\n",
    "df = df[~mask2]\n",
    "\n",
    "df.loc[:,\"Target\"].value_counts()"
   ]
  },
  {
   "cell_type": "markdown",
   "id": "1647e9b6-83b3-4b08-8f72-fd5b08644ccf",
   "metadata": {},
   "source": [
    "## now we save this dataset"
   ]
  },
  {
   "cell_type": "code",
   "execution_count": 7,
   "id": "7da9b2fc-e440-435d-a86d-e3a1eefdb599",
   "metadata": {},
   "outputs": [],
   "source": [
    "df.to_csv(\"./Data/Cleaned_Nepali_dataset_v2.csv\", index= False)"
   ]
  },
  {
   "cell_type": "markdown",
   "id": "8cf9e747-754c-4a05-821b-1a373c1cc2e5",
   "metadata": {},
   "source": [
    "## let's run above code to be sure the duplicates were remove"
   ]
  },
  {
   "cell_type": "code",
   "execution_count": 8,
   "id": "6f895b6e-1252-418d-b07d-5ec71aef4ea5",
   "metadata": {},
   "outputs": [
    {
     "name": "stdout",
     "output_type": "stream",
     "text": [
      "Empty DataFrame\n",
      "Columns: [Text, Target]\n",
      "Index: []\n"
     ]
    }
   ],
   "source": [
    "# Duplicate condition here\n",
    "profanity_duplicates_condition = [{0, 2}, {0, 3}, {1, 2}, {1, 3}]\n",
    "\n",
    "profanity_duplicates_in_general = (\n",
    "    df.groupby('Text')['Target'].apply(lambda x: set(x) in profanity_duplicates_condition)\n",
    ")\n",
    "\n",
    "# Filter for groups that have a valid target combination\n",
    "duplicates = profanity_duplicates_in_general[profanity_duplicates_in_general].index\n",
    "\n",
    "# Merge with the original DataFrame to retrieve full details\n",
    "duplicates_full = df[df['Text'].isin(duplicates)]\n",
    "\n",
    "print(duplicates_full)"
   ]
  },
  {
   "cell_type": "markdown",
   "id": "4959e72c-a808-45eb-8d97-8bfe3bf243e6",
   "metadata": {},
   "source": [
    "## looks good, so the data is totally deduplicated\n"
   ]
  },
  {
   "cell_type": "code",
   "execution_count": 9,
   "id": "77b32c9c-a77f-4e97-9992-e7491e401d9c",
   "metadata": {},
   "outputs": [
    {
     "name": "stdout",
     "output_type": "stream",
     "text": [
      "Looking in indexes: https://pypi.org/simple, https://packagecloud.io/github/git-lfs/pypi/simple\n",
      "Requirement already satisfied: nephased in /home/angel-tamang/myenv/lib/python3.11/site-packages (0.0.32)\n",
      "Requirement already satisfied: torch>=2.5.1 in /home/angel-tamang/myenv/lib/python3.11/site-packages (from nephased) (2.6.0)\n",
      "Requirement already satisfied: transformers>=4.0.0 in /home/angel-tamang/myenv/lib/python3.11/site-packages (from nephased) (4.48.3)\n",
      "Requirement already satisfied: nepali-stemmer>=0.0.2 in /home/angel-tamang/myenv/lib/python3.11/site-packages (from nephased) (0.0.2)\n",
      "Requirement already satisfied: nltk>=3.9.1 in /home/angel-tamang/myenv/lib/python3.11/site-packages (from nephased) (3.9.1)\n",
      "Requirement already satisfied: optimum>=1.24.0 in /home/angel-tamang/myenv/lib/python3.11/site-packages (from nephased) (1.24.0)\n",
      "Requirement already satisfied: importlib_resources>=6.5.2 in /home/angel-tamang/myenv/lib/python3.11/site-packages (from nephased) (6.5.2)\n",
      "Requirement already satisfied: click in /home/angel-tamang/myenv/lib/python3.11/site-packages (from nltk>=3.9.1->nephased) (8.1.7)\n",
      "Requirement already satisfied: joblib in /home/angel-tamang/myenv/lib/python3.11/site-packages (from nltk>=3.9.1->nephased) (1.4.2)\n",
      "Requirement already satisfied: regex>=2021.8.3 in /home/angel-tamang/myenv/lib/python3.11/site-packages (from nltk>=3.9.1->nephased) (2024.11.6)\n",
      "Requirement already satisfied: tqdm in /home/angel-tamang/myenv/lib/python3.11/site-packages (from nltk>=3.9.1->nephased) (4.67.0)\n",
      "Requirement already satisfied: packaging in /home/angel-tamang/myenv/lib/python3.11/site-packages (from optimum>=1.24.0->nephased) (24.2)\n",
      "Requirement already satisfied: numpy in /home/angel-tamang/myenv/lib/python3.11/site-packages (from optimum>=1.24.0->nephased) (1.26.4)\n",
      "Requirement already satisfied: huggingface-hub>=0.8.0 in /home/angel-tamang/myenv/lib/python3.11/site-packages (from optimum>=1.24.0->nephased) (0.26.2)\n",
      "Requirement already satisfied: filelock in /home/angel-tamang/myenv/lib/python3.11/site-packages (from torch>=2.5.1->nephased) (3.16.1)\n",
      "Requirement already satisfied: typing-extensions>=4.10.0 in /home/angel-tamang/myenv/lib/python3.11/site-packages (from torch>=2.5.1->nephased) (4.12.2)\n",
      "Requirement already satisfied: networkx in /home/angel-tamang/myenv/lib/python3.11/site-packages (from torch>=2.5.1->nephased) (3.4.2)\n",
      "Requirement already satisfied: jinja2 in /home/angel-tamang/myenv/lib/python3.11/site-packages (from torch>=2.5.1->nephased) (3.1.4)\n",
      "Requirement already satisfied: fsspec in /home/angel-tamang/myenv/lib/python3.11/site-packages (from torch>=2.5.1->nephased) (2024.9.0)\n",
      "Requirement already satisfied: nvidia-cuda-nvrtc-cu12==12.4.127 in /home/angel-tamang/myenv/lib/python3.11/site-packages (from torch>=2.5.1->nephased) (12.4.127)\n",
      "Requirement already satisfied: nvidia-cuda-runtime-cu12==12.4.127 in /home/angel-tamang/myenv/lib/python3.11/site-packages (from torch>=2.5.1->nephased) (12.4.127)\n",
      "Requirement already satisfied: nvidia-cuda-cupti-cu12==12.4.127 in /home/angel-tamang/myenv/lib/python3.11/site-packages (from torch>=2.5.1->nephased) (12.4.127)\n",
      "Requirement already satisfied: nvidia-cudnn-cu12==9.1.0.70 in /home/angel-tamang/myenv/lib/python3.11/site-packages (from torch>=2.5.1->nephased) (9.1.0.70)\n",
      "Requirement already satisfied: nvidia-cublas-cu12==12.4.5.8 in /home/angel-tamang/myenv/lib/python3.11/site-packages (from torch>=2.5.1->nephased) (12.4.5.8)\n",
      "Requirement already satisfied: nvidia-cufft-cu12==11.2.1.3 in /home/angel-tamang/myenv/lib/python3.11/site-packages (from torch>=2.5.1->nephased) (11.2.1.3)\n",
      "Requirement already satisfied: nvidia-curand-cu12==10.3.5.147 in /home/angel-tamang/myenv/lib/python3.11/site-packages (from torch>=2.5.1->nephased) (10.3.5.147)\n",
      "Requirement already satisfied: nvidia-cusolver-cu12==11.6.1.9 in /home/angel-tamang/myenv/lib/python3.11/site-packages (from torch>=2.5.1->nephased) (11.6.1.9)\n",
      "Requirement already satisfied: nvidia-cusparse-cu12==12.3.1.170 in /home/angel-tamang/myenv/lib/python3.11/site-packages (from torch>=2.5.1->nephased) (12.3.1.170)\n",
      "Requirement already satisfied: nvidia-cusparselt-cu12==0.6.2 in /home/angel-tamang/myenv/lib/python3.11/site-packages (from torch>=2.5.1->nephased) (0.6.2)\n",
      "Requirement already satisfied: nvidia-nccl-cu12==2.21.5 in /home/angel-tamang/myenv/lib/python3.11/site-packages (from torch>=2.5.1->nephased) (2.21.5)\n",
      "Requirement already satisfied: nvidia-nvtx-cu12==12.4.127 in /home/angel-tamang/myenv/lib/python3.11/site-packages (from torch>=2.5.1->nephased) (12.4.127)\n",
      "Requirement already satisfied: nvidia-nvjitlink-cu12==12.4.127 in /home/angel-tamang/myenv/lib/python3.11/site-packages (from torch>=2.5.1->nephased) (12.4.127)\n",
      "Requirement already satisfied: triton==3.2.0 in /home/angel-tamang/myenv/lib/python3.11/site-packages (from torch>=2.5.1->nephased) (3.2.0)\n",
      "Requirement already satisfied: sympy==1.13.1 in /home/angel-tamang/myenv/lib/python3.11/site-packages (from torch>=2.5.1->nephased) (1.13.1)\n",
      "Requirement already satisfied: mpmath<1.4,>=1.1.0 in /home/angel-tamang/myenv/lib/python3.11/site-packages (from sympy==1.13.1->torch>=2.5.1->nephased) (1.3.0)\n",
      "Requirement already satisfied: pyyaml>=5.1 in /home/angel-tamang/myenv/lib/python3.11/site-packages (from transformers>=4.0.0->nephased) (6.0.1)\n",
      "Requirement already satisfied: requests in /home/angel-tamang/myenv/lib/python3.11/site-packages (from transformers>=4.0.0->nephased) (2.32.3)\n",
      "Requirement already satisfied: tokenizers<0.22,>=0.21 in /home/angel-tamang/myenv/lib/python3.11/site-packages (from transformers>=4.0.0->nephased) (0.21.0)\n",
      "Requirement already satisfied: safetensors>=0.4.1 in /home/angel-tamang/myenv/lib/python3.11/site-packages (from transformers>=4.0.0->nephased) (0.5.2)\n",
      "Requirement already satisfied: MarkupSafe>=2.0 in /home/angel-tamang/myenv/lib/python3.11/site-packages (from jinja2->torch>=2.5.1->nephased) (2.1.5)\n",
      "Requirement already satisfied: charset-normalizer<4,>=2 in /home/angel-tamang/myenv/lib/python3.11/site-packages (from requests->transformers>=4.0.0->nephased) (3.3.2)\n",
      "Requirement already satisfied: idna<4,>=2.5 in /home/angel-tamang/myenv/lib/python3.11/site-packages (from requests->transformers>=4.0.0->nephased) (3.7)\n",
      "Requirement already satisfied: urllib3<3,>=1.21.1 in /home/angel-tamang/myenv/lib/python3.11/site-packages (from requests->transformers>=4.0.0->nephased) (2.2.2)\n",
      "Requirement already satisfied: certifi>=2017.4.17 in /home/angel-tamang/myenv/lib/python3.11/site-packages (from requests->transformers>=4.0.0->nephased) (2024.7.4)\n",
      "\u001b[33mWARNING: Error parsing dependencies of textract: .* suffix can only be used with `==` or `!=` operators\n",
      "    extract-msg (<=0.29.*)\n",
      "                 ~~~~~~~^\u001b[0m\u001b[33m\n",
      "\u001b[0m\u001b[33mWARNING: Error parsing dependencies of omegaconf: .* suffix can only be used with `==` or `!=` operators\n",
      "    PyYAML (>=5.1.*)\n",
      "            ~~~~~~^\u001b[0m\u001b[33m\n",
      "\u001b[0m\n",
      "\u001b[1m[\u001b[0m\u001b[34;49mnotice\u001b[0m\u001b[1;39;49m]\u001b[0m\u001b[39;49m A new release of pip is available: \u001b[0m\u001b[31;49m25.0\u001b[0m\u001b[39;49m -> \u001b[0m\u001b[32;49m25.0.1\u001b[0m\n",
      "\u001b[1m[\u001b[0m\u001b[34;49mnotice\u001b[0m\u001b[1;39;49m]\u001b[0m\u001b[39;49m To update, run: \u001b[0m\u001b[32;49mpip install --upgrade pip\u001b[0m\n"
     ]
    }
   ],
   "source": [
    "!pip install nephased"
   ]
  },
  {
   "cell_type": "code",
   "execution_count": 10,
   "id": "185c8280-fbf7-45cf-9544-a99928785c18",
   "metadata": {},
   "outputs": [
    {
     "name": "stderr",
     "output_type": "stream",
     "text": [
      "Exception ignored in: <bound method IPythonKernel._clean_thread_parent_frames of <ipykernel.ipkernel.IPythonKernel object at 0x7ff7e94f8450>>\n",
      "Traceback (most recent call last):\n",
      "  File \"/home/angel-tamang/myenv/lib/python3.11/site-packages/ipykernel/ipkernel.py\", line 775, in _clean_thread_parent_frames\n",
      "    def _clean_thread_parent_frames(\n",
      "\n",
      "KeyboardInterrupt: \n",
      "Device set to use cpu\n"
     ]
    },
    {
     "data": {
      "text/plain": [
       "'GENERAL'"
      ]
     },
     "execution_count": 10,
     "metadata": {},
     "output_type": "execute_result"
    }
   ],
   "source": [
    "from nephased import Nephased\n",
    "\n",
    "clf = Nephased()\n",
    "clf.predict(\"ज़िन्दा जलाईनेछ\")"
   ]
  },
  {
   "cell_type": "code",
   "execution_count": 11,
   "id": "10b3f18b-e80c-4bd7-bfb4-41b97a20989c",
   "metadata": {},
   "outputs": [
    {
     "data": {
      "text/plain": [
       "'GENERAL'"
      ]
     },
     "execution_count": 11,
     "metadata": {},
     "output_type": "execute_result"
    }
   ],
   "source": [
    "clf.predict('''यस्तो काम गर्ने मान्छेलाई त नांगै पार्नुपर्छ, सबका अगाडि''')"
   ]
  }
 ],
 "metadata": {
  "kernelspec": {
   "display_name": "Python 3 (ipykernel)",
   "language": "python",
   "name": "python3"
  },
  "language_info": {
   "codemirror_mode": {
    "name": "ipython",
    "version": 3
   },
   "file_extension": ".py",
   "mimetype": "text/x-python",
   "name": "python",
   "nbconvert_exporter": "python",
   "pygments_lexer": "ipython3",
   "version": "3.11.4"
  }
 },
 "nbformat": 4,
 "nbformat_minor": 5
}
