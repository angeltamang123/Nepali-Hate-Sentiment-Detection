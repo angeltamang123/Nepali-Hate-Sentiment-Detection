{
 "cells": [
  {
   "cell_type": "code",
   "execution_count": 1,
   "id": "ab321095-68ed-4151-b74e-0ba019cb5eba",
   "metadata": {},
   "outputs": [
    {
     "data": {
      "text/html": [
       "<div>\n",
       "<style scoped>\n",
       "    .dataframe tbody tr th:only-of-type {\n",
       "        vertical-align: middle;\n",
       "    }\n",
       "\n",
       "    .dataframe tbody tr th {\n",
       "        vertical-align: top;\n",
       "    }\n",
       "\n",
       "    .dataframe thead th {\n",
       "        text-align: right;\n",
       "    }\n",
       "</style>\n",
       "<table border=\"1\" class=\"dataframe\">\n",
       "  <thead>\n",
       "    <tr style=\"text-align: right;\">\n",
       "      <th></th>\n",
       "      <th>TEXT</th>\n",
       "      <th>ASPECT_TERM</th>\n",
       "      <th>COLLECTED_BY</th>\n",
       "      <th>COLLECTOR'S_ANNOTATION</th>\n",
       "      <th>ANGEL'S_ANNOTATION</th>\n",
       "    </tr>\n",
       "  </thead>\n",
       "  <tbody>\n",
       "    <tr>\n",
       "      <th>0</th>\n",
       "      <td>कमा नत झाथा तेस्को पक्षि कति स्त्रुग्ग्ले थियो...</td>\n",
       "      <td>झाथा</td>\n",
       "      <td>Angel</td>\n",
       "      <td>Profanity_0</td>\n",
       "      <td>Profanity_0</td>\n",
       "    </tr>\n",
       "    <tr>\n",
       "      <th>1</th>\n",
       "      <td>भान्जा रिस उठेकै हो त? कोले भन्यो हान्दिम।</td>\n",
       "      <td>हान्दिम</td>\n",
       "      <td>Angel</td>\n",
       "      <td>Violence_0</td>\n",
       "      <td>Violence_0</td>\n",
       "    </tr>\n",
       "    <tr>\n",
       "      <th>2</th>\n",
       "      <td>अनुहर त गतिलो त होएन मादेर्चुत</td>\n",
       "      <td>मादेर्चुत</td>\n",
       "      <td>Angel</td>\n",
       "      <td>Profanity_1</td>\n",
       "      <td>Profanity_1</td>\n",
       "    </tr>\n",
       "    <tr>\n",
       "      <th>3</th>\n",
       "      <td>को विकरी हो यो एस्लै नेपाल सर्कर बटा विकरी भट्...</td>\n",
       "      <td>विकरी हो</td>\n",
       "      <td>Angel</td>\n",
       "      <td>Profanity_0</td>\n",
       "      <td>Profanity_0</td>\n",
       "    </tr>\n",
       "    <tr>\n",
       "      <th>4</th>\n",
       "      <td>घण्टा को राजा  । टेरी मा दास कमरो । अर्को चोती...</td>\n",
       "      <td>घण्टा को</td>\n",
       "      <td>Angel</td>\n",
       "      <td>Profanity_0</td>\n",
       "      <td>Profanity_1</td>\n",
       "    </tr>\n",
       "  </tbody>\n",
       "</table>\n",
       "</div>"
      ],
      "text/plain": [
       "                                                TEXT ASPECT_TERM COLLECTED_BY  \\\n",
       "0  कमा नत झाथा तेस्को पक्षि कति स्त्रुग्ग्ले थियो...        झाथा        Angel   \n",
       "1         भान्जा रिस उठेकै हो त? कोले भन्यो हान्दिम।     हान्दिम        Angel   \n",
       "2                    अनुहर त गतिलो त होएन मादेर्चुत    मादेर्चुत        Angel   \n",
       "3  को विकरी हो यो एस्लै नेपाल सर्कर बटा विकरी भट्...    विकरी हो        Angel   \n",
       "4  घण्टा को राजा  । टेरी मा दास कमरो । अर्को चोती...    घण्टा को        Angel   \n",
       "\n",
       "  COLLECTOR'S_ANNOTATION ANGEL'S_ANNOTATION  \n",
       "0            Profanity_0        Profanity_0  \n",
       "1             Violence_0         Violence_0  \n",
       "2            Profanity_1        Profanity_1  \n",
       "3            Profanity_0        Profanity_0  \n",
       "4            Profanity_0        Profanity_1  "
      ]
     },
     "execution_count": 1,
     "metadata": {},
     "output_type": "execute_result"
    }
   ],
   "source": [
    "import pandas as pd\n",
    "import numpy as np\n",
    "import matplotlib.pyplot as plt\n",
    "\n",
    "df = pd.read_csv(\"./Data/NepSa_minority_data.csv\")\n",
    "df.head()\n"
   ]
  },
  {
   "cell_type": "code",
   "execution_count": 2,
   "id": "b04b4e76-36e6-44ad-bb96-20497a124915",
   "metadata": {},
   "outputs": [
    {
     "name": "stdout",
     "output_type": "stream",
     "text": [
      "<class 'pandas.core.frame.DataFrame'>\n",
      "RangeIndex: 2068 entries, 0 to 2067\n",
      "Data columns (total 5 columns):\n",
      " #   Column                  Non-Null Count  Dtype \n",
      "---  ------                  --------------  ----- \n",
      " 0   TEXT                    2068 non-null   object\n",
      " 1   ASPECT_TERM             2067 non-null   object\n",
      " 2   COLLECTED_BY            2065 non-null   object\n",
      " 3   COLLECTOR'S_ANNOTATION  2064 non-null   object\n",
      " 4   ANGEL'S_ANNOTATION      2064 non-null   object\n",
      "dtypes: object(5)\n",
      "memory usage: 80.9+ KB\n"
     ]
    }
   ],
   "source": [
    "df.info()"
   ]
  },
  {
   "cell_type": "code",
   "execution_count": 3,
   "id": "30b476d9-0b07-4b66-93c6-4fb29df2351d",
   "metadata": {},
   "outputs": [
    {
     "name": "stdout",
     "output_type": "stream",
     "text": [
      "COLLECTED_BY\n",
      "Angel       708\n",
      "Aadarsha    648\n",
      "Gaurav      575\n",
      "Anil        134\n",
      "Name: count, dtype: int64\n"
     ]
    }
   ],
   "source": [
    "print(df.loc[:,\"COLLECTED_BY\"].value_counts())"
   ]
  },
  {
   "cell_type": "code",
   "execution_count": 4,
   "id": "048e91a5-1de4-48a0-ae25-73a8e83c3426",
   "metadata": {},
   "outputs": [
    {
     "data": {
      "text/plain": [
       "<Axes: xlabel='COLLECTED_BY'>"
      ]
     },
     "execution_count": 4,
     "metadata": {},
     "output_type": "execute_result"
    },
    {
     "data": {
      "image/png": "[encoded data removed]",
      "text/plain": [
       "<Figure size 640x480 with 1 Axes>"
      ]
     },
     "metadata": {},
     "output_type": "display_data"
    }
   ],
   "source": [
    "df.loc[:,\"COLLECTED_BY\"].value_counts().plot(kind=\"bar\")"
   ]
  },
  {
   "cell_type": "code",
   "execution_count": 5,
   "id": "fc900cf7-7836-4fbc-a089-2841e5a92954",
   "metadata": {},
   "outputs": [
    {
     "name": "stdout",
     "output_type": "stream",
     "text": [
      "ANGEL'S_ANNOTATION\n",
      "Profanity_0    516\n",
      "Violence_1     504\n",
      "Violence_0     501\n",
      "Profanity_1    501\n",
      "General_1       36\n",
      "General_0        6\n",
      "Name: count, dtype: int64\n"
     ]
    }
   ],
   "source": [
    "print(df.loc[:,\"ANGEL'S_ANNOTATION\"].value_counts())"
   ]
  },
  {
   "cell_type": "code",
   "execution_count": 6,
   "id": "757290ac-a5d6-4556-a1bd-9f229a94e5a4",
   "metadata": {},
   "outputs": [
    {
     "data": {
      "text/plain": [
       "Target\n",
       "1    993\n",
       "0    858\n",
       "2    419\n",
       "5    160\n",
       "4    109\n",
       "3    100\n",
       "Name: count, dtype: int64"
      ]
     },
     "execution_count": 6,
     "metadata": {},
     "output_type": "execute_result"
    }
   ],
   "source": [
    "# Checking original dataset\n",
    "df2 = pd.read_csv(\"./Data/Cleaned_Nepali_dataset_v2.csv\")\n",
    "\n",
    "df2.loc[:,\"Target\"].value_counts()"
   ]
  }
 ],
 "metadata": {
  "kernelspec": {
   "display_name": "Python 3 (ipykernel)",
   "language": "python",
   "name": "python3"
  },
  "language_info": {
   "codemirror_mode": {
    "name": "ipython",
    "version": 3
   },
   "file_extension": ".py",
   "mimetype": "text/x-python",
   "name": "python",
   "nbconvert_exporter": "python",
   "pygments_lexer": "ipython3",
   "version": "3.11.4"
  }
 },
 "nbformat": 4,
 "nbformat_minor": 5
}
