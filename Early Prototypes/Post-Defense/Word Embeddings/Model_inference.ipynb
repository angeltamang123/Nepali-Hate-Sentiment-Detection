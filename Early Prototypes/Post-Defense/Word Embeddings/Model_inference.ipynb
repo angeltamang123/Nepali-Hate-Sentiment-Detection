{
 "cells": [
  {
   "cell_type": "code",
   "execution_count": 1,
   "id": "79e5a506-fa56-4b06-bd34-624c4549f915",
   "metadata": {},
   "outputs": [],
   "source": [
    "import numpy as np # linear algebra\n",
    "import pandas as pd # data processing, CSV file I/O (e.g. pd.read_csv)\n",
    "import matplotlib.pyplot as plt\n",
    "import seaborn as sns"
   ]
  },
  {
   "cell_type": "code",
   "execution_count": 2,
   "id": "5cba1fb7-e11a-4724-a9dd-45efdacde4b0",
   "metadata": {},
   "outputs": [
    {
     "name": "stdout",
     "output_type": "stream",
     "text": [
      "Using cpu device\n"
     ]
    }
   ],
   "source": [
    "# Setting up torch\n",
    "import torch\n",
    "\n",
    "device = (\n",
    "    \"cuda\"\n",
    "    if torch.cuda.is_available()\n",
    "    else \"mps\"\n",
    "    if torch.backends.mps.is_available()\n",
    "    else \"cpu\"\n",
    ")\n",
    "print(f\"Using {device} device\")"
   ]
  },
  {
   "cell_type": "code",
   "execution_count": 3,
   "id": "5783fe79-0636-4321-9561-5eaa8fb1fe4f",
   "metadata": {},
   "outputs": [
    {
     "name": "stdout",
     "output_type": "stream",
     "text": [
      "DNN_Classifier(\n",
      "  (fc1): Linear(in_features=300, out_features=64, bias=True)\n",
      "  (bn1): BatchNorm1d(64, eps=1e-05, momentum=0.1, affine=True, track_running_stats=True)\n",
      "  (dropout1): Dropout(p=0.4, inplace=False)\n",
      "  (relu): ReLU()\n",
      "  (fc2): Linear(in_features=64, out_features=32, bias=True)\n",
      "  (bn2): BatchNorm1d(32, eps=1e-05, momentum=0.1, affine=True, track_running_stats=True)\n",
      "  (dropout2): Dropout(p=0.3, inplace=False)\n",
      "  (fc3): Linear(in_features=32, out_features=4, bias=True)\n",
      ")\n"
     ]
    }
   ],
   "source": [
    "# Defining Network\n",
    "import torch\n",
    "import torch.nn as nn\n",
    "import torch.optim as optim\n",
    "\n",
    "# Simple feedforward neural network\n",
    "class DNN_Classifier(nn.Module):\n",
    "    def __init__(self, input_dim, output_dim,input_neurons=64, hidden1_neurons=32, dropout1_rate=0.4, dropout2_rate=0.3):\n",
    "        super(DNN_Classifier, self).__init__()\n",
    "        self.fc1 = nn.Linear(input_dim, input_neurons)\n",
    "        self.bn1 = nn.BatchNorm1d(input_neurons)\n",
    "        self.dropout1 = nn.Dropout(dropout1_rate)\n",
    "        self.relu = nn.ReLU()\n",
    "        self.fc2 = nn.Linear(input_neurons, hidden1_neurons)\n",
    "        self.bn2 = nn.BatchNorm1d(hidden1_neurons)\n",
    "        self.dropout2 = nn.Dropout(dropout2_rate)\n",
    "        self.fc3 = nn.Linear(hidden1_neurons, output_dim) \n",
    "        \n",
    "    def forward(self, x):\n",
    "        x = self.fc1(x)\n",
    "        x = self.bn1(x)\n",
    "        x = self.relu(x)\n",
    "        x = self.dropout1(x)\n",
    "        x = self.fc2(x)\n",
    "        x = self.bn2(x)\n",
    "        x = self.relu(x)\n",
    "        x = self.dropout2(x)\n",
    "        x = self.fc3(x)\n",
    "        return x\n",
    "\n",
    "# Initialization\n",
    "input_dim = 300       # Dimension of embeddings\n",
    "output_dim = 4  # Number of unique classes\n",
    "\n",
    "model = DNN_Classifier(input_dim, output_dim)\n",
    "print(model)"
   ]
  },
  {
   "cell_type": "code",
   "execution_count": 4,
   "id": "fcb083bb-b1cd-4a47-9576-e94f61064cc4",
   "metadata": {},
   "outputs": [
    {
     "data": {
      "text/plain": [
       "DNN_Classifier(\n",
       "  (fc1): Linear(in_features=300, out_features=64, bias=True)\n",
       "  (bn1): BatchNorm1d(64, eps=1e-05, momentum=0.1, affine=True, track_running_stats=True)\n",
       "  (dropout1): Dropout(p=0.4, inplace=False)\n",
       "  (relu): ReLU()\n",
       "  (fc2): Linear(in_features=64, out_features=32, bias=True)\n",
       "  (bn2): BatchNorm1d(32, eps=1e-05, momentum=0.1, affine=True, track_running_stats=True)\n",
       "  (dropout2): Dropout(p=0.3, inplace=False)\n",
       "  (fc3): Linear(in_features=32, out_features=4, bias=True)\n",
       ")"
      ]
     },
     "execution_count": 4,
     "metadata": {},
     "output_type": "execute_result"
    }
   ],
   "source": [
    "# Load the saved weights\n",
    "model.load_state_dict(torch.load(\"/home/angel-tamang/Nepali Hate Sentiment Detection/Project/Post-Defense/Word Embeddings/dnn_classifier.pth\"))\n",
    "\n",
    "# Set the model to evaluation mode\n",
    "model.eval()"
   ]
  },
  {
   "cell_type": "code",
   "execution_count": 5,
   "id": "1a500fb4-7a71-4d80-9eba-a38b1fe0a5d4",
   "metadata": {},
   "outputs": [],
   "source": [
    "from gensim.models import FastText\n",
    "\n",
    "path_to_fastext_model = \"/home/angel-tamang/Nepali Hate Sentiment Detection/Project/Post-Defense/Data/fasttext_model\"\n",
    "\n",
    "fasttext = FastText.load(path_to_fastext_model)\n",
    "\n"
   ]
  },
  {
   "cell_type": "code",
   "execution_count": 6,
   "id": "6b6a86df-ae86-4afe-8eb7-6d6cfc17f979",
   "metadata": {},
   "outputs": [
    {
     "name": "stderr",
     "output_type": "stream",
     "text": [
      "[nltk_data] Downloading package punkt to /home/angel-\n",
      "[nltk_data]     tamang/nltk_data...\n",
      "[nltk_data]   Package punkt is already up-to-date!\n",
      "[nltk_data] Downloading package stopwords to /home/angel-\n",
      "[nltk_data]     tamang/nltk_data...\n",
      "[nltk_data]   Package stopwords is already up-to-date!\n"
     ]
    }
   ],
   "source": [
    "import re\n",
    "import string\n",
    "import nltk\n",
    "from nepali_stemmer.stemmer import NepStemmer\n",
    "from nltk.corpus import stopwords\n",
    "\n",
    "# Download required NLTK data\n",
    "nltk.download('punkt')\n",
    "nltk.download('stopwords')\n",
    "\n",
    "# Load Nepali stopwords\n",
    "nepali_stopwords = set(stopwords.words('nepali'))\n",
    "\n",
    "# Initialize Nepali stemmer\n",
    "nepstem = NepStemmer()\n",
    "\n",
    "# **Preprocessing Function**\n",
    "def preprocess_text(text):\n",
    "    if not isinstance(text, str):\n",
    "        return \"\"  # Handle NaN or non-string values\n",
    "    \n",
    "    # Stemming\n",
    "    text = nepstem.stem(text)\n",
    "    \n",
    "    # Convert to lowercase\n",
    "    text = text.lower()\n",
    "    \n",
    "    # Replace Nepali sentence-ending punctuation (।) with a space\n",
    "    text = re.sub(r'।', ' |', text)\n",
    "    \n",
    "    # Remove punctuation with a space\n",
    "    text = re.sub(r'[' + re.escape(string.punctuation) + ']', ' ', text)\n",
    "    \n",
    "    # Remove multiple dots (……, ...), dashes (---), or similar symbols\n",
    "    text = re.sub(r'[\\.\\-…]+', ' ', text)\n",
    "    \n",
    "    # Remove stopwords\n",
    "    text = ' '.join([word for word in text.split() if word not in nepali_stopwords])\n",
    "    \n",
    "    return text"
   ]
  },
  {
   "cell_type": "code",
   "execution_count": 7,
   "id": "7a7cbac8-987c-4486-8972-9b86be992c30",
   "metadata": {},
   "outputs": [],
   "source": [
    "def text_to_embedding(text):\n",
    "        words = text.split()\n",
    "        valid_word_vectors = [fasttext.wv[word] for word in words if word in fasttext.wv]\n",
    "        if valid_word_vectors:\n",
    "            return np.mean(valid_word_vectors, axis=0)\n",
    "        else:\n",
    "            return np.zeros(fasttext.vector_size)  # Return zero vector if no word matches\n",
    "\n",
    "# **Inference Function**\n",
    "def preprocess_and_predict(text_or_texts, model, device='cpu'):\n",
    "    if isinstance(text_or_texts, str):  # If single text, wrap in a list\n",
    "        text_or_texts = [text_or_texts]\n",
    "\n",
    "    # Step 1: **Preprocess each text**\n",
    "    preprocessed_texts = [preprocess_text(text) for text in text_or_texts]\n",
    "    \n",
    "    # Step 2: **Convert preprocessed text to embeddings**\n",
    "    embeddings = np.array([text_to_embedding(text) for text in preprocessed_texts])  # Shape: (N, 300)\n",
    "    \n",
    "    # Step 3: Convert to PyTorch tensor\n",
    "    input_tensor = torch.tensor(embeddings, dtype=torch.float32).to(device)\n",
    "\n",
    "    # Step 4: Run model inference\n",
    "    model.to(device)\n",
    "    model.eval()\n",
    "    with torch.no_grad():\n",
    "        output = model(input_tensor)\n",
    "        probs = torch.softmax(output, dim=1)\n",
    "        predicted_classes = torch.argmax(probs, dim=1).cpu().numpy()\n",
    "    \n",
    "    return predicted_classes.tolist(), probs.cpu().numpy()\n"
   ]
  },
  {
   "cell_type": "code",
   "execution_count": 8,
   "id": "cfaba5f0-c0ee-4e1a-98f8-543a8716e56e",
   "metadata": {},
   "outputs": [
    {
     "name": "stdout",
     "output_type": "stream",
     "text": [
      "Predicted Class: [1]\n",
      "Confidencce: [[4.7372659e-03 9.8829752e-01 3.5398079e-05 6.9298875e-03]]\n"
     ]
    }
   ],
   "source": [
    "text = \"मेरो नाम दिवाकर हो\"  \n",
    "pred_class, probs = preprocess_and_predict(text, model, device)\n",
    "print(f\"Predicted Class: {pred_class}\")\n",
    "print(f\"Confidencce: {probs}\")"
   ]
  },
  {
   "cell_type": "code",
   "execution_count": null,
   "id": "17624c86-9bd4-476c-8cbd-1fbd32f70b32",
   "metadata": {},
   "outputs": [],
   "source": []
  }
 ],
 "metadata": {
  "kernelspec": {
   "display_name": "Python 3 (ipykernel)",
   "language": "python",
   "name": "python3"
  },
  "language_info": {
   "codemirror_mode": {
    "name": "ipython",
    "version": 3
   },
   "file_extension": ".py",
   "mimetype": "text/x-python",
   "name": "python",
   "nbconvert_exporter": "python",
   "pygments_lexer": "ipython3",
   "version": "3.11.4"
  }
 },
 "nbformat": 4,
 "nbformat_minor": 5
}
