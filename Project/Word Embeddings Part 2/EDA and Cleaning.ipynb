{
 "cells": [
  {
   "cell_type": "code",
   "execution_count": 1,
   "id": "3daf01c2-c800-492f-b6cc-332214208ee0",
   "metadata": {},
   "outputs": [],
   "source": [
    "#library import\n",
    "import pandas as pd # for data manipulation and analysis\n",
    "import numpy as np # for scientific computing with Python\n",
    "import matplotlib.pyplot as plt # for data visualization\n",
    "%matplotlib inline\n",
    "import seaborn as sns # for advanced visualization"
   ]
  },
  {
   "cell_type": "code",
   "execution_count": 2,
   "id": "83e2257a-798f-48b1-b1a0-f8ac08436a86",
   "metadata": {},
   "outputs": [
    {
     "data": {
      "text/html": [
       "<div>\n",
       "<style scoped>\n",
       "    .dataframe tbody tr th:only-of-type {\n",
       "        vertical-align: middle;\n",
       "    }\n",
       "\n",
       "    .dataframe tbody tr th {\n",
       "        vertical-align: top;\n",
       "    }\n",
       "\n",
       "    .dataframe thead th {\n",
       "        text-align: right;\n",
       "    }\n",
       "</style>\n",
       "<table border=\"1\" class=\"dataframe\">\n",
       "  <thead>\n",
       "    <tr style=\"text-align: right;\">\n",
       "      <th></th>\n",
       "      <th>Text</th>\n",
       "      <th>Aspect Term</th>\n",
       "      <th>Sentiment</th>\n",
       "      <th>Polarity</th>\n",
       "    </tr>\n",
       "  </thead>\n",
       "  <tbody>\n",
       "    <tr>\n",
       "      <th>0</th>\n",
       "      <td>गुठी विधेक ल्याएर ठमेल मा राज गुठि को जग्गा मा...</td>\n",
       "      <td>जोगाउन को लागि</td>\n",
       "      <td>GENERAL</td>\n",
       "      <td>0</td>\n",
       "    </tr>\n",
       "    <tr>\n",
       "      <th>1</th>\n",
       "      <td>दले ले देश सकेछन सबै बेचे र खान सुरू गरेछन अब ...</td>\n",
       "      <td>लखेटनु पछ</td>\n",
       "      <td>GENERAL</td>\n",
       "      <td>1</td>\n",
       "    </tr>\n",
       "    <tr>\n",
       "      <th>2</th>\n",
       "      <td>नेपाल को ससकृती ध्वस्त पार्ने योजना हो यो !</td>\n",
       "      <td>ससकृती ध्वस्त पार्ने</td>\n",
       "      <td>GENERAL</td>\n",
       "      <td>1</td>\n",
       "    </tr>\n",
       "    <tr>\n",
       "      <th>3</th>\n",
       "      <td>मठ मन्दिर गुम्बा का जग्गा हरु मा भुमाफिया को न...</td>\n",
       "      <td>भुमाफिया</td>\n",
       "      <td>GENERAL</td>\n",
       "      <td>1</td>\n",
       "    </tr>\n",
       "    <tr>\n",
       "      <th>4</th>\n",
       "      <td>नेपाल का कल कर्खाना र नदि नाला बेची सके अब मठ ...</td>\n",
       "      <td>बेची सके</td>\n",
       "      <td>GENERAL</td>\n",
       "      <td>1</td>\n",
       "    </tr>\n",
       "  </tbody>\n",
       "</table>\n",
       "</div>"
      ],
      "text/plain": [
       "                                                Text           Aspect Term  \\\n",
       "0  गुठी विधेक ल्याएर ठमेल मा राज गुठि को जग्गा मा...        जोगाउन को लागि   \n",
       "1  दले ले देश सकेछन सबै बेचे र खान सुरू गरेछन अब ...             लखेटनु पछ   \n",
       "2        नेपाल को ससकृती ध्वस्त पार्ने योजना हो यो !  ससकृती ध्वस्त पार्ने   \n",
       "3  मठ मन्दिर गुम्बा का जग्गा हरु मा भुमाफिया को न...              भुमाफिया   \n",
       "4  नेपाल का कल कर्खाना र नदि नाला बेची सके अब मठ ...              बेची सके   \n",
       "\n",
       "  Sentiment  Polarity  \n",
       "0   GENERAL         0  \n",
       "1   GENERAL         1  \n",
       "2   GENERAL         1  \n",
       "3   GENERAL         1  \n",
       "4   GENERAL         1  "
      ]
     },
     "execution_count": 2,
     "metadata": {},
     "output_type": "execute_result"
    }
   ],
   "source": [
    "df= pd.read_csv('./Data/Raw/Nepali_dataset_unbal.csv')\n",
    "df.head()"
   ]
  },
  {
   "cell_type": "code",
   "execution_count": 3,
   "id": "693fe2fd-55a0-4c8b-964d-26702ee3a691",
   "metadata": {},
   "outputs": [
    {
     "data": {
      "text/plain": [
       "Sentiment\n",
       "GENERAL      2259\n",
       "PROFANITY     333\n",
       "VIOLENCE      267\n",
       "Name: count, dtype: int64"
      ]
     },
     "execution_count": 3,
     "metadata": {},
     "output_type": "execute_result"
    }
   ],
   "source": [
    "df_copy= df.copy()\n",
    "df_copy.loc[:,'Sentiment'].value_counts()\n"
   ]
  },
  {
   "cell_type": "code",
   "execution_count": 4,
   "id": "1c54066a-a0ac-45f0-9ae2-46adcf084b4c",
   "metadata": {},
   "outputs": [
    {
     "data": {
      "text/plain": [
       "Sentiment  Polarity\n",
       "GENERAL    1           1358\n",
       "           0            901\n",
       "PROFANITY  0            250\n",
       "VIOLENCE   1            159\n",
       "           0            108\n",
       "PROFANITY  1             83\n",
       "Name: count, dtype: int64"
      ]
     },
     "execution_count": 4,
     "metadata": {},
     "output_type": "execute_result"
    }
   ],
   "source": [
    "df_copy.loc[:,'Sentiment':'Polarity'].value_counts()"
   ]
  },
  {
   "cell_type": "code",
   "execution_count": 5,
   "id": "9d5dfa45-6f7a-42ee-ae3a-f3d7f1728108",
   "metadata": {},
   "outputs": [
    {
     "data": {
      "image/png": "[encoded data removed]",
      "text/plain": [
       "<Figure size 640x480 with 1 Axes>"
      ]
     },
     "metadata": {},
     "output_type": "display_data"
    }
   ],
   "source": [
    "# Count Plot of Categories with Polarity\n",
    "df_copy['Polarity'] = df_copy['Polarity'].astype('category')\n",
    "\n",
    "ax= sns.countplot(x='Sentiment',hue='Polarity', data=df_copy)\n",
    "plt.title('Categories Count with polarity')\n",
    "\n",
    "# Add labels to the bars\n",
    "for p in ax.patches:\n",
    "    ax.text(p.get_x() + p.get_width() / 2, p.get_height(), '{:d}'.format(int(p.get_height())), ha='center')\n",
    "# Remove spines\n",
    "sns.despine(left=True, bottom=True)\n",
    "\n",
    "plt.show()"
   ]
  },
  {
   "cell_type": "markdown",
   "id": "5f692644-4603-4459-b19b-b06624d18e1b",
   "metadata": {},
   "source": [
    "## removing punctuation, lowering romans, and removing stopwords"
   ]
  },
  {
   "cell_type": "code",
   "execution_count": 6,
   "id": "d355ad92-c493-4cc8-8eea-505d2a43bc2b",
   "metadata": {},
   "outputs": [
    {
     "name": "stderr",
     "output_type": "stream",
     "text": [
      "[nltk_data] Downloading package punkt to /home/angel-\n",
      "[nltk_data]     tamang/nltk_data...\n",
      "[nltk_data]   Package punkt is already up-to-date!\n",
      "[nltk_data] Downloading package stopwords to /home/angel-\n",
      "[nltk_data]     tamang/nltk_data...\n",
      "[nltk_data]   Package stopwords is already up-to-date!\n"
     ]
    }
   ],
   "source": [
    "import nltk\n",
    "from nltk.tokenize import word_tokenize\n",
    "from gensim.models import Word2Vec\n",
    "import string\n",
    "\n",
    "# Download required NLTK data\n",
    "nltk.download('punkt')\n",
    "nltk.download('stopwords')\n",
    "from nltk.corpus import stopwords\n",
    "nepali_stopwords = stopwords.words('nepali')"
   ]
  },
  {
   "cell_type": "code",
   "execution_count": 7,
   "id": "c112154d-fdfc-4d7f-a40e-72b438db3abe",
   "metadata": {},
   "outputs": [
    {
     "data": {
      "text/html": [
       "<div>\n",
       "<style scoped>\n",
       "    .dataframe tbody tr th:only-of-type {\n",
       "        vertical-align: middle;\n",
       "    }\n",
       "\n",
       "    .dataframe tbody tr th {\n",
       "        vertical-align: top;\n",
       "    }\n",
       "\n",
       "    .dataframe thead th {\n",
       "        text-align: right;\n",
       "    }\n",
       "</style>\n",
       "<table border=\"1\" class=\"dataframe\">\n",
       "  <thead>\n",
       "    <tr style=\"text-align: right;\">\n",
       "      <th></th>\n",
       "      <th>Text</th>\n",
       "      <th>Aspect Term</th>\n",
       "      <th>Sentiment</th>\n",
       "      <th>Polarity</th>\n",
       "    </tr>\n",
       "  </thead>\n",
       "  <tbody>\n",
       "    <tr>\n",
       "      <th>0</th>\n",
       "      <td>गुठी विधेक ल्याएर ठमेल राज गुठि जग्गा छाया सेन...</td>\n",
       "      <td>जोगाउन को लागि</td>\n",
       "      <td>GENERAL</td>\n",
       "      <td>0</td>\n",
       "    </tr>\n",
       "    <tr>\n",
       "      <th>1</th>\n",
       "      <td>दले देश सकेछन बेचे खान सुरू गरेछन दले लखेटनु पछ ।</td>\n",
       "      <td>लखेटनु पछ</td>\n",
       "      <td>GENERAL</td>\n",
       "      <td>1</td>\n",
       "    </tr>\n",
       "    <tr>\n",
       "      <th>2</th>\n",
       "      <td>नेपाल ससकृती ध्वस्त पार्ने योजना !</td>\n",
       "      <td>ससकृती ध्वस्त पार्ने</td>\n",
       "      <td>GENERAL</td>\n",
       "      <td>1</td>\n",
       "    </tr>\n",
       "    <tr>\n",
       "      <th>3</th>\n",
       "      <td>मठ मन्दिर गुम्बा जग्गा हरु भुमाफिया नजर परे हु...</td>\n",
       "      <td>भुमाफिया</td>\n",
       "      <td>GENERAL</td>\n",
       "      <td>1</td>\n",
       "    </tr>\n",
       "    <tr>\n",
       "      <th>4</th>\n",
       "      <td>नेपाल कल कर्खाना नदि नाला बेची सके मठ मन्दीर ब...</td>\n",
       "      <td>बेची सके</td>\n",
       "      <td>GENERAL</td>\n",
       "      <td>1</td>\n",
       "    </tr>\n",
       "  </tbody>\n",
       "</table>\n",
       "</div>"
      ],
      "text/plain": [
       "                                                Text           Aspect Term  \\\n",
       "0  गुठी विधेक ल्याएर ठमेल राज गुठि जग्गा छाया सेन...        जोगाउन को लागि   \n",
       "1  दले देश सकेछन बेचे खान सुरू गरेछन दले लखेटनु पछ ।             लखेटनु पछ   \n",
       "2                 नेपाल ससकृती ध्वस्त पार्ने योजना !  ससकृती ध्वस्त पार्ने   \n",
       "3  मठ मन्दिर गुम्बा जग्गा हरु भुमाफिया नजर परे हु...              भुमाफिया   \n",
       "4  नेपाल कल कर्खाना नदि नाला बेची सके मठ मन्दीर ब...              बेची सके   \n",
       "\n",
       "  Sentiment  Polarity  \n",
       "0   GENERAL         0  \n",
       "1   GENERAL         1  \n",
       "2   GENERAL         1  \n",
       "3   GENERAL         1  \n",
       "4   GENERAL         1  "
      ]
     },
     "execution_count": 7,
     "metadata": {},
     "output_type": "execute_result"
    }
   ],
   "source": [
    "df_copy= df.copy()\n",
    "\n",
    "# Apply preprocessing: remove punctuation, stopwords removal and lowering to the 'Text' column\n",
    "df_copy['Text'] = (\n",
    "    df_copy['Text']\n",
    "    .str.lower()               # Convert to lowercase\n",
    "    .str.replace(f\"[{string.punctuation}]\", \"\")  # Remove punctuation\n",
    "    .apply(lambda x: ' '.join([word for word in x.split() if word not in nepali_stopwords]))  # Remove Nepali stopwords\n",
    ")\n",
    "\n",
    "df_copy.head()"
   ]
  },
  {
   "cell_type": "markdown",
   "id": "43327f4f-d97e-472f-a784-296e9cf97897",
   "metadata": {},
   "source": [
    "## now checking vocabulary"
   ]
  },
  {
   "cell_type": "code",
   "execution_count": 8,
   "id": "402ce808-95fb-4a94-9b5a-0055c3cbbbe9",
   "metadata": {},
   "outputs": [
    {
     "name": "stdout",
     "output_type": "stream",
     "text": [
      "Top 10 most frequent words:\n",
      "।: 2512\n",
      ",: 672\n",
      "हरु: 640\n",
      "देश: 292\n",
      "नेता: 286\n",
      "रबि: 276\n",
      "नेपाल: 259\n",
      "सर: 235\n",
      "जनता: 207\n",
      "चोर: 203\n",
      "\n",
      "Top 10 least frequent words:\n",
      "दुबेर: 1\n",
      "कुवा: 1\n",
      "मिलिहाल्छ: 1\n",
      "हिंग्सा: 1\n",
      "सुद्दी: 1\n",
      "टांग्नु: 1\n",
      "भित्ता: 1\n",
      "तारेर: 1\n",
      "साँच्चि: 1\n",
      "हेरुम: 1\n",
      "Vocabulary Size: 8615\n"
     ]
    }
   ],
   "source": [
    "from collections import Counter\n",
    "texts = df_copy['Text']\n",
    "all_words = \" \".join(texts).split()\n",
    "\n",
    "# Count word frequencies\n",
    "word_counts = Counter(all_words)\n",
    "\n",
    "# Get the 10 most common words\n",
    "most_common_words = word_counts.most_common(10)\n",
    "\n",
    "# Get the 10 least common words\n",
    "least_common_words = word_counts.most_common()[:-11:-1]  # last 10 elements (reverse order)\n",
    "\n",
    "# Print top 10 most common words\n",
    "print(\"Top 10 most frequent words:\")\n",
    "for word, freq in most_common_words:\n",
    "    print(f\"{word}: {freq}\")\n",
    "\n",
    "# Print top 10 least common words\n",
    "print(\"\\nTop 10 least frequent words:\")\n",
    "for word, freq in least_common_words:\n",
    "    print(f\"{word}: {freq}\")\n",
    "\n",
    "# Count unique words\n",
    "unique_words = set(all_words)\n",
    "\n",
    "# Vocabulary size\n",
    "vocabulary_size = len(unique_words)\n",
    "print(f\"Vocabulary Size: {vocabulary_size}\")"
   ]
  },
  {
   "cell_type": "code",
   "execution_count": 10,
   "id": "eeda83d9-14b3-41d1-9279-0b3ed6548eb7",
   "metadata": {},
   "outputs": [
    {
     "name": "stdout",
     "output_type": "stream",
     "text": [
      "['छ', 'र', 'पनि', 'छन्', 'लागि', 'भएको', 'गरेको', 'भने', 'गर्न', 'गर्ने', 'हो', 'तथा', 'यो', 'रहेको', 'उनले', 'थियो', 'हुने', 'गरेका', 'थिए', 'गर्दै', 'तर', 'नै', 'को', 'मा', 'हुन्', 'भन्ने', 'हुन', 'गरी', 'त', 'हुन्छ', 'अब', 'के', 'रहेका', 'गरेर', 'छैन', 'दिए', 'भए', 'यस', 'ले', 'गर्नु', 'औं', 'सो', 'त्यो', 'कि', 'जुन', 'यी', 'का', 'गरि', 'ती', 'न', 'छु', 'छौं', 'लाई', 'नि', 'उप', 'अक्सर', 'आदि', 'कसरी', 'क्रमशः', 'चाले', 'अगाडी', 'अझै', 'अनुसार', 'अन्तर्गत', 'अन्य', 'अन्यत्र', 'अन्यथा', 'अरु', 'अरुलाई', 'अर्को', 'अर्थात', 'अर्थात्', 'अलग', 'आए', 'आजको', 'ओठ', 'आत्म', 'आफू', 'आफूलाई', 'आफ्नै', 'आफ्नो', 'आयो', 'उदाहरण', 'उनको', 'उहालाई', 'एउटै', 'एक', 'एकदम', 'कतै', 'कम से कम', 'कसै', 'कसैले', 'कहाँबाट', 'कहिलेकाहीं', 'का', 'किन', 'किनभने', 'कुनै', 'कुरा', 'कृपया', 'केही', 'कोही', 'गए', 'गरौं', 'गर्छ', 'गर्छु', 'गर्नुपर्छ', 'गयौ', 'गैर', 'चार', 'चाहनुहुन्छ', 'चाहन्छु', 'चाहिए', 'छू', 'जताततै', 'जब', 'जबकि', 'जसको', 'जसबाट', 'जसमा', 'जसलाई', 'जसले', 'जस्तै', 'जस्तो', 'जस्तोसुकै', 'जहाँ', 'जान', 'जाहिर', 'जे', 'जो', 'ठीक', 'तत्काल', 'तदनुसार', 'तपाईको', 'तपाई', 'पर्याप्त', 'पहिले', 'पहिलो', 'पहिल्यै', 'पाँच', 'पाँचौं', 'तल', 'तापनी', 'तिनी', 'तिनीहरू', 'तिनीहरुको', 'तिनिहरुलाई', 'तिमी', 'तिर', 'तीन', 'तुरुन्तै', 'तेस्रो', 'तेस्कारण', 'पूर्व', 'प्रति', 'प्रतेक', 'प्लस', 'फेरी', 'बने', 'त्सपछि', 'त्सैले', 'त्यहाँ', 'थिएन', 'दिनुभएको', 'दिनुहुन्छ', 'दुई', 'देखि', 'बरु', 'बारे', 'बाहिर', 'देखिन्छ', 'देखियो', 'देखे', 'देखेको', 'देखेर', 'दोस्रो', 'धेरै', 'नजिकै', 'नत्र', 'नयाँ', 'निम्ति', 'बाहेक', 'बीच', 'बीचमा', 'भन', 'निम्न', 'निम्नानुसार', 'निर्दिष्ट', 'नौ', 'पक्का', 'पक्कै', 'पछि', 'पछिल्लो', 'पटक', 'पर्छ', 'पर्थ्यो', 'भन्छन्', 'भन्', 'भन्छु', 'भन्दा', 'भन्नुभयो', 'भर', 'भित्र', 'भित्री', 'म', 'मलाई', 'मात्र', 'माथि', 'मुख्य', 'मेरो', 'यति', 'यथोचित', 'यदि', 'यद्यपि', 'यसको', 'यसपछि', 'यसबाहेक', 'यसरी', 'यसो', 'यस्तो', 'यहाँ', 'यहाँसम्म', 'या', 'रही', 'राखे', 'राख्छ', 'राम्रो', 'रूप', 'लगभग', 'वरीपरी', 'वास्तवमा', 'बिरुद्ध', 'बिशेष', 'सायद', 'शायद', 'संग', 'संगै', 'सक्छ', 'सट्टा', 'सधै', 'सबै', 'सबैलाई', 'समय', 'सम्भव', 'सम्म', 'सही', 'साँच्चै', 'सात', 'साथ', 'साथै', 'सारा', 'सोही', 'स्पष्ट', 'हरे', 'हरेक']\n"
     ]
    }
   ],
   "source": [
    "print(nepali_stopwords)"
   ]
  },
  {
   "cell_type": "code",
   "execution_count": 11,
   "id": "d0f3bf85-b713-47c5-9cc7-cd76c9fa9b9a",
   "metadata": {},
   "outputs": [],
   "source": [
    "# Importing custom python script to transform Hate sentiment dataset's Output classes to single target class\n",
    "from create_target_label import create_target_column\n",
    "\n",
    "df_copy,label_encoder = create_target_column(df_copy, \"Sentiment\", \"Polarity\")"
   ]
  },
  {
   "cell_type": "code",
   "execution_count": 12,
   "id": "97d378e7-342b-4a3a-a87b-08bcd60427ba",
   "metadata": {},
   "outputs": [
    {
     "data": {
      "text/plain": [
       "['GENERAL_0',\n",
       " 'GENERAL_1',\n",
       " 'PROFANITY_0',\n",
       " 'PROFANITY_1',\n",
       " 'VIOLENCE_0',\n",
       " 'VIOLENCE_1']"
      ]
     },
     "execution_count": 12,
     "metadata": {},
     "output_type": "execute_result"
    }
   ],
   "source": [
    "list(label_encoder.classes_)"
   ]
  },
  {
   "cell_type": "code",
   "execution_count": 13,
   "id": "2ca7a227-477d-4275-88f6-99d61aa2a962",
   "metadata": {},
   "outputs": [
    {
     "data": {
      "text/html": [
       "<div>\n",
       "<style scoped>\n",
       "    .dataframe tbody tr th:only-of-type {\n",
       "        vertical-align: middle;\n",
       "    }\n",
       "\n",
       "    .dataframe tbody tr th {\n",
       "        vertical-align: top;\n",
       "    }\n",
       "\n",
       "    .dataframe thead th {\n",
       "        text-align: right;\n",
       "    }\n",
       "</style>\n",
       "<table border=\"1\" class=\"dataframe\">\n",
       "  <thead>\n",
       "    <tr style=\"text-align: right;\">\n",
       "      <th></th>\n",
       "      <th>Text</th>\n",
       "      <th>Aspect Term</th>\n",
       "      <th>Target</th>\n",
       "    </tr>\n",
       "  </thead>\n",
       "  <tbody>\n",
       "    <tr>\n",
       "      <th>0</th>\n",
       "      <td>गुठी विधेक ल्याएर ठमेल राज गुठि जग्गा छाया सेन...</td>\n",
       "      <td>जोगाउन को लागि</td>\n",
       "      <td>0</td>\n",
       "    </tr>\n",
       "    <tr>\n",
       "      <th>1</th>\n",
       "      <td>दले देश सकेछन बेचे खान सुरू गरेछन दले लखेटनु पछ ।</td>\n",
       "      <td>लखेटनु पछ</td>\n",
       "      <td>1</td>\n",
       "    </tr>\n",
       "    <tr>\n",
       "      <th>2</th>\n",
       "      <td>नेपाल ससकृती ध्वस्त पार्ने योजना !</td>\n",
       "      <td>ससकृती ध्वस्त पार्ने</td>\n",
       "      <td>1</td>\n",
       "    </tr>\n",
       "    <tr>\n",
       "      <th>3</th>\n",
       "      <td>मठ मन्दिर गुम्बा जग्गा हरु भुमाफिया नजर परे हु...</td>\n",
       "      <td>भुमाफिया</td>\n",
       "      <td>1</td>\n",
       "    </tr>\n",
       "    <tr>\n",
       "      <th>4</th>\n",
       "      <td>नेपाल कल कर्खाना नदि नाला बेची सके मठ मन्दीर ब...</td>\n",
       "      <td>बेची सके</td>\n",
       "      <td>1</td>\n",
       "    </tr>\n",
       "  </tbody>\n",
       "</table>\n",
       "</div>"
      ],
      "text/plain": [
       "                                                Text           Aspect Term  \\\n",
       "0  गुठी विधेक ल्याएर ठमेल राज गुठि जग्गा छाया सेन...        जोगाउन को लागि   \n",
       "1  दले देश सकेछन बेचे खान सुरू गरेछन दले लखेटनु पछ ।             लखेटनु पछ   \n",
       "2                 नेपाल ससकृती ध्वस्त पार्ने योजना !  ससकृती ध्वस्त पार्ने   \n",
       "3  मठ मन्दिर गुम्बा जग्गा हरु भुमाफिया नजर परे हु...              भुमाफिया   \n",
       "4  नेपाल कल कर्खाना नदि नाला बेची सके मठ मन्दीर ब...              बेची सके   \n",
       "\n",
       "   Target  \n",
       "0       0  \n",
       "1       1  \n",
       "2       1  \n",
       "3       1  \n",
       "4       1  "
      ]
     },
     "execution_count": 13,
     "metadata": {},
     "output_type": "execute_result"
    }
   ],
   "source": [
    "df_copy.head()"
   ]
  },
  {
   "cell_type": "code",
   "execution_count": 14,
   "id": "f0f9c2c1-4c54-4b1a-bf54-92a99c627cb2",
   "metadata": {},
   "outputs": [
    {
     "data": {
      "text/html": [
       "<div>\n",
       "<style scoped>\n",
       "    .dataframe tbody tr th:only-of-type {\n",
       "        vertical-align: middle;\n",
       "    }\n",
       "\n",
       "    .dataframe tbody tr th {\n",
       "        vertical-align: top;\n",
       "    }\n",
       "\n",
       "    .dataframe thead th {\n",
       "        text-align: right;\n",
       "    }\n",
       "</style>\n",
       "<table border=\"1\" class=\"dataframe\">\n",
       "  <thead>\n",
       "    <tr style=\"text-align: right;\">\n",
       "      <th></th>\n",
       "      <th>Text</th>\n",
       "      <th>Target</th>\n",
       "    </tr>\n",
       "  </thead>\n",
       "  <tbody>\n",
       "    <tr>\n",
       "      <th>0</th>\n",
       "      <td>गुठी विधेक ल्याएर ठमेल राज गुठि जग्गा छाया सेन...</td>\n",
       "      <td>0</td>\n",
       "    </tr>\n",
       "    <tr>\n",
       "      <th>1</th>\n",
       "      <td>दले देश सकेछन बेचे खान सुरू गरेछन दले लखेटनु पछ ।</td>\n",
       "      <td>1</td>\n",
       "    </tr>\n",
       "    <tr>\n",
       "      <th>2</th>\n",
       "      <td>नेपाल ससकृती ध्वस्त पार्ने योजना !</td>\n",
       "      <td>1</td>\n",
       "    </tr>\n",
       "    <tr>\n",
       "      <th>3</th>\n",
       "      <td>मठ मन्दिर गुम्बा जग्गा हरु भुमाफिया नजर परे हु...</td>\n",
       "      <td>1</td>\n",
       "    </tr>\n",
       "    <tr>\n",
       "      <th>4</th>\n",
       "      <td>नेपाल कल कर्खाना नदि नाला बेची सके मठ मन्दीर ब...</td>\n",
       "      <td>1</td>\n",
       "    </tr>\n",
       "  </tbody>\n",
       "</table>\n",
       "</div>"
      ],
      "text/plain": [
       "                                                Text  Target\n",
       "0  गुठी विधेक ल्याएर ठमेल राज गुठि जग्गा छाया सेन...       0\n",
       "1  दले देश सकेछन बेचे खान सुरू गरेछन दले लखेटनु पछ ।       1\n",
       "2                 नेपाल ससकृती ध्वस्त पार्ने योजना !       1\n",
       "3  मठ मन्दिर गुम्बा जग्गा हरु भुमाफिया नजर परे हु...       1\n",
       "4  नेपाल कल कर्खाना नदि नाला बेची सके मठ मन्दीर ब...       1"
      ]
     },
     "execution_count": 14,
     "metadata": {},
     "output_type": "execute_result"
    }
   ],
   "source": [
    "df_copy.drop(\"Aspect Term\", axis=1, inplace=True)\n",
    "df_copy.head()"
   ]
  },
  {
   "cell_type": "code",
   "execution_count": 15,
   "id": "d2b98edc-a3cf-40a5-beeb-ba7a2043d489",
   "metadata": {},
   "outputs": [],
   "source": [
    "# Exporting this cleaned text dataset to preprocessed\n",
    "df_copy.to_csv(\"./Data/Preprocessed/Cleaned_Nepali_dataset.csv\", index= False)"
   ]
  },
  {
   "cell_type": "markdown",
   "id": "cd05ee87-1060-43a5-a397-39c8e2ca477e",
   "metadata": {},
   "source": [
    "# Visualizing Embeddings"
   ]
  },
  {
   "cell_type": "code",
   "execution_count": 16,
   "id": "ff889af4-c0e7-4a88-9405-f6bab63aa171",
   "metadata": {},
   "outputs": [
    {
     "data": {
      "text/html": [
       "<div>\n",
       "<style scoped>\n",
       "    .dataframe tbody tr th:only-of-type {\n",
       "        vertical-align: middle;\n",
       "    }\n",
       "\n",
       "    .dataframe tbody tr th {\n",
       "        vertical-align: top;\n",
       "    }\n",
       "\n",
       "    .dataframe thead th {\n",
       "        text-align: right;\n",
       "    }\n",
       "</style>\n",
       "<table border=\"1\" class=\"dataframe\">\n",
       "  <thead>\n",
       "    <tr style=\"text-align: right;\">\n",
       "      <th></th>\n",
       "      <th>0</th>\n",
       "      <th>1</th>\n",
       "      <th>2</th>\n",
       "      <th>3</th>\n",
       "      <th>4</th>\n",
       "      <th>5</th>\n",
       "      <th>6</th>\n",
       "      <th>7</th>\n",
       "      <th>8</th>\n",
       "      <th>9</th>\n",
       "      <th>...</th>\n",
       "      <th>91</th>\n",
       "      <th>92</th>\n",
       "      <th>93</th>\n",
       "      <th>94</th>\n",
       "      <th>95</th>\n",
       "      <th>96</th>\n",
       "      <th>97</th>\n",
       "      <th>98</th>\n",
       "      <th>99</th>\n",
       "      <th>Target</th>\n",
       "    </tr>\n",
       "  </thead>\n",
       "  <tbody>\n",
       "    <tr>\n",
       "      <th>0</th>\n",
       "      <td>0.009149</td>\n",
       "      <td>-0.007363</td>\n",
       "      <td>-0.071428</td>\n",
       "      <td>0.027589</td>\n",
       "      <td>-0.065159</td>\n",
       "      <td>0.101694</td>\n",
       "      <td>0.105503</td>\n",
       "      <td>0.152386</td>\n",
       "      <td>-0.099987</td>\n",
       "      <td>0.016332</td>\n",
       "      <td>...</td>\n",
       "      <td>0.054525</td>\n",
       "      <td>0.068828</td>\n",
       "      <td>-0.157016</td>\n",
       "      <td>0.110741</td>\n",
       "      <td>-0.012304</td>\n",
       "      <td>0.006192</td>\n",
       "      <td>0.058753</td>\n",
       "      <td>-0.128168</td>\n",
       "      <td>-0.057991</td>\n",
       "      <td>0</td>\n",
       "    </tr>\n",
       "    <tr>\n",
       "      <th>1</th>\n",
       "      <td>0.002482</td>\n",
       "      <td>0.000058</td>\n",
       "      <td>-0.042077</td>\n",
       "      <td>0.011284</td>\n",
       "      <td>-0.030093</td>\n",
       "      <td>0.054430</td>\n",
       "      <td>0.055231</td>\n",
       "      <td>0.077490</td>\n",
       "      <td>-0.053737</td>\n",
       "      <td>0.010759</td>\n",
       "      <td>...</td>\n",
       "      <td>0.025602</td>\n",
       "      <td>0.040370</td>\n",
       "      <td>-0.083347</td>\n",
       "      <td>0.058569</td>\n",
       "      <td>-0.006940</td>\n",
       "      <td>-0.000435</td>\n",
       "      <td>0.032125</td>\n",
       "      <td>-0.068946</td>\n",
       "      <td>-0.031247</td>\n",
       "      <td>1</td>\n",
       "    </tr>\n",
       "    <tr>\n",
       "      <th>2</th>\n",
       "      <td>0.001966</td>\n",
       "      <td>-0.007703</td>\n",
       "      <td>-0.066153</td>\n",
       "      <td>0.028400</td>\n",
       "      <td>-0.057853</td>\n",
       "      <td>0.103146</td>\n",
       "      <td>0.102186</td>\n",
       "      <td>0.154472</td>\n",
       "      <td>-0.103730</td>\n",
       "      <td>0.019518</td>\n",
       "      <td>...</td>\n",
       "      <td>0.051543</td>\n",
       "      <td>0.072960</td>\n",
       "      <td>-0.153814</td>\n",
       "      <td>0.113936</td>\n",
       "      <td>-0.013827</td>\n",
       "      <td>0.010765</td>\n",
       "      <td>0.059021</td>\n",
       "      <td>-0.132867</td>\n",
       "      <td>-0.060418</td>\n",
       "      <td>1</td>\n",
       "    </tr>\n",
       "    <tr>\n",
       "      <th>3</th>\n",
       "      <td>0.007659</td>\n",
       "      <td>-0.009294</td>\n",
       "      <td>-0.070562</td>\n",
       "      <td>0.028778</td>\n",
       "      <td>-0.065861</td>\n",
       "      <td>0.099898</td>\n",
       "      <td>0.106717</td>\n",
       "      <td>0.159997</td>\n",
       "      <td>-0.102938</td>\n",
       "      <td>0.016291</td>\n",
       "      <td>...</td>\n",
       "      <td>0.056416</td>\n",
       "      <td>0.072272</td>\n",
       "      <td>-0.162166</td>\n",
       "      <td>0.113751</td>\n",
       "      <td>-0.010432</td>\n",
       "      <td>0.005084</td>\n",
       "      <td>0.059549</td>\n",
       "      <td>-0.131307</td>\n",
       "      <td>-0.061424</td>\n",
       "      <td>1</td>\n",
       "    </tr>\n",
       "    <tr>\n",
       "      <th>4</th>\n",
       "      <td>0.005065</td>\n",
       "      <td>-0.006995</td>\n",
       "      <td>-0.054864</td>\n",
       "      <td>0.024895</td>\n",
       "      <td>-0.051617</td>\n",
       "      <td>0.080223</td>\n",
       "      <td>0.085325</td>\n",
       "      <td>0.127244</td>\n",
       "      <td>-0.087432</td>\n",
       "      <td>0.012062</td>\n",
       "      <td>...</td>\n",
       "      <td>0.047769</td>\n",
       "      <td>0.060087</td>\n",
       "      <td>-0.126974</td>\n",
       "      <td>0.089155</td>\n",
       "      <td>-0.008194</td>\n",
       "      <td>0.003055</td>\n",
       "      <td>0.053891</td>\n",
       "      <td>-0.109733</td>\n",
       "      <td>-0.051792</td>\n",
       "      <td>1</td>\n",
       "    </tr>\n",
       "  </tbody>\n",
       "</table>\n",
       "<p>5 rows × 101 columns</p>\n",
       "</div>"
      ],
      "text/plain": [
       "          0         1         2         3         4         5         6  \\\n",
       "0  0.009149 -0.007363 -0.071428  0.027589 -0.065159  0.101694  0.105503   \n",
       "1  0.002482  0.000058 -0.042077  0.011284 -0.030093  0.054430  0.055231   \n",
       "2  0.001966 -0.007703 -0.066153  0.028400 -0.057853  0.103146  0.102186   \n",
       "3  0.007659 -0.009294 -0.070562  0.028778 -0.065861  0.099898  0.106717   \n",
       "4  0.005065 -0.006995 -0.054864  0.024895 -0.051617  0.080223  0.085325   \n",
       "\n",
       "          7         8         9  ...        91        92        93        94  \\\n",
       "0  0.152386 -0.099987  0.016332  ...  0.054525  0.068828 -0.157016  0.110741   \n",
       "1  0.077490 -0.053737  0.010759  ...  0.025602  0.040370 -0.083347  0.058569   \n",
       "2  0.154472 -0.103730  0.019518  ...  0.051543  0.072960 -0.153814  0.113936   \n",
       "3  0.159997 -0.102938  0.016291  ...  0.056416  0.072272 -0.162166  0.113751   \n",
       "4  0.127244 -0.087432  0.012062  ...  0.047769  0.060087 -0.126974  0.089155   \n",
       "\n",
       "         95        96        97        98        99  Target  \n",
       "0 -0.012304  0.006192  0.058753 -0.128168 -0.057991       0  \n",
       "1 -0.006940 -0.000435  0.032125 -0.068946 -0.031247       1  \n",
       "2 -0.013827  0.010765  0.059021 -0.132867 -0.060418       1  \n",
       "3 -0.010432  0.005084  0.059549 -0.131307 -0.061424       1  \n",
       "4 -0.008194  0.003055  0.053891 -0.109733 -0.051792       1  \n",
       "\n",
       "[5 rows x 101 columns]"
      ]
     },
     "execution_count": 16,
     "metadata": {},
     "output_type": "execute_result"
    }
   ],
   "source": [
    "df_word2vec_scratch = pd.read_csv(\"./Data/Preprocessed/Word2vec_scratch_dataset.csv\")\n",
    "df_word2vec_scratch.head()"
   ]
  },
  {
   "cell_type": "code",
   "execution_count": null,
   "id": "a2c07b25-8b00-442e-ab79-8015f4cd09b1",
   "metadata": {},
   "outputs": [],
   "source": []
  }
 ],
 "metadata": {
  "kernelspec": {
   "display_name": "Python 3 (ipykernel)",
   "language": "python",
   "name": "python3"
  },
  "language_info": {
   "codemirror_mode": {
    "name": "ipython",
    "version": 3
   },
   "file_extension": ".py",
   "mimetype": "text/x-python",
   "name": "python",
   "nbconvert_exporter": "python",
   "pygments_lexer": "ipython3",
   "version": "3.11.4"
  }
 },
 "nbformat": 4,
 "nbformat_minor": 5
}
