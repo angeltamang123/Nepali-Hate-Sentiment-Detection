{
 "cells": [
  {
   "cell_type": "markdown",
   "id": "50e364a9-3252-4cde-b4fe-3fe50643ac62",
   "metadata": {},
   "source": [
    "# This notebook will be about training new embedders, and fine-tuning pre-trained Embedders\n"
   ]
  },
  {
   "cell_type": "markdown",
   "id": "76b9fc0d-6368-4323-8667-fc97c7634f1d",
   "metadata": {},
   "source": [
    "## CBOW architecture has already been tested in previous Part, the embedders below will be on Skip-gram"
   ]
  },
  {
   "cell_type": "code",
   "execution_count": 1,
   "id": "fd46c6cd-7742-4e66-9dc6-ab27f11bb65e",
   "metadata": {},
   "outputs": [],
   "source": [
    "import pandas as pd\n",
    "import numpy as np\n",
    "import os"
   ]
  },
  {
   "cell_type": "code",
   "execution_count": 2,
   "id": "a960cad9-27b2-4418-a156-17b73d71a65e",
   "metadata": {},
   "outputs": [
    {
     "data": {
      "text/html": [
       "<div>\n",
       "<style scoped>\n",
       "    .dataframe tbody tr th:only-of-type {\n",
       "        vertical-align: middle;\n",
       "    }\n",
       "\n",
       "    .dataframe tbody tr th {\n",
       "        vertical-align: top;\n",
       "    }\n",
       "\n",
       "    .dataframe thead th {\n",
       "        text-align: right;\n",
       "    }\n",
       "</style>\n",
       "<table border=\"1\" class=\"dataframe\">\n",
       "  <thead>\n",
       "    <tr style=\"text-align: right;\">\n",
       "      <th></th>\n",
       "      <th>Text</th>\n",
       "      <th>Target</th>\n",
       "    </tr>\n",
       "  </thead>\n",
       "  <tbody>\n",
       "    <tr>\n",
       "      <th>0</th>\n",
       "      <td>गुठी विधेक ल्याएर ठमेल राज गुठि जग्गा छाया सेन...</td>\n",
       "      <td>0</td>\n",
       "    </tr>\n",
       "    <tr>\n",
       "      <th>1</th>\n",
       "      <td>दले देश सकेछन बेचे खान सुरू गरेछन दले लखेटनु पछ ।</td>\n",
       "      <td>1</td>\n",
       "    </tr>\n",
       "    <tr>\n",
       "      <th>2</th>\n",
       "      <td>नेपाल ससकृती ध्वस्त पार्ने योजना !</td>\n",
       "      <td>1</td>\n",
       "    </tr>\n",
       "    <tr>\n",
       "      <th>3</th>\n",
       "      <td>मठ मन्दिर गुम्बा जग्गा हरु भुमाफिया नजर परे हु...</td>\n",
       "      <td>1</td>\n",
       "    </tr>\n",
       "    <tr>\n",
       "      <th>4</th>\n",
       "      <td>नेपाल कल कर्खाना नदि नाला बेची सके मठ मन्दीर ब...</td>\n",
       "      <td>1</td>\n",
       "    </tr>\n",
       "  </tbody>\n",
       "</table>\n",
       "</div>"
      ],
      "text/plain": [
       "                                                Text  Target\n",
       "0  गुठी विधेक ल्याएर ठमेल राज गुठि जग्गा छाया सेन...       0\n",
       "1  दले देश सकेछन बेचे खान सुरू गरेछन दले लखेटनु पछ ।       1\n",
       "2                 नेपाल ससकृती ध्वस्त पार्ने योजना !       1\n",
       "3  मठ मन्दिर गुम्बा जग्गा हरु भुमाफिया नजर परे हु...       1\n",
       "4  नेपाल कल कर्खाना नदि नाला बेची सके मठ मन्दीर ब...       1"
      ]
     },
     "execution_count": 2,
     "metadata": {},
     "output_type": "execute_result"
    }
   ],
   "source": [
    "df= pd.read_csv(\"./Data/Preprocessed/Cleaned_Nepali_dataset.csv\")\n",
    "df_copy= df.copy()\n",
    "df_copy.head()"
   ]
  },
  {
   "cell_type": "code",
   "execution_count": 3,
   "id": "10172750-15eb-44d2-9928-befd48668f5d",
   "metadata": {},
   "outputs": [],
   "source": [
    "output_path = \"./Data/Embeddings/\""
   ]
  },
  {
   "cell_type": "code",
   "execution_count": 4,
   "id": "21418748-d0ab-4e30-8826-3112673687a2",
   "metadata": {
    "scrolled": true
   },
   "outputs": [],
   "source": [
    "# Tokenizing using nltk and creating a corpus for models to train on\n",
    "\n",
    "import nltk\n",
    "from nltk.tokenize import word_tokenize\n",
    "\n",
    "sentences= df_copy['Text'].apply(lambda x: word_tokenize(x)).tolist()\n"
   ]
  },
  {
   "cell_type": "markdown",
   "id": "5eaf925d-9f72-43b9-97dd-82c750bdc4b0",
   "metadata": {},
   "source": [
    "## Word2Vec scratch "
   ]
  },
  {
   "cell_type": "code",
   "execution_count": 5,
   "id": "e960de9b-642e-4ef1-af2b-bd175e801a69",
   "metadata": {},
   "outputs": [],
   "source": [
    "from gensim.models import Word2Vec\n",
    "\n",
    "word2vec_scratch = Word2Vec(sentences, vector_size= 100,sg=1 ,window= 6, min_count=1, workers=4, seed= 42)  #sg=1 means using Skip-gram\n"
   ]
  },
  {
   "cell_type": "code",
   "execution_count": 6,
   "id": "9e9cae81-da69-454c-8572-d293b50f03b8",
   "metadata": {},
   "outputs": [
    {
     "name": "stdout",
     "output_type": "stream",
     "text": [
      "[('नेता', 0.9978492259979248), ('हरु', 0.9974229335784912), ('झोले', 0.9968293309211731), ('प्रचण्ड', 0.9968018531799316), ('पार्टी', 0.9965466856956482), ('भ्रष्ट', 0.9964882731437683), ('सब', 0.996459424495697), ('जनता', 0.9963836073875427), ('सरकार', 0.9963688850402832), ('नेपाली', 0.9962961077690125)]\n"
     ]
    }
   ],
   "source": [
    "print(word2vec_scratch.wv.most_similar('दलाल'))"
   ]
  },
  {
   "cell_type": "markdown",
   "id": "8572d468-52f0-4ae7-b2c7-ef81eb7f959d",
   "metadata": {},
   "source": [
    "दलाल being most similar to भ्रष्ट and चोर, really shows the current context of the word in social media"
   ]
  },
  {
   "cell_type": "code",
   "execution_count": 7,
   "id": "9219612f-148b-4fe7-aec1-c7a1907b721e",
   "metadata": {},
   "outputs": [
    {
     "name": "stdout",
     "output_type": "stream",
     "text": [
      "[('गर्दा', 0.9988914132118225), ('ओलि', 0.9988536238670349), ('भन्छ', 0.9988439083099365), ('पछी', 0.9988129138946533), ('यहि', 0.9987989068031311), ('नेकपा', 0.9987727999687195), ('अनुहार', 0.9987668991088867), ('नभए', 0.9987576007843018), ('ए', 0.9987449049949646), ('बहस', 0.998744010925293)]\n"
     ]
    }
   ],
   "source": [
    "print(word2vec_scratch.wv.most_similar('मुजि'))"
   ]
  },
  {
   "cell_type": "markdown",
   "id": "c46ebec2-6182-4a07-9c20-9fe3f635bdd6",
   "metadata": {},
   "source": [
    "this profane word is most semantically similar to these words according to the model\n"
   ]
  },
  {
   "cell_type": "code",
   "execution_count": 8,
   "id": "57c33e80-98b3-44db-b9c3-176c2046d251",
   "metadata": {},
   "outputs": [
    {
     "name": "stdout",
     "output_type": "stream",
     "text": [
      "[('अनुहार', 0.9985929727554321), ('मुजि', 0.9985781311988831), ('गरिब', 0.9985146522521973), ('भन्न', 0.9984620809555054), ('राम', 0.9984380602836609), ('पनी', 0.9984345436096191), ('बेला', 0.9984260201454163), ('लगाएर', 0.9984238147735596), ('हुदा', 0.9984168410301208), ('साझा', 0.9984106421470642)]\n"
     ]
    }
   ],
   "source": [
    "print(word2vec_scratch.wv.most_similar('रन्डि'))"
   ]
  },
  {
   "cell_type": "code",
   "execution_count": 9,
   "id": "a8089602-f462-4bdd-86b1-f8ad2192dfce",
   "metadata": {},
   "outputs": [
    {
     "name": "stdout",
     "output_type": "stream",
     "text": [
      "[('छोरा', 0.9976100921630859), ('कुन', 0.9976083040237427), ('भारत', 0.9975743889808655), ('यार', 0.9975153803825378), ('ऋषि', 0.997500479221344), ('की', 0.9974930882453918), ('दिएर', 0.9974638819694519), ('कस्तो', 0.9974360466003418), ('चै', 0.9974192380905151), ('तेरो', 0.997410774230957)]\n"
     ]
    }
   ],
   "source": [
    "print(word2vec_scratch.wv.most_similar('चिक्ने'))"
   ]
  },
  {
   "cell_type": "markdown",
   "id": "97e3143a-c200-46ec-956f-c52d88d75776",
   "metadata": {},
   "source": [
    "## Saving the word vector"
   ]
  },
  {
   "cell_type": "code",
   "execution_count": 10,
   "id": "e3178d63-33de-4e87-9d3c-0d9e7601b790",
   "metadata": {},
   "outputs": [],
   "source": [
    "# Specify the output file path\n",
    "word2vec_scratch_output_file = os.path.join(output_path, 'Word2Vec_scratch_embeddings.txt')\n",
    "\n",
    "word2vec_scratch.wv.save_word2vec_format(word2vec_scratch_output_file, binary=False)"
   ]
  },
  {
   "cell_type": "markdown",
   "id": "dcb0e392-9217-41c2-a58a-5af233b6d078",
   "metadata": {},
   "source": [
    "## Loading using KeyedVectors\n"
   ]
  },
  {
   "cell_type": "code",
   "execution_count": 11,
   "id": "30fb3c6a-bdaf-416c-8b78-48cbc314083e",
   "metadata": {},
   "outputs": [],
   "source": [
    "# from gensim.models import KeyedVectors\n",
    "\n",
    "# word2vec_scratch_loaded= KeyedVectors.load_word2vec_format(word2vec_scratch_output_file, binary=False)\n",
    "\n",
    "# We already made generate_embeddings script that we can use to load and generate embeddings from the loaded model"
   ]
  },
  {
   "cell_type": "code",
   "execution_count": 12,
   "id": "51eca926-c9be-4e89-9cf9-cfb497dd14bd",
   "metadata": {},
   "outputs": [
    {
     "data": {
      "text/html": [
       "<div>\n",
       "<style scoped>\n",
       "    .dataframe tbody tr th:only-of-type {\n",
       "        vertical-align: middle;\n",
       "    }\n",
       "\n",
       "    .dataframe tbody tr th {\n",
       "        vertical-align: top;\n",
       "    }\n",
       "\n",
       "    .dataframe thead th {\n",
       "        text-align: right;\n",
       "    }\n",
       "</style>\n",
       "<table border=\"1\" class=\"dataframe\">\n",
       "  <thead>\n",
       "    <tr style=\"text-align: right;\">\n",
       "      <th></th>\n",
       "      <th>Text</th>\n",
       "      <th>0</th>\n",
       "      <th>1</th>\n",
       "      <th>2</th>\n",
       "      <th>3</th>\n",
       "      <th>4</th>\n",
       "      <th>5</th>\n",
       "      <th>6</th>\n",
       "      <th>7</th>\n",
       "      <th>8</th>\n",
       "      <th>...</th>\n",
       "      <th>91</th>\n",
       "      <th>92</th>\n",
       "      <th>93</th>\n",
       "      <th>94</th>\n",
       "      <th>95</th>\n",
       "      <th>96</th>\n",
       "      <th>97</th>\n",
       "      <th>98</th>\n",
       "      <th>99</th>\n",
       "      <th>Target</th>\n",
       "    </tr>\n",
       "  </thead>\n",
       "  <tbody>\n",
       "    <tr>\n",
       "      <th>0</th>\n",
       "      <td>गुठी विधेक ल्याएर ठमेल राज गुठि जग्गा छाया सेन...</td>\n",
       "      <td>-0.097175</td>\n",
       "      <td>0.037607</td>\n",
       "      <td>-0.112759</td>\n",
       "      <td>0.028592</td>\n",
       "      <td>-0.099917</td>\n",
       "      <td>0.122079</td>\n",
       "      <td>0.137278</td>\n",
       "      <td>0.161555</td>\n",
       "      <td>-0.056040</td>\n",
       "      <td>...</td>\n",
       "      <td>0.029141</td>\n",
       "      <td>0.086424</td>\n",
       "      <td>-0.177104</td>\n",
       "      <td>0.134328</td>\n",
       "      <td>0.020842</td>\n",
       "      <td>-0.030320</td>\n",
       "      <td>0.060714</td>\n",
       "      <td>-0.139892</td>\n",
       "      <td>-0.084863</td>\n",
       "      <td>0</td>\n",
       "    </tr>\n",
       "    <tr>\n",
       "      <th>1</th>\n",
       "      <td>दले देश सकेछन बेचे खान सुरू गरेछन दले लखेटनु पछ ।</td>\n",
       "      <td>-0.060358</td>\n",
       "      <td>0.025221</td>\n",
       "      <td>-0.071019</td>\n",
       "      <td>0.012363</td>\n",
       "      <td>-0.053112</td>\n",
       "      <td>0.073997</td>\n",
       "      <td>0.081764</td>\n",
       "      <td>0.093119</td>\n",
       "      <td>-0.033760</td>\n",
       "      <td>...</td>\n",
       "      <td>0.013916</td>\n",
       "      <td>0.054754</td>\n",
       "      <td>-0.105563</td>\n",
       "      <td>0.080853</td>\n",
       "      <td>0.010461</td>\n",
       "      <td>-0.021752</td>\n",
       "      <td>0.034920</td>\n",
       "      <td>-0.084815</td>\n",
       "      <td>-0.050754</td>\n",
       "      <td>1</td>\n",
       "    </tr>\n",
       "    <tr>\n",
       "      <th>2</th>\n",
       "      <td>नेपाल ससकृती ध्वस्त पार्ने योजना !</td>\n",
       "      <td>-0.111043</td>\n",
       "      <td>0.038801</td>\n",
       "      <td>-0.114933</td>\n",
       "      <td>0.029722</td>\n",
       "      <td>-0.095024</td>\n",
       "      <td>0.130788</td>\n",
       "      <td>0.142487</td>\n",
       "      <td>0.173299</td>\n",
       "      <td>-0.060231</td>\n",
       "      <td>...</td>\n",
       "      <td>0.026738</td>\n",
       "      <td>0.094869</td>\n",
       "      <td>-0.183841</td>\n",
       "      <td>0.144524</td>\n",
       "      <td>0.019272</td>\n",
       "      <td>-0.028467</td>\n",
       "      <td>0.060803</td>\n",
       "      <td>-0.153386</td>\n",
       "      <td>-0.092006</td>\n",
       "      <td>1</td>\n",
       "    </tr>\n",
       "    <tr>\n",
       "      <th>3</th>\n",
       "      <td>मठ मन्दिर गुम्बा जग्गा हरु भुमाफिया नजर परे हु...</td>\n",
       "      <td>-0.107331</td>\n",
       "      <td>0.040279</td>\n",
       "      <td>-0.119178</td>\n",
       "      <td>0.031434</td>\n",
       "      <td>-0.107630</td>\n",
       "      <td>0.128477</td>\n",
       "      <td>0.146452</td>\n",
       "      <td>0.177857</td>\n",
       "      <td>-0.059065</td>\n",
       "      <td>...</td>\n",
       "      <td>0.031872</td>\n",
       "      <td>0.095145</td>\n",
       "      <td>-0.192617</td>\n",
       "      <td>0.143582</td>\n",
       "      <td>0.026082</td>\n",
       "      <td>-0.033372</td>\n",
       "      <td>0.066330</td>\n",
       "      <td>-0.151109</td>\n",
       "      <td>-0.095058</td>\n",
       "      <td>1</td>\n",
       "    </tr>\n",
       "    <tr>\n",
       "      <th>4</th>\n",
       "      <td>नेपाल कल कर्खाना नदि नाला बेची सके मठ मन्दीर ब...</td>\n",
       "      <td>-0.089840</td>\n",
       "      <td>0.032169</td>\n",
       "      <td>-0.096967</td>\n",
       "      <td>0.027235</td>\n",
       "      <td>-0.085516</td>\n",
       "      <td>0.105764</td>\n",
       "      <td>0.121383</td>\n",
       "      <td>0.146297</td>\n",
       "      <td>-0.054604</td>\n",
       "      <td>...</td>\n",
       "      <td>0.028413</td>\n",
       "      <td>0.080607</td>\n",
       "      <td>-0.156071</td>\n",
       "      <td>0.118282</td>\n",
       "      <td>0.019930</td>\n",
       "      <td>-0.029502</td>\n",
       "      <td>0.057832</td>\n",
       "      <td>-0.130237</td>\n",
       "      <td>-0.079404</td>\n",
       "      <td>1</td>\n",
       "    </tr>\n",
       "  </tbody>\n",
       "</table>\n",
       "<p>5 rows × 102 columns</p>\n",
       "</div>"
      ],
      "text/plain": [
       "                                                Text         0         1  \\\n",
       "0  गुठी विधेक ल्याएर ठमेल राज गुठि जग्गा छाया सेन... -0.097175  0.037607   \n",
       "1  दले देश सकेछन बेचे खान सुरू गरेछन दले लखेटनु पछ । -0.060358  0.025221   \n",
       "2                 नेपाल ससकृती ध्वस्त पार्ने योजना ! -0.111043  0.038801   \n",
       "3  मठ मन्दिर गुम्बा जग्गा हरु भुमाफिया नजर परे हु... -0.107331  0.040279   \n",
       "4  नेपाल कल कर्खाना नदि नाला बेची सके मठ मन्दीर ब... -0.089840  0.032169   \n",
       "\n",
       "          2         3         4         5         6         7         8  ...  \\\n",
       "0 -0.112759  0.028592 -0.099917  0.122079  0.137278  0.161555 -0.056040  ...   \n",
       "1 -0.071019  0.012363 -0.053112  0.073997  0.081764  0.093119 -0.033760  ...   \n",
       "2 -0.114933  0.029722 -0.095024  0.130788  0.142487  0.173299 -0.060231  ...   \n",
       "3 -0.119178  0.031434 -0.107630  0.128477  0.146452  0.177857 -0.059065  ...   \n",
       "4 -0.096967  0.027235 -0.085516  0.105764  0.121383  0.146297 -0.054604  ...   \n",
       "\n",
       "         91        92        93        94        95        96        97  \\\n",
       "0  0.029141  0.086424 -0.177104  0.134328  0.020842 -0.030320  0.060714   \n",
       "1  0.013916  0.054754 -0.105563  0.080853  0.010461 -0.021752  0.034920   \n",
       "2  0.026738  0.094869 -0.183841  0.144524  0.019272 -0.028467  0.060803   \n",
       "3  0.031872  0.095145 -0.192617  0.143582  0.026082 -0.033372  0.066330   \n",
       "4  0.028413  0.080607 -0.156071  0.118282  0.019930 -0.029502  0.057832   \n",
       "\n",
       "         98        99  Target  \n",
       "0 -0.139892 -0.084863       0  \n",
       "1 -0.084815 -0.050754       1  \n",
       "2 -0.153386 -0.092006       1  \n",
       "3 -0.151109 -0.095058       1  \n",
       "4 -0.130237 -0.079404       1  \n",
       "\n",
       "[5 rows x 102 columns]"
      ]
     },
     "execution_count": 12,
     "metadata": {},
     "output_type": "execute_result"
    }
   ],
   "source": [
    "from generate_embeddings_weighted import generate_weighted_word2vec_embeddings, load_word2vec_model\n",
    "\n",
    "word2vec_scratch_loaded= load_word2vec_model('./Data/Embeddings/Word2Vec_scratch_embeddings.txt')\n",
    "\n",
    "df_word2vec= df_copy.copy()\n",
    "df_word2vec = generate_weighted_word2vec_embeddings(df_word2vec, 'Text', word2vec_scratch_loaded)\n",
    "df_word2vec.head()"
   ]
  },
  {
   "cell_type": "code",
   "execution_count": 13,
   "id": "c89645db-597f-4159-a5e2-7f4f663a98fb",
   "metadata": {},
   "outputs": [],
   "source": [
    "# Creating new csv file of Word2Vec vectors\n",
    "\n",
    "df_word2vec.drop(\"Text\", axis=1, inplace=True)\n",
    "df_word2vec.to_csv(\"./Data/Preprocessed/Word2vec_scratch_dataset.csv\", index=False)"
   ]
  },
  {
   "cell_type": "markdown",
   "id": "d893dc13-3180-439d-81bf-bd5c5ec048a5",
   "metadata": {},
   "source": [
    "## Weighing the embeddings with tf-idf scores didn't perform as hoped, let's generate embeddings by simply mean averaging"
   ]
  },
  {
   "cell_type": "code",
   "execution_count": 14,
   "id": "2e65eb53-3a4e-4463-902c-f78e28d76abd",
   "metadata": {},
   "outputs": [
    {
     "data": {
      "text/html": [
       "<div>\n",
       "<style scoped>\n",
       "    .dataframe tbody tr th:only-of-type {\n",
       "        vertical-align: middle;\n",
       "    }\n",
       "\n",
       "    .dataframe tbody tr th {\n",
       "        vertical-align: top;\n",
       "    }\n",
       "\n",
       "    .dataframe thead th {\n",
       "        text-align: right;\n",
       "    }\n",
       "</style>\n",
       "<table border=\"1\" class=\"dataframe\">\n",
       "  <thead>\n",
       "    <tr style=\"text-align: right;\">\n",
       "      <th></th>\n",
       "      <th>Text</th>\n",
       "      <th>Target</th>\n",
       "    </tr>\n",
       "  </thead>\n",
       "  <tbody>\n",
       "    <tr>\n",
       "      <th>0</th>\n",
       "      <td>गुठी विधेक ल्याएर ठमेल राज गुठि जग्गा छाया सेन...</td>\n",
       "      <td>0</td>\n",
       "    </tr>\n",
       "    <tr>\n",
       "      <th>1</th>\n",
       "      <td>दले देश सकेछन बेचे खान सुरू गरेछन दले लखेटनु पछ ।</td>\n",
       "      <td>1</td>\n",
       "    </tr>\n",
       "    <tr>\n",
       "      <th>2</th>\n",
       "      <td>नेपाल ससकृती ध्वस्त पार्ने योजना !</td>\n",
       "      <td>1</td>\n",
       "    </tr>\n",
       "    <tr>\n",
       "      <th>3</th>\n",
       "      <td>मठ मन्दिर गुम्बा जग्गा हरु भुमाफिया नजर परे हु...</td>\n",
       "      <td>1</td>\n",
       "    </tr>\n",
       "    <tr>\n",
       "      <th>4</th>\n",
       "      <td>नेपाल कल कर्खाना नदि नाला बेची सके मठ मन्दीर ब...</td>\n",
       "      <td>1</td>\n",
       "    </tr>\n",
       "  </tbody>\n",
       "</table>\n",
       "</div>"
      ],
      "text/plain": [
       "                                                Text  Target\n",
       "0  गुठी विधेक ल्याएर ठमेल राज गुठि जग्गा छाया सेन...       0\n",
       "1  दले देश सकेछन बेचे खान सुरू गरेछन दले लखेटनु पछ ।       1\n",
       "2                 नेपाल ससकृती ध्वस्त पार्ने योजना !       1\n",
       "3  मठ मन्दिर गुम्बा जग्गा हरु भुमाफिया नजर परे हु...       1\n",
       "4  नेपाल कल कर्खाना नदि नाला बेची सके मठ मन्दीर ब...       1"
      ]
     },
     "execution_count": 14,
     "metadata": {},
     "output_type": "execute_result"
    }
   ],
   "source": [
    "df_copy.head()"
   ]
  },
  {
   "cell_type": "code",
   "execution_count": 15,
   "id": "30de51cb-f73f-4805-9fa0-52c46421dce7",
   "metadata": {},
   "outputs": [
    {
     "data": {
      "text/html": [
       "<div>\n",
       "<style scoped>\n",
       "    .dataframe tbody tr th:only-of-type {\n",
       "        vertical-align: middle;\n",
       "    }\n",
       "\n",
       "    .dataframe tbody tr th {\n",
       "        vertical-align: top;\n",
       "    }\n",
       "\n",
       "    .dataframe thead th {\n",
       "        text-align: right;\n",
       "    }\n",
       "</style>\n",
       "<table border=\"1\" class=\"dataframe\">\n",
       "  <thead>\n",
       "    <tr style=\"text-align: right;\">\n",
       "      <th></th>\n",
       "      <th>Text</th>\n",
       "      <th>0</th>\n",
       "      <th>1</th>\n",
       "      <th>2</th>\n",
       "      <th>3</th>\n",
       "      <th>4</th>\n",
       "      <th>5</th>\n",
       "      <th>6</th>\n",
       "      <th>7</th>\n",
       "      <th>8</th>\n",
       "      <th>...</th>\n",
       "      <th>91</th>\n",
       "      <th>92</th>\n",
       "      <th>93</th>\n",
       "      <th>94</th>\n",
       "      <th>95</th>\n",
       "      <th>96</th>\n",
       "      <th>97</th>\n",
       "      <th>98</th>\n",
       "      <th>99</th>\n",
       "      <th>Target</th>\n",
       "    </tr>\n",
       "  </thead>\n",
       "  <tbody>\n",
       "    <tr>\n",
       "      <th>0</th>\n",
       "      <td>गुठी विधेक ल्याएर ठमेल राज गुठि जग्गा छाया सेन...</td>\n",
       "      <td>-0.11756</td>\n",
       "      <td>0.04505</td>\n",
       "      <td>-0.133415</td>\n",
       "      <td>0.030642</td>\n",
       "      <td>-0.115353</td>\n",
       "      <td>0.149121</td>\n",
       "      <td>0.165624</td>\n",
       "      <td>0.193793</td>\n",
       "      <td>-0.069321</td>\n",
       "      <td>...</td>\n",
       "      <td>0.035498</td>\n",
       "      <td>0.105436</td>\n",
       "      <td>-0.211654</td>\n",
       "      <td>0.162046</td>\n",
       "      <td>0.022811</td>\n",
       "      <td>-0.03604</td>\n",
       "      <td>0.06833</td>\n",
       "      <td>-0.170917</td>\n",
       "      <td>-0.101775</td>\n",
       "      <td>0</td>\n",
       "    </tr>\n",
       "  </tbody>\n",
       "</table>\n",
       "<p>1 rows × 102 columns</p>\n",
       "</div>"
      ],
      "text/plain": [
       "                                                Text        0        1  \\\n",
       "0  गुठी विधेक ल्याएर ठमेल राज गुठि जग्गा छाया सेन... -0.11756  0.04505   \n",
       "\n",
       "          2         3         4         5         6         7         8  ...  \\\n",
       "0 -0.133415  0.030642 -0.115353  0.149121  0.165624  0.193793 -0.069321  ...   \n",
       "\n",
       "         91        92        93        94        95       96       97  \\\n",
       "0  0.035498  0.105436 -0.211654  0.162046  0.022811 -0.03604  0.06833   \n",
       "\n",
       "         98        99  Target  \n",
       "0 -0.170917 -0.101775       0  \n",
       "\n",
       "[1 rows x 102 columns]"
      ]
     },
     "execution_count": 15,
     "metadata": {},
     "output_type": "execute_result"
    }
   ],
   "source": [
    "from generate_embeddings import generate_word2vec_embeddings\n",
    "\n",
    "df_word2vec_no_weight= df_copy.copy()\n",
    "df_word2vec_no_weight= generate_word2vec_embeddings(df_word2vec_no_weight, 'Text', word2vec_scratch_loaded)\n",
    "df_word2vec_no_weight.head(1)"
   ]
  },
  {
   "cell_type": "code",
   "execution_count": 18,
   "id": "40ba604c-ebec-4f0a-9c37-61ffe5a5a3f9",
   "metadata": {},
   "outputs": [],
   "source": [
    "df_word2vec_no_weight.drop(\"Text\", axis=1, inplace= True)\n",
    "df_word2vec_no_weight.to_csv('./Data/Preprocessed/Word2vec_scratch_no_weight_dataset.csv', index=False)"
   ]
  },
  {
   "cell_type": "markdown",
   "id": "3081a157-4948-4bb3-b9b8-24c14c2ff2a4",
   "metadata": {},
   "source": [
    "# Fasttext\n"
   ]
  },
  {
   "cell_type": "code",
   "execution_count": 19,
   "id": "518081ec-d072-4b55-9e3c-f5d5304b0f84",
   "metadata": {},
   "outputs": [],
   "source": [
    "from gensim.models import FastText\n",
    "\n",
    "fasttext= FastText(sentences=sentences, vector_size=100, min_count=1, window=6, seed=42, sg=1, workers=4)"
   ]
  },
  {
   "cell_type": "code",
   "execution_count": 20,
   "id": "c85addad-6457-4ef0-9b9b-cff04aed61d1",
   "metadata": {},
   "outputs": [
    {
     "name": "stdout",
     "output_type": "stream",
     "text": [
      "[('भ्रष्ट', 0.9997515678405762), ('भ्रष्टाचरि', 0.9996430277824402), ('भ्रष्टाचार', 0.9996086359024048), ('दलाल्', 0.9995893836021423), ('भ्रष्टाचारी', 0.9995713233947754), ('भ्रष्टाचारीकाे', 0.999549388885498), ('भ्रष्टाचारि', 0.9994513392448425), ('जन्ता', 0.9994223713874817), ('भ्रष्टचार', 0.9994112253189087), ('नेताकाे', 0.9994082450866699)]\n"
     ]
    }
   ],
   "source": [
    "print(fasttext.wv.most_similar('दलाल'))"
   ]
  },
  {
   "cell_type": "code",
   "execution_count": 21,
   "id": "a2375863-80bc-4559-a465-699702e64127",
   "metadata": {},
   "outputs": [
    {
     "name": "stdout",
     "output_type": "stream",
     "text": [
      "[('मुनि', 0.9999259114265442), ('जिल्ला', 0.9999111294746399), ('मुद्धा', 0.9999097585678101), ('धमलालाइ', 0.9999095797538757), ('आइसक्यो', 0.9999081492424011), ('कुर्सी', 0.9999070763587952), ('बोक्न', 0.9999068379402161), ('ठोक्ने', 0.9999058842658997), ('मुलालाइ', 0.9999054670333862), ('मुलुक', 0.9999041557312012)]\n"
     ]
    }
   ],
   "source": [
    "print(fasttext.wv.most_similar('मुजि'))"
   ]
  },
  {
   "cell_type": "code",
   "execution_count": 22,
   "id": "18750fe6-4366-4c01-9613-01ea65cd810e",
   "metadata": {},
   "outputs": [
    {
     "name": "stdout",
     "output_type": "stream",
     "text": [
      "[('इन्डियन', 0.999956488609314), ('ख्रिस्चियन', 0.9999527335166931), ('टुंन्डिखेल', 0.999952495098114), ('संरक्षण', 0.9999513030052185), ('भर्सटचारि', 0.9999498724937439), ('उत्तरदायित्व', 0.9999492168426514), ('उन्मुक्ती', 0.9999468922615051), ('रन्डी', 0.9999452829360962), ('क्रिश्चियन', 0.9999450445175171), ('पाखन्डि', 0.9999449253082275)]\n"
     ]
    }
   ],
   "source": [
    "print(fasttext.wv.most_similar('रन्डि'))"
   ]
  },
  {
   "cell_type": "code",
   "execution_count": 23,
   "id": "19db9ea6-69aa-4c13-8205-18cef3014b18",
   "metadata": {},
   "outputs": [],
   "source": [
    "# Specify the output file path\n",
    "fasttext_output_file = os.path.join(output_path, 'fasttext_embeddings.txt')\n",
    "\n",
    "fasttext.wv.save_word2vec_format(fasttext_output_file, binary=False)"
   ]
  },
  {
   "cell_type": "code",
   "execution_count": 24,
   "id": "4d1c0f54-8587-45da-822a-3e8f57e3ccb1",
   "metadata": {},
   "outputs": [],
   "source": [
    "# Also saving the model\n",
    "\n",
    "fasttext.save(os.path.join(output_path, 'fasttext_model'))"
   ]
  },
  {
   "cell_type": "code",
   "execution_count": 3,
   "id": "5dd415b1-3949-4e4b-8ad0-7b10432b5ce0",
   "metadata": {},
   "outputs": [
    {
     "data": {
      "text/html": [
       "<div>\n",
       "<style scoped>\n",
       "    .dataframe tbody tr th:only-of-type {\n",
       "        vertical-align: middle;\n",
       "    }\n",
       "\n",
       "    .dataframe tbody tr th {\n",
       "        vertical-align: top;\n",
       "    }\n",
       "\n",
       "    .dataframe thead th {\n",
       "        text-align: right;\n",
       "    }\n",
       "</style>\n",
       "<table border=\"1\" class=\"dataframe\">\n",
       "  <thead>\n",
       "    <tr style=\"text-align: right;\">\n",
       "      <th></th>\n",
       "      <th>Text</th>\n",
       "      <th>0</th>\n",
       "      <th>1</th>\n",
       "      <th>2</th>\n",
       "      <th>3</th>\n",
       "      <th>4</th>\n",
       "      <th>5</th>\n",
       "      <th>6</th>\n",
       "      <th>7</th>\n",
       "      <th>8</th>\n",
       "      <th>...</th>\n",
       "      <th>91</th>\n",
       "      <th>92</th>\n",
       "      <th>93</th>\n",
       "      <th>94</th>\n",
       "      <th>95</th>\n",
       "      <th>96</th>\n",
       "      <th>97</th>\n",
       "      <th>98</th>\n",
       "      <th>99</th>\n",
       "      <th>Target</th>\n",
       "    </tr>\n",
       "  </thead>\n",
       "  <tbody>\n",
       "    <tr>\n",
       "      <th>0</th>\n",
       "      <td>गुठी विधेक ल्याएर ठमेल राज गुठि जग्गा छाया सेन...</td>\n",
       "      <td>0.332578</td>\n",
       "      <td>-0.102626</td>\n",
       "      <td>0.374070</td>\n",
       "      <td>-0.147144</td>\n",
       "      <td>0.024742</td>\n",
       "      <td>0.078759</td>\n",
       "      <td>-0.111112</td>\n",
       "      <td>0.234482</td>\n",
       "      <td>-0.094451</td>\n",
       "      <td>...</td>\n",
       "      <td>0.533157</td>\n",
       "      <td>-0.355296</td>\n",
       "      <td>-0.710457</td>\n",
       "      <td>0.126522</td>\n",
       "      <td>-0.145634</td>\n",
       "      <td>-0.085188</td>\n",
       "      <td>0.256028</td>\n",
       "      <td>-0.271981</td>\n",
       "      <td>0.150822</td>\n",
       "      <td>0</td>\n",
       "    </tr>\n",
       "    <tr>\n",
       "      <th>1</th>\n",
       "      <td>दले देश सकेछन बेचे खान सुरू गरेछन दले लखेटनु पछ ।</td>\n",
       "      <td>0.302399</td>\n",
       "      <td>-0.093528</td>\n",
       "      <td>0.341173</td>\n",
       "      <td>-0.131570</td>\n",
       "      <td>0.023275</td>\n",
       "      <td>0.071763</td>\n",
       "      <td>-0.101102</td>\n",
       "      <td>0.216264</td>\n",
       "      <td>-0.086953</td>\n",
       "      <td>...</td>\n",
       "      <td>0.483671</td>\n",
       "      <td>-0.322421</td>\n",
       "      <td>-0.643361</td>\n",
       "      <td>0.117718</td>\n",
       "      <td>-0.132818</td>\n",
       "      <td>-0.076983</td>\n",
       "      <td>0.231773</td>\n",
       "      <td>-0.250802</td>\n",
       "      <td>0.137868</td>\n",
       "      <td>1</td>\n",
       "    </tr>\n",
       "    <tr>\n",
       "      <th>2</th>\n",
       "      <td>नेपाल ससकृती ध्वस्त पार्ने योजना !</td>\n",
       "      <td>0.300474</td>\n",
       "      <td>-0.096678</td>\n",
       "      <td>0.344405</td>\n",
       "      <td>-0.136217</td>\n",
       "      <td>0.022518</td>\n",
       "      <td>0.072743</td>\n",
       "      <td>-0.096957</td>\n",
       "      <td>0.219617</td>\n",
       "      <td>-0.087057</td>\n",
       "      <td>...</td>\n",
       "      <td>0.478695</td>\n",
       "      <td>-0.323674</td>\n",
       "      <td>-0.641463</td>\n",
       "      <td>0.129422</td>\n",
       "      <td>-0.132070</td>\n",
       "      <td>-0.077451</td>\n",
       "      <td>0.233735</td>\n",
       "      <td>-0.255186</td>\n",
       "      <td>0.146775</td>\n",
       "      <td>1</td>\n",
       "    </tr>\n",
       "    <tr>\n",
       "      <th>3</th>\n",
       "      <td>मठ मन्दिर गुम्बा जग्गा हरु भुमाफिया नजर परे हु...</td>\n",
       "      <td>0.289442</td>\n",
       "      <td>-0.088763</td>\n",
       "      <td>0.327231</td>\n",
       "      <td>-0.124751</td>\n",
       "      <td>0.022739</td>\n",
       "      <td>0.069775</td>\n",
       "      <td>-0.097282</td>\n",
       "      <td>0.202963</td>\n",
       "      <td>-0.079635</td>\n",
       "      <td>...</td>\n",
       "      <td>0.462768</td>\n",
       "      <td>-0.307386</td>\n",
       "      <td>-0.616574</td>\n",
       "      <td>0.107359</td>\n",
       "      <td>-0.125195</td>\n",
       "      <td>-0.073896</td>\n",
       "      <td>0.221342</td>\n",
       "      <td>-0.235846</td>\n",
       "      <td>0.129929</td>\n",
       "      <td>1</td>\n",
       "    </tr>\n",
       "    <tr>\n",
       "      <th>4</th>\n",
       "      <td>नेपाल कल कर्खाना नदि नाला बेची सके मठ मन्दीर ब...</td>\n",
       "      <td>0.307251</td>\n",
       "      <td>-0.095812</td>\n",
       "      <td>0.349455</td>\n",
       "      <td>-0.135839</td>\n",
       "      <td>0.023597</td>\n",
       "      <td>0.073046</td>\n",
       "      <td>-0.101997</td>\n",
       "      <td>0.219555</td>\n",
       "      <td>-0.087869</td>\n",
       "      <td>...</td>\n",
       "      <td>0.493153</td>\n",
       "      <td>-0.331401</td>\n",
       "      <td>-0.658701</td>\n",
       "      <td>0.122008</td>\n",
       "      <td>-0.136398</td>\n",
       "      <td>-0.080337</td>\n",
       "      <td>0.239287</td>\n",
       "      <td>-0.257596</td>\n",
       "      <td>0.141716</td>\n",
       "      <td>1</td>\n",
       "    </tr>\n",
       "  </tbody>\n",
       "</table>\n",
       "<p>5 rows × 102 columns</p>\n",
       "</div>"
      ],
      "text/plain": [
       "                                                Text         0         1  \\\n",
       "0  गुठी विधेक ल्याएर ठमेल राज गुठि जग्गा छाया सेन...  0.332578 -0.102626   \n",
       "1  दले देश सकेछन बेचे खान सुरू गरेछन दले लखेटनु पछ ।  0.302399 -0.093528   \n",
       "2                 नेपाल ससकृती ध्वस्त पार्ने योजना !  0.300474 -0.096678   \n",
       "3  मठ मन्दिर गुम्बा जग्गा हरु भुमाफिया नजर परे हु...  0.289442 -0.088763   \n",
       "4  नेपाल कल कर्खाना नदि नाला बेची सके मठ मन्दीर ब...  0.307251 -0.095812   \n",
       "\n",
       "          2         3         4         5         6         7         8  ...  \\\n",
       "0  0.374070 -0.147144  0.024742  0.078759 -0.111112  0.234482 -0.094451  ...   \n",
       "1  0.341173 -0.131570  0.023275  0.071763 -0.101102  0.216264 -0.086953  ...   \n",
       "2  0.344405 -0.136217  0.022518  0.072743 -0.096957  0.219617 -0.087057  ...   \n",
       "3  0.327231 -0.124751  0.022739  0.069775 -0.097282  0.202963 -0.079635  ...   \n",
       "4  0.349455 -0.135839  0.023597  0.073046 -0.101997  0.219555 -0.087869  ...   \n",
       "\n",
       "         91        92        93        94        95        96        97  \\\n",
       "0  0.533157 -0.355296 -0.710457  0.126522 -0.145634 -0.085188  0.256028   \n",
       "1  0.483671 -0.322421 -0.643361  0.117718 -0.132818 -0.076983  0.231773   \n",
       "2  0.478695 -0.323674 -0.641463  0.129422 -0.132070 -0.077451  0.233735   \n",
       "3  0.462768 -0.307386 -0.616574  0.107359 -0.125195 -0.073896  0.221342   \n",
       "4  0.493153 -0.331401 -0.658701  0.122008 -0.136398 -0.080337  0.239287   \n",
       "\n",
       "         98        99  Target  \n",
       "0 -0.271981  0.150822       0  \n",
       "1 -0.250802  0.137868       1  \n",
       "2 -0.255186  0.146775       1  \n",
       "3 -0.235846  0.129929       1  \n",
       "4 -0.257596  0.141716       1  \n",
       "\n",
       "[5 rows x 102 columns]"
      ]
     },
     "execution_count": 3,
     "metadata": {},
     "output_type": "execute_result"
    }
   ],
   "source": [
    "# loading model\n",
    "\n",
    "from generate_embeddings import load_fasttext_model, generate_fasttext_embeddings\n",
    "\n",
    "fasttext_loaded= load_fasttext_model('./Data/Embeddings/fasttext_model')\n",
    "df_fasttext= df_copy.copy()\n",
    "df_fasttext= generate_fasttext_embeddings(df_fasttext, \"Text\", fasttext_loaded)\n",
    "df_fasttext.head()"
   ]
  },
  {
   "cell_type": "code",
   "execution_count": 4,
   "id": "8ed33198-eb13-40b1-8d35-3f12a9d99aa9",
   "metadata": {},
   "outputs": [],
   "source": [
    "df_fasttext.drop('Text', axis=1, inplace=True)\n",
    "df_fasttext.to_csv('./Data/Preprocessed/fasttext_scratch_dataset.csv', index=False)"
   ]
  },
  {
   "cell_type": "markdown",
   "id": "5df9dd77-ca88-4119-8425-786c525e2bff",
   "metadata": {},
   "source": [
    "# Load Pre-trained Glove using KeyedVectors"
   ]
  },
  {
   "cell_type": "code",
   "execution_count": 5,
   "id": "8639e7e9-9e9e-4d50-8454-596670173cfa",
   "metadata": {},
   "outputs": [
    {
     "name": "stderr",
     "output_type": "stream",
     "text": [
      "/tmp/ipykernel_86569/4246479155.py:7: DeprecationWarning: Call to deprecated `glove2word2vec` (KeyedVectors.load_word2vec_format(.., binary=False, no_header=True) loads GLoVE text vectors.).\n",
      "  desc= glove2word2vec(glove_file, glove_word2vec_format)\n"
     ]
    },
    {
     "ename": "TypeError",
     "evalue": "cannot unpack non-iterable int object",
     "output_type": "error",
     "traceback": [
      "\u001b[0;31m---------------------------------------------------------------------------\u001b[0m",
      "\u001b[0;31mTypeError\u001b[0m                                 Traceback (most recent call last)",
      "Cell \u001b[0;32mIn[5], line 9\u001b[0m\n\u001b[1;32m      5\u001b[0m glove_word2vec_format\u001b[38;5;241m=\u001b[39m \u001b[38;5;124m'\u001b[39m\u001b[38;5;124m./Data/Embeddings/glove_word2vec_format.txt\u001b[39m\u001b[38;5;124m'\u001b[39m\n\u001b[1;32m      7\u001b[0m desc\u001b[38;5;241m=\u001b[39m glove2word2vec(glove_file, glove_word2vec_format)\n\u001b[0;32m----> 9\u001b[0m \u001b[38;5;28;01mfor\u001b[39;00m vocabulary, dimension \u001b[38;5;129;01min\u001b[39;00m desc:\n\u001b[1;32m     10\u001b[0m     \u001b[38;5;28mprint\u001b[39m(\u001b[38;5;124m'\u001b[39m\u001b[38;5;124mThe vocabulary of Glove:\u001b[39m\u001b[38;5;124m'\u001b[39m, vocabulary)\n\u001b[1;32m     11\u001b[0m     \u001b[38;5;28mprint\u001b[39m(\u001b[38;5;124m'\u001b[39m\u001b[38;5;124mThe dimensions of embeddings:\u001b[39m\u001b[38;5;124m'\u001b[39m, dimension)\n",
      "\u001b[0;31mTypeError\u001b[0m: cannot unpack non-iterable int object"
     ]
    }
   ],
   "source": [
    "from gensim.scripts.glove2word2vec import glove2word2vec\n",
    "from generate_embeddings import load_glove_embeddings, generate_glove_embeddings\n",
    "\n",
    "glove_file= './Data/Embeddings/processed_tokenized_stemmed.glove.txt'\n",
    "glove_word2vec_format= './Data/Embeddings/glove_word2vec_format.txt'\n",
    "\n",
    "desc= glove2word2vec(glove_file, glove_word2vec_format)\n",
    "\n"
   ]
  },
  {
   "cell_type": "code",
   "execution_count": 6,
   "id": "5f18d1dd-98fd-45b4-8300-5a698a2f39b0",
   "metadata": {},
   "outputs": [
    {
     "name": "stdout",
     "output_type": "stream",
     "text": [
      "(302596, 300)\n"
     ]
    }
   ],
   "source": [
    "print(desc)"
   ]
  },
  {
   "cell_type": "code",
   "execution_count": 7,
   "id": "58ed6559-8801-4341-9626-ec27dedd7fa4",
   "metadata": {},
   "outputs": [
    {
     "name": "stdout",
     "output_type": "stream",
     "text": [
      "[('बिचौल', 0.6204380393028259), ('पुँजीपति', 0.6165770888328552), ('दलालहर', 0.6044521331787109), ('ोकरशाह', 0.5913015604019165), ('पुजीपत', 0.581291675567627), ('पूँजीपतिवर्ग', 0.5632365345954895), ('विचौल', 0.5593226552009583), ('पुँजिपत', 0.5415458083152771), ('तस्कर', 0.5345401167869568), ('ोकरसाह', 0.5341207385063171)]\n"
     ]
    }
   ],
   "source": [
    "# Now loading Glove\n",
    "\n",
    "glove= load_glove_embeddings(glove_word2vec_format)\n",
    "print(glove.most_similar('दलाल'))"
   ]
  },
  {
   "cell_type": "code",
   "execution_count": 8,
   "id": "bc5f9aac-3cf9-4889-b34b-cde9f3b5917b",
   "metadata": {},
   "outputs": [
    {
     "ename": "KeyError",
     "evalue": "\"Key 'मुजि' not present in vocabulary\"",
     "output_type": "error",
     "traceback": [
      "\u001b[0;31m---------------------------------------------------------------------------\u001b[0m",
      "\u001b[0;31mKeyError\u001b[0m                                  Traceback (most recent call last)",
      "Cell \u001b[0;32mIn[8], line 1\u001b[0m\n\u001b[0;32m----> 1\u001b[0m \u001b[38;5;28mprint\u001b[39m(\u001b[43mglove\u001b[49m\u001b[38;5;241;43m.\u001b[39;49m\u001b[43mmost_similar\u001b[49m\u001b[43m(\u001b[49m\u001b[38;5;124;43m'\u001b[39;49m\u001b[38;5;124;43mमुजि\u001b[39;49m\u001b[38;5;124;43m'\u001b[39;49m\u001b[43m)\u001b[49m)\n",
      "File \u001b[0;32m~/myenv/lib/python3.11/site-packages/gensim/models/keyedvectors.py:841\u001b[0m, in \u001b[0;36mKeyedVectors.most_similar\u001b[0;34m(self, positive, negative, topn, clip_start, clip_end, restrict_vocab, indexer)\u001b[0m\n\u001b[1;32m    838\u001b[0m         weight[idx] \u001b[38;5;241m=\u001b[39m item[\u001b[38;5;241m1\u001b[39m]\n\u001b[1;32m    840\u001b[0m \u001b[38;5;66;03m# compute the weighted average of all keys\u001b[39;00m\n\u001b[0;32m--> 841\u001b[0m mean \u001b[38;5;241m=\u001b[39m \u001b[38;5;28;43mself\u001b[39;49m\u001b[38;5;241;43m.\u001b[39;49m\u001b[43mget_mean_vector\u001b[49m\u001b[43m(\u001b[49m\u001b[43mkeys\u001b[49m\u001b[43m,\u001b[49m\u001b[43m \u001b[49m\u001b[43mweight\u001b[49m\u001b[43m,\u001b[49m\u001b[43m \u001b[49m\u001b[43mpre_normalize\u001b[49m\u001b[38;5;241;43m=\u001b[39;49m\u001b[38;5;28;43;01mTrue\u001b[39;49;00m\u001b[43m,\u001b[49m\u001b[43m \u001b[49m\u001b[43mpost_normalize\u001b[49m\u001b[38;5;241;43m=\u001b[39;49m\u001b[38;5;28;43;01mTrue\u001b[39;49;00m\u001b[43m,\u001b[49m\u001b[43m \u001b[49m\u001b[43mignore_missing\u001b[49m\u001b[38;5;241;43m=\u001b[39;49m\u001b[38;5;28;43;01mFalse\u001b[39;49;00m\u001b[43m)\u001b[49m\n\u001b[1;32m    842\u001b[0m all_keys \u001b[38;5;241m=\u001b[39m [\n\u001b[1;32m    843\u001b[0m     \u001b[38;5;28mself\u001b[39m\u001b[38;5;241m.\u001b[39mget_index(key) \u001b[38;5;28;01mfor\u001b[39;00m key \u001b[38;5;129;01min\u001b[39;00m keys \u001b[38;5;28;01mif\u001b[39;00m \u001b[38;5;28misinstance\u001b[39m(key, _KEY_TYPES) \u001b[38;5;129;01mand\u001b[39;00m \u001b[38;5;28mself\u001b[39m\u001b[38;5;241m.\u001b[39mhas_index_for(key)\n\u001b[1;32m    844\u001b[0m ]\n\u001b[1;32m    846\u001b[0m \u001b[38;5;28;01mif\u001b[39;00m indexer \u001b[38;5;129;01mis\u001b[39;00m \u001b[38;5;129;01mnot\u001b[39;00m \u001b[38;5;28;01mNone\u001b[39;00m \u001b[38;5;129;01mand\u001b[39;00m \u001b[38;5;28misinstance\u001b[39m(topn, \u001b[38;5;28mint\u001b[39m):\n",
      "File \u001b[0;32m~/myenv/lib/python3.11/site-packages/gensim/models/keyedvectors.py:518\u001b[0m, in \u001b[0;36mKeyedVectors.get_mean_vector\u001b[0;34m(self, keys, weights, pre_normalize, post_normalize, ignore_missing)\u001b[0m\n\u001b[1;32m    516\u001b[0m         total_weight \u001b[38;5;241m+\u001b[39m\u001b[38;5;241m=\u001b[39m \u001b[38;5;28mabs\u001b[39m(weights[idx])\n\u001b[1;32m    517\u001b[0m     \u001b[38;5;28;01melif\u001b[39;00m \u001b[38;5;129;01mnot\u001b[39;00m ignore_missing:\n\u001b[0;32m--> 518\u001b[0m         \u001b[38;5;28;01mraise\u001b[39;00m \u001b[38;5;167;01mKeyError\u001b[39;00m(\u001b[38;5;124mf\u001b[39m\u001b[38;5;124m\"\u001b[39m\u001b[38;5;124mKey \u001b[39m\u001b[38;5;124m'\u001b[39m\u001b[38;5;132;01m{\u001b[39;00mkey\u001b[38;5;132;01m}\u001b[39;00m\u001b[38;5;124m'\u001b[39m\u001b[38;5;124m not present in vocabulary\u001b[39m\u001b[38;5;124m\"\u001b[39m)\n\u001b[1;32m    520\u001b[0m \u001b[38;5;28;01mif\u001b[39;00m total_weight \u001b[38;5;241m>\u001b[39m \u001b[38;5;241m0\u001b[39m:\n\u001b[1;32m    521\u001b[0m     mean \u001b[38;5;241m=\u001b[39m mean \u001b[38;5;241m/\u001b[39m total_weight\n",
      "\u001b[0;31mKeyError\u001b[0m: \"Key 'मुजि' not present in vocabulary\""
     ]
    }
   ],
   "source": [
    "print(glove.most_similar('मुजि'))"
   ]
  },
  {
   "cell_type": "code",
   "execution_count": 9,
   "id": "3f5511be-3bdf-495a-8236-7ecae9732ee5",
   "metadata": {},
   "outputs": [
    {
     "ename": "KeyError",
     "evalue": "\"Key 'रन्डि' not present in vocabulary\"",
     "output_type": "error",
     "traceback": [
      "\u001b[0;31m---------------------------------------------------------------------------\u001b[0m",
      "\u001b[0;31mKeyError\u001b[0m                                  Traceback (most recent call last)",
      "Cell \u001b[0;32mIn[9], line 1\u001b[0m\n\u001b[0;32m----> 1\u001b[0m \u001b[38;5;28mprint\u001b[39m(\u001b[43mglove\u001b[49m\u001b[38;5;241;43m.\u001b[39;49m\u001b[43mmost_similar\u001b[49m\u001b[43m(\u001b[49m\u001b[38;5;124;43m'\u001b[39;49m\u001b[38;5;124;43mरन्डि\u001b[39;49m\u001b[38;5;124;43m'\u001b[39;49m\u001b[43m)\u001b[49m)\n",
      "File \u001b[0;32m~/myenv/lib/python3.11/site-packages/gensim/models/keyedvectors.py:841\u001b[0m, in \u001b[0;36mKeyedVectors.most_similar\u001b[0;34m(self, positive, negative, topn, clip_start, clip_end, restrict_vocab, indexer)\u001b[0m\n\u001b[1;32m    838\u001b[0m         weight[idx] \u001b[38;5;241m=\u001b[39m item[\u001b[38;5;241m1\u001b[39m]\n\u001b[1;32m    840\u001b[0m \u001b[38;5;66;03m# compute the weighted average of all keys\u001b[39;00m\n\u001b[0;32m--> 841\u001b[0m mean \u001b[38;5;241m=\u001b[39m \u001b[38;5;28;43mself\u001b[39;49m\u001b[38;5;241;43m.\u001b[39;49m\u001b[43mget_mean_vector\u001b[49m\u001b[43m(\u001b[49m\u001b[43mkeys\u001b[49m\u001b[43m,\u001b[49m\u001b[43m \u001b[49m\u001b[43mweight\u001b[49m\u001b[43m,\u001b[49m\u001b[43m \u001b[49m\u001b[43mpre_normalize\u001b[49m\u001b[38;5;241;43m=\u001b[39;49m\u001b[38;5;28;43;01mTrue\u001b[39;49;00m\u001b[43m,\u001b[49m\u001b[43m \u001b[49m\u001b[43mpost_normalize\u001b[49m\u001b[38;5;241;43m=\u001b[39;49m\u001b[38;5;28;43;01mTrue\u001b[39;49;00m\u001b[43m,\u001b[49m\u001b[43m \u001b[49m\u001b[43mignore_missing\u001b[49m\u001b[38;5;241;43m=\u001b[39;49m\u001b[38;5;28;43;01mFalse\u001b[39;49;00m\u001b[43m)\u001b[49m\n\u001b[1;32m    842\u001b[0m all_keys \u001b[38;5;241m=\u001b[39m [\n\u001b[1;32m    843\u001b[0m     \u001b[38;5;28mself\u001b[39m\u001b[38;5;241m.\u001b[39mget_index(key) \u001b[38;5;28;01mfor\u001b[39;00m key \u001b[38;5;129;01min\u001b[39;00m keys \u001b[38;5;28;01mif\u001b[39;00m \u001b[38;5;28misinstance\u001b[39m(key, _KEY_TYPES) \u001b[38;5;129;01mand\u001b[39;00m \u001b[38;5;28mself\u001b[39m\u001b[38;5;241m.\u001b[39mhas_index_for(key)\n\u001b[1;32m    844\u001b[0m ]\n\u001b[1;32m    846\u001b[0m \u001b[38;5;28;01mif\u001b[39;00m indexer \u001b[38;5;129;01mis\u001b[39;00m \u001b[38;5;129;01mnot\u001b[39;00m \u001b[38;5;28;01mNone\u001b[39;00m \u001b[38;5;129;01mand\u001b[39;00m \u001b[38;5;28misinstance\u001b[39m(topn, \u001b[38;5;28mint\u001b[39m):\n",
      "File \u001b[0;32m~/myenv/lib/python3.11/site-packages/gensim/models/keyedvectors.py:518\u001b[0m, in \u001b[0;36mKeyedVectors.get_mean_vector\u001b[0;34m(self, keys, weights, pre_normalize, post_normalize, ignore_missing)\u001b[0m\n\u001b[1;32m    516\u001b[0m         total_weight \u001b[38;5;241m+\u001b[39m\u001b[38;5;241m=\u001b[39m \u001b[38;5;28mabs\u001b[39m(weights[idx])\n\u001b[1;32m    517\u001b[0m     \u001b[38;5;28;01melif\u001b[39;00m \u001b[38;5;129;01mnot\u001b[39;00m ignore_missing:\n\u001b[0;32m--> 518\u001b[0m         \u001b[38;5;28;01mraise\u001b[39;00m \u001b[38;5;167;01mKeyError\u001b[39;00m(\u001b[38;5;124mf\u001b[39m\u001b[38;5;124m\"\u001b[39m\u001b[38;5;124mKey \u001b[39m\u001b[38;5;124m'\u001b[39m\u001b[38;5;132;01m{\u001b[39;00mkey\u001b[38;5;132;01m}\u001b[39;00m\u001b[38;5;124m'\u001b[39m\u001b[38;5;124m not present in vocabulary\u001b[39m\u001b[38;5;124m\"\u001b[39m)\n\u001b[1;32m    520\u001b[0m \u001b[38;5;28;01mif\u001b[39;00m total_weight \u001b[38;5;241m>\u001b[39m \u001b[38;5;241m0\u001b[39m:\n\u001b[1;32m    521\u001b[0m     mean \u001b[38;5;241m=\u001b[39m mean \u001b[38;5;241m/\u001b[39m total_weight\n",
      "\u001b[0;31mKeyError\u001b[0m: \"Key 'रन्डि' not present in vocabulary\""
     ]
    }
   ],
   "source": [
    "print(glove.most_similar('रन्डि'))"
   ]
  },
  {
   "cell_type": "markdown",
   "id": "f3f6ef90-e9f7-4a77-ae6e-b8d7ffea57d3",
   "metadata": {},
   "source": [
    "## Profanity Words not being in vocabuly could result in poor performance in out classification Task"
   ]
  },
  {
   "cell_type": "code",
   "execution_count": null,
   "id": "cddfff08-7f06-43e0-91a7-4bdcd0e36625",
   "metadata": {},
   "outputs": [],
   "source": []
  }
 ],
 "metadata": {
  "kernelspec": {
   "display_name": "Python 3 (ipykernel)",
   "language": "python",
   "name": "python3"
  },
  "language_info": {
   "codemirror_mode": {
    "name": "ipython",
    "version": 3
   },
   "file_extension": ".py",
   "mimetype": "text/x-python",
   "name": "python",
   "nbconvert_exporter": "python",
   "pygments_lexer": "ipython3",
   "version": "3.11.4"
  }
 },
 "nbformat": 4,
 "nbformat_minor": 5
}
