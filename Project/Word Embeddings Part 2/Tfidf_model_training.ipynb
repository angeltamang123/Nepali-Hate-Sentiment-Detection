{
  "nbformat": 4,
  "nbformat_minor": 0,
  "metadata": {
    "colab": {
      "provenance": []
    },
    "kernelspec": {
      "name": "python3",
      "display_name": "Python 3"
    },
    "language_info": {
      "name": "python"
    }
  },
  "cells": [
    {
      "cell_type": "code",
      "source": [
        "import joblib\n",
        "import pandas as pd\n",
        "import numpy as np\n",
        "from sklearn.svm import SVC\n",
        "from sklearn.model_selection import train_test_split\n",
        "from sklearn.metrics import classification_report, accuracy_score, confusion_matrix"
      ],
      "metadata": {
        "id": "Negz_LEoG6zJ"
      },
      "execution_count": null,
      "outputs": []
    },
    {
      "cell_type": "code",
      "source": [
        "from google.colab import drive\n",
        "drive.mount('/content/drive')"
      ],
      "metadata": {
        "colab": {
          "base_uri": "https://localhost:8080/"
        },
        "id": "3bxiT2zoIsvu",
        "outputId": "10498233-1635-4246-de15-3b8885aa3303"
      },
      "execution_count": null,
      "outputs": [
        {
          "output_type": "stream",
          "name": "stdout",
          "text": [
            "Drive already mounted at /content/drive; to attempt to forcibly remount, call drive.mount(\"/content/drive\", force_remount=True).\n"
          ]
        }
      ]
    },
    {
      "cell_type": "code",
      "source": [
        "dataset = pd.read_csv(\"/content/drive/MyDrive/NepaliDataSet/Cleaned_Nepali_dataset.csv\")\n",
        "dataset.head()"
      ],
      "metadata": {
        "colab": {
          "base_uri": "https://localhost:8080/",
          "height": 206
        },
        "id": "7q_bgT2NQOw_",
        "outputId": "95766515-7c78-46b7-da79-95c3216e3d17"
      },
      "execution_count": null,
      "outputs": [
        {
          "output_type": "execute_result",
          "data": {
            "text/plain": [
              "                                                Text  Target\n",
              "0  गुठी विधेक ल्याएर ठमेल राज गुठि जग्गा छाया सेन...       0\n",
              "1  दले देश सकेछन बेचे खान सुरू गरेछन दले लखेटनु पछ ।       1\n",
              "2                 नेपाल ससकृती ध्वस्त पार्ने योजना !       1\n",
              "3  मठ मन्दिर गुम्बा जग्गा हरु भुमाफिया नजर परे हु...       1\n",
              "4  नेपाल कल कर्खाना नदि नाला बेची सके मठ मन्दीर ब...       1"
            ],
            "text/html": [
              "\n",
              "  <div id=\"df-498144a1-2d22-4f6a-835b-bf390fccb3aa\" class=\"colab-df-container\">\n",
              "    <div>\n",
              "<style scoped>\n",
              "    .dataframe tbody tr th:only-of-type {\n",
              "        vertical-align: middle;\n",
              "    }\n",
              "\n",
              "    .dataframe tbody tr th {\n",
              "        vertical-align: top;\n",
              "    }\n",
              "\n",
              "    .dataframe thead th {\n",
              "        text-align: right;\n",
              "    }\n",
              "</style>\n",
              "<table border=\"1\" class=\"dataframe\">\n",
              "  <thead>\n",
              "    <tr style=\"text-align: right;\">\n",
              "      <th></th>\n",
              "      <th>Text</th>\n",
              "      <th>Target</th>\n",
              "    </tr>\n",
              "  </thead>\n",
              "  <tbody>\n",
              "    <tr>\n",
              "      <th>0</th>\n",
              "      <td>गुठी विधेक ल्याएर ठमेल राज गुठि जग्गा छाया सेन...</td>\n",
              "      <td>0</td>\n",
              "    </tr>\n",
              "    <tr>\n",
              "      <th>1</th>\n",
              "      <td>दले देश सकेछन बेचे खान सुरू गरेछन दले लखेटनु पछ ।</td>\n",
              "      <td>1</td>\n",
              "    </tr>\n",
              "    <tr>\n",
              "      <th>2</th>\n",
              "      <td>नेपाल ससकृती ध्वस्त पार्ने योजना !</td>\n",
              "      <td>1</td>\n",
              "    </tr>\n",
              "    <tr>\n",
              "      <th>3</th>\n",
              "      <td>मठ मन्दिर गुम्बा जग्गा हरु भुमाफिया नजर परे हु...</td>\n",
              "      <td>1</td>\n",
              "    </tr>\n",
              "    <tr>\n",
              "      <th>4</th>\n",
              "      <td>नेपाल कल कर्खाना नदि नाला बेची सके मठ मन्दीर ब...</td>\n",
              "      <td>1</td>\n",
              "    </tr>\n",
              "  </tbody>\n",
              "</table>\n",
              "</div>\n",
              "    <div class=\"colab-df-buttons\">\n",
              "\n",
              "  <div class=\"colab-df-container\">\n",
              "    <button class=\"colab-df-convert\" onclick=\"convertToInteractive('df-498144a1-2d22-4f6a-835b-bf390fccb3aa')\"\n",
              "            title=\"Convert this dataframe to an interactive table.\"\n",
              "            style=\"display:none;\">\n",
              "\n",
              "  <svg xmlns=\"http://www.w3.org/2000/svg\" height=\"24px\" viewBox=\"0 -960 960 960\">\n",
              "    <path d=\"M120-120v-720h720v720H120Zm60-500h600v-160H180v160Zm220 220h160v-160H400v160Zm0 220h160v-160H400v160ZM180-400h160v-160H180v160Zm440 0h160v-160H620v160ZM180-180h160v-160H180v160Zm440 0h160v-160H620v160Z\"/>\n",
              "  </svg>\n",
              "    </button>\n",
              "\n",
              "  <style>\n",
              "    .colab-df-container {\n",
              "      display:flex;\n",
              "      gap: 12px;\n",
              "    }\n",
              "\n",
              "    .colab-df-convert {\n",
              "      background-color: #E8F0FE;\n",
              "      border: none;\n",
              "      border-radius: 50%;\n",
              "      cursor: pointer;\n",
              "      display: none;\n",
              "      fill: #1967D2;\n",
              "      height: 32px;\n",
              "      padding: 0 0 0 0;\n",
              "      width: 32px;\n",
              "    }\n",
              "\n",
              "    .colab-df-convert:hover {\n",
              "      background-color: #E2EBFA;\n",
              "      box-shadow: 0px 1px 2px rgba(60, 64, 67, 0.3), 0px 1px 3px 1px rgba(60, 64, 67, 0.15);\n",
              "      fill: #174EA6;\n",
              "    }\n",
              "\n",
              "    .colab-df-buttons div {\n",
              "      margin-bottom: 4px;\n",
              "    }\n",
              "\n",
              "    [theme=dark] .colab-df-convert {\n",
              "      background-color: #3B4455;\n",
              "      fill: #D2E3FC;\n",
              "    }\n",
              "\n",
              "    [theme=dark] .colab-df-convert:hover {\n",
              "      background-color: #434B5C;\n",
              "      box-shadow: 0px 1px 3px 1px rgba(0, 0, 0, 0.15);\n",
              "      filter: drop-shadow(0px 1px 2px rgba(0, 0, 0, 0.3));\n",
              "      fill: #FFFFFF;\n",
              "    }\n",
              "  </style>\n",
              "\n",
              "    <script>\n",
              "      const buttonEl =\n",
              "        document.querySelector('#df-498144a1-2d22-4f6a-835b-bf390fccb3aa button.colab-df-convert');\n",
              "      buttonEl.style.display =\n",
              "        google.colab.kernel.accessAllowed ? 'block' : 'none';\n",
              "\n",
              "      async function convertToInteractive(key) {\n",
              "        const element = document.querySelector('#df-498144a1-2d22-4f6a-835b-bf390fccb3aa');\n",
              "        const dataTable =\n",
              "          await google.colab.kernel.invokeFunction('convertToInteractive',\n",
              "                                                    [key], {});\n",
              "        if (!dataTable) return;\n",
              "\n",
              "        const docLinkHtml = 'Like what you see? Visit the ' +\n",
              "          '<a target=\"_blank\" href=https://colab.research.google.com/notebooks/data_table.ipynb>data table notebook</a>'\n",
              "          + ' to learn more about interactive tables.';\n",
              "        element.innerHTML = '';\n",
              "        dataTable['output_type'] = 'display_data';\n",
              "        await google.colab.output.renderOutput(dataTable, element);\n",
              "        const docLink = document.createElement('div');\n",
              "        docLink.innerHTML = docLinkHtml;\n",
              "        element.appendChild(docLink);\n",
              "      }\n",
              "    </script>\n",
              "  </div>\n",
              "\n",
              "\n",
              "<div id=\"df-99444325-79fb-40d0-b5ac-ba63c949e2d1\">\n",
              "  <button class=\"colab-df-quickchart\" onclick=\"quickchart('df-99444325-79fb-40d0-b5ac-ba63c949e2d1')\"\n",
              "            title=\"Suggest charts\"\n",
              "            style=\"display:none;\">\n",
              "\n",
              "<svg xmlns=\"http://www.w3.org/2000/svg\" height=\"24px\"viewBox=\"0 0 24 24\"\n",
              "     width=\"24px\">\n",
              "    <g>\n",
              "        <path d=\"M19 3H5c-1.1 0-2 .9-2 2v14c0 1.1.9 2 2 2h14c1.1 0 2-.9 2-2V5c0-1.1-.9-2-2-2zM9 17H7v-7h2v7zm4 0h-2V7h2v10zm4 0h-2v-4h2v4z\"/>\n",
              "    </g>\n",
              "</svg>\n",
              "  </button>\n",
              "\n",
              "<style>\n",
              "  .colab-df-quickchart {\n",
              "      --bg-color: #E8F0FE;\n",
              "      --fill-color: #1967D2;\n",
              "      --hover-bg-color: #E2EBFA;\n",
              "      --hover-fill-color: #174EA6;\n",
              "      --disabled-fill-color: #AAA;\n",
              "      --disabled-bg-color: #DDD;\n",
              "  }\n",
              "\n",
              "  [theme=dark] .colab-df-quickchart {\n",
              "      --bg-color: #3B4455;\n",
              "      --fill-color: #D2E3FC;\n",
              "      --hover-bg-color: #434B5C;\n",
              "      --hover-fill-color: #FFFFFF;\n",
              "      --disabled-bg-color: #3B4455;\n",
              "      --disabled-fill-color: #666;\n",
              "  }\n",
              "\n",
              "  .colab-df-quickchart {\n",
              "    background-color: var(--bg-color);\n",
              "    border: none;\n",
              "    border-radius: 50%;\n",
              "    cursor: pointer;\n",
              "    display: none;\n",
              "    fill: var(--fill-color);\n",
              "    height: 32px;\n",
              "    padding: 0;\n",
              "    width: 32px;\n",
              "  }\n",
              "\n",
              "  .colab-df-quickchart:hover {\n",
              "    background-color: var(--hover-bg-color);\n",
              "    box-shadow: 0 1px 2px rgba(60, 64, 67, 0.3), 0 1px 3px 1px rgba(60, 64, 67, 0.15);\n",
              "    fill: var(--button-hover-fill-color);\n",
              "  }\n",
              "\n",
              "  .colab-df-quickchart-complete:disabled,\n",
              "  .colab-df-quickchart-complete:disabled:hover {\n",
              "    background-color: var(--disabled-bg-color);\n",
              "    fill: var(--disabled-fill-color);\n",
              "    box-shadow: none;\n",
              "  }\n",
              "\n",
              "  .colab-df-spinner {\n",
              "    border: 2px solid var(--fill-color);\n",
              "    border-color: transparent;\n",
              "    border-bottom-color: var(--fill-color);\n",
              "    animation:\n",
              "      spin 1s steps(1) infinite;\n",
              "  }\n",
              "\n",
              "  @keyframes spin {\n",
              "    0% {\n",
              "      border-color: transparent;\n",
              "      border-bottom-color: var(--fill-color);\n",
              "      border-left-color: var(--fill-color);\n",
              "    }\n",
              "    20% {\n",
              "      border-color: transparent;\n",
              "      border-left-color: var(--fill-color);\n",
              "      border-top-color: var(--fill-color);\n",
              "    }\n",
              "    30% {\n",
              "      border-color: transparent;\n",
              "      border-left-color: var(--fill-color);\n",
              "      border-top-color: var(--fill-color);\n",
              "      border-right-color: var(--fill-color);\n",
              "    }\n",
              "    40% {\n",
              "      border-color: transparent;\n",
              "      border-right-color: var(--fill-color);\n",
              "      border-top-color: var(--fill-color);\n",
              "    }\n",
              "    60% {\n",
              "      border-color: transparent;\n",
              "      border-right-color: var(--fill-color);\n",
              "    }\n",
              "    80% {\n",
              "      border-color: transparent;\n",
              "      border-right-color: var(--fill-color);\n",
              "      border-bottom-color: var(--fill-color);\n",
              "    }\n",
              "    90% {\n",
              "      border-color: transparent;\n",
              "      border-bottom-color: var(--fill-color);\n",
              "    }\n",
              "  }\n",
              "</style>\n",
              "\n",
              "  <script>\n",
              "    async function quickchart(key) {\n",
              "      const quickchartButtonEl =\n",
              "        document.querySelector('#' + key + ' button');\n",
              "      quickchartButtonEl.disabled = true;  // To prevent multiple clicks.\n",
              "      quickchartButtonEl.classList.add('colab-df-spinner');\n",
              "      try {\n",
              "        const charts = await google.colab.kernel.invokeFunction(\n",
              "            'suggestCharts', [key], {});\n",
              "      } catch (error) {\n",
              "        console.error('Error during call to suggestCharts:', error);\n",
              "      }\n",
              "      quickchartButtonEl.classList.remove('colab-df-spinner');\n",
              "      quickchartButtonEl.classList.add('colab-df-quickchart-complete');\n",
              "    }\n",
              "    (() => {\n",
              "      let quickchartButtonEl =\n",
              "        document.querySelector('#df-99444325-79fb-40d0-b5ac-ba63c949e2d1 button');\n",
              "      quickchartButtonEl.style.display =\n",
              "        google.colab.kernel.accessAllowed ? 'block' : 'none';\n",
              "    })();\n",
              "  </script>\n",
              "</div>\n",
              "\n",
              "    </div>\n",
              "  </div>\n"
            ],
            "application/vnd.google.colaboratory.intrinsic+json": {
              "type": "dataframe",
              "variable_name": "dataset",
              "summary": "{\n  \"name\": \"dataset\",\n  \"rows\": 2859,\n  \"fields\": [\n    {\n      \"column\": \"Text\",\n      \"properties\": {\n        \"dtype\": \"string\",\n        \"num_unique_values\": 2570,\n        \"samples\": [\n          \"\\u092c\\u0947\\u0915\\u093e\\u092e \\u0906\\u0907\\u092e\\u093e\\u0907\\u0932\\u093e\\u0907 \\u0917\\u093e\\u0932\\u0940 \\u0917\\u0930\\u0947 \\u0938\\u094d\\u092a\\u0938\\u094d\\u091f \\u0915\\u0941\\u0930\\u094b \\u0906\\u0909\\u0928 \\u0926\\u0947\\u0909\\u0928 \\u092a\\u0939\\u093f\\u0932\\u093e !\",\n          \"\\u0921\\u093f\\u0906\\u0908 \\u091c\\u093f \\u091d\\u0941\\u091f\\u094b \\u092c\\u094b\\u0932\\u094d\\u0926\\u0948 \\u091b\\u0901\\u0938 \\u091c\\u094d\\u091e\\u093e\\u0928\\u0947\\u0928\\u094d\\u0926\\u094d\\u0930 \\u0936\\u093e\\u0908 \\u0924\\u093f\\u092e\\u093f \\u0939\\u0930\\u0941 \\u092e\\u093f\\u0932\\u0947\\u0930 \\u0915\\u0941\\u091f\\u0947 \\u0964\",\n          \"\\u0930\\u093e\\u0938\\u094d\\u091f\\u094d\\u0930\\u092a\\u0924\\u093f \\u0917\\u0930\\u093f\\u092e\\u093e\\u092e\\u092f \\u092a\\u0926 \\u0935\\u094d\\u092f\\u0915\\u094d\\u0924\\u093f \\u092c\\u093f\\u092a\\u0915\\u094d\\u0937\\u0940 \\u0926\\u0932 \\u0928\\u0947\\u0924\\u093e \\u090f\\u0909 \\u091f\\u093e \\u0926\\u0932 \\u0928\\u0947\\u0924\\u093e \\u0939\\u0948\\u0938\\u093f\\u092f\\u0924 \\u0916\\u093f\\u0932\\u094d\\u0932\\u0940 \\u092e\\u091c\\u093e\\u0915 \\u0909\\u0921\\u093e\\u090f \\u0926\\u0947\\u0916\\u094d\\u0926\\u093e \\u0930\\u093e\\u0938\\u094d\\u091f\\u094d\\u0930\\u092a\\u0924\\u093f \\u0938\\u092e\\u094d\\u092e\\u093e\\u0928\\u093f\\u0924 \\u092a\\u0926 \\u092c\\u0947\\u091c\\u094d\\u091c\\u0924 \\u0905\\u092a\\u092e\\u093e\\u0928 \\u0964\"\n        ],\n        \"semantic_type\": \"\",\n        \"description\": \"\"\n      }\n    },\n    {\n      \"column\": \"Target\",\n      \"properties\": {\n        \"dtype\": \"number\",\n        \"std\": 1,\n        \"min\": 0,\n        \"max\": 5,\n        \"num_unique_values\": 6,\n        \"samples\": [\n          0,\n          1,\n          4\n        ],\n        \"semantic_type\": \"\",\n        \"description\": \"\"\n      }\n    }\n  ]\n}"
            }
          },
          "metadata": {},
          "execution_count": 17
        }
      ]
    },
    {
      "cell_type": "code",
      "source": [
        "# Load the dataset\n",
        "dataset = pd.read_csv(\"/content/drive/MyDrive/NepaliDataSet/Cleaned_Nepali_dataset.csv\")  # Update with your dataset path\n",
        "\n",
        "# Extract the text and labels\n",
        "X_raw = dataset['Text']  # Replace 'text_column' with your text column name\n",
        "y = dataset['Target']     # Replace 'label_column' with your label column name\n",
        "\n",
        "print(f\"Number of samples: {len(X_raw)}\")\n",
        "print(f\"Classes: {set(y)}\")\n"
      ],
      "metadata": {
        "colab": {
          "base_uri": "https://localhost:8080/"
        },
        "id": "HhwZHmp2P3UI",
        "outputId": "d66e110c-cbde-414c-a7b1-1451b9b5a32f"
      },
      "execution_count": null,
      "outputs": [
        {
          "output_type": "stream",
          "name": "stdout",
          "text": [
            "Number of samples: 2859\n",
            "Classes: {0, 1, 2, 3, 4, 5}\n"
          ]
        }
      ]
    },
    {
      "cell_type": "code",
      "source": [
        "# Load the saved TF-IDF vectorizer\n",
        "tfidf_vectorizer = joblib.load(\"/content/drive/MyDrive/NepaliDataSet/tfidf_vectorizer.joblib\")  # Update with your vectorizer path\n",
        "\n",
        "print(\"TF-IDF vectorizer loaded successfully.\")\n"
      ],
      "metadata": {
        "colab": {
          "base_uri": "https://localhost:8080/"
        },
        "id": "HlU5zqWFQc6X",
        "outputId": "e90afb07-b2df-45cd-c68b-22de9d239e55"
      },
      "execution_count": null,
      "outputs": [
        {
          "output_type": "stream",
          "name": "stdout",
          "text": [
            "TF-IDF vectorizer loaded successfully.\n"
          ]
        }
      ]
    },
    {
      "cell_type": "code",
      "source": [
        "import nltk\n",
        "nltk.download('punkt_tab')"
      ],
      "metadata": {
        "colab": {
          "base_uri": "https://localhost:8080/"
        },
        "id": "oXtcdkGuQmvo",
        "outputId": "25b7c2c5-4a46-4127-de99-ee63679990d2"
      },
      "execution_count": null,
      "outputs": [
        {
          "output_type": "stream",
          "name": "stderr",
          "text": [
            "[nltk_data] Downloading package punkt_tab to /root/nltk_data...\n",
            "[nltk_data]   Unzipping tokenizers/punkt_tab.zip.\n"
          ]
        },
        {
          "output_type": "execute_result",
          "data": {
            "text/plain": [
              "True"
            ]
          },
          "metadata": {},
          "execution_count": 22
        }
      ]
    },
    {
      "cell_type": "code",
      "source": [
        "# Transform the raw text data to TF-IDF features\n",
        "X = tfidf_vectorizer.transform(X_raw)\n",
        "\n",
        "print(f\"TF-IDF features shape: {X.shape}\")\n"
      ],
      "metadata": {
        "colab": {
          "base_uri": "https://localhost:8080/"
        },
        "id": "YIS726i-QjEf",
        "outputId": "5399e8ef-df98-4576-b7ea-e72229b10203"
      },
      "execution_count": null,
      "outputs": [
        {
          "output_type": "stream",
          "name": "stdout",
          "text": [
            "TF-IDF features shape: (2859, 8589)\n"
          ]
        }
      ]
    },
    {
      "cell_type": "code",
      "source": [
        "X_train, X_test, y_train, y_test = train_test_split(\n",
        "    X, y, test_size=0.2, random_state=42, stratify=y\n",
        ")\n",
        "\n",
        "print(f\"Training set size: {X_train.shape}\")\n",
        "print(f\"Testing set size: {X_test.shape}\")\n"
      ],
      "metadata": {
        "colab": {
          "base_uri": "https://localhost:8080/"
        },
        "id": "SwfXctY-ILAI",
        "outputId": "829b3d0e-3c85-4294-fdba-29a80cb5941b"
      },
      "execution_count": null,
      "outputs": [
        {
          "output_type": "stream",
          "name": "stdout",
          "text": [
            "Training set size: (2287, 8589)\n",
            "Testing set size: (572, 8589)\n"
          ]
        }
      ]
    },
    {
      "cell_type": "code",
      "source": [
        "# Initialize the SVM classifier\n",
        "svm_classifier = SVC(kernel='linear', random_state=42)\n",
        "\n",
        "# Train the classifier\n",
        "svm_classifier.fit(X_train, y_train)\n",
        "\n",
        "print(\"SVM training complete.\")\n"
      ],
      "metadata": {
        "colab": {
          "base_uri": "https://localhost:8080/"
        },
        "id": "Hd_ifMLBIOHt",
        "outputId": "76dc175a-dd80-48f8-f37a-093e2aa092b3"
      },
      "execution_count": null,
      "outputs": [
        {
          "output_type": "stream",
          "name": "stdout",
          "text": [
            "SVM training complete.\n"
          ]
        }
      ]
    },
    {
      "cell_type": "code",
      "source": [
        "# Make predictions\n",
        "y_pred = svm_classifier.predict(X_test)\n"
      ],
      "metadata": {
        "id": "5TGRthL1IQTO"
      },
      "execution_count": null,
      "outputs": []
    },
    {
      "cell_type": "code",
      "source": [
        "# Accuracy\n",
        "accuracy = accuracy_score(y_test, y_pred)\n",
        "print(f\"Accuracy: {accuracy:.2f}\")\n",
        "\n",
        "# Classification report\n",
        "print(\"Classification Report:\")\n",
        "print(classification_report(y_test, y_pred))\n",
        "\n",
        "# Confusion matrix\n",
        "conf_matrix = confusion_matrix(y_test, y_pred)\n",
        "print(\"Confusion Matrix:\")\n",
        "print(conf_matrix)"
      ],
      "metadata": {
        "colab": {
          "base_uri": "https://localhost:8080/"
        },
        "id": "kSDnviF5IR_M",
        "outputId": "326ef3a5-2b52-4224-b295-2f60389e9b97"
      },
      "execution_count": null,
      "outputs": [
        {
          "output_type": "stream",
          "name": "stdout",
          "text": [
            "Accuracy: 0.63\n",
            "Classification Report:\n",
            "              precision    recall  f1-score   support\n",
            "\n",
            "           0       0.84      0.68      0.75       180\n",
            "           1       0.61      0.86      0.71       272\n",
            "           2       0.10      0.04      0.06        50\n",
            "           3       0.43      0.19      0.26        16\n",
            "           4       0.00      0.00      0.00        22\n",
            "           5       0.00      0.00      0.00        32\n",
            "\n",
            "    accuracy                           0.63       572\n",
            "   macro avg       0.33      0.30      0.30       572\n",
            "weighted avg       0.57      0.63      0.59       572\n",
            "\n",
            "Confusion Matrix:\n",
            "[[123  52   2   1   2   0]\n",
            " [ 17 234  13   2   1   5]\n",
            " [  0  45   2   0   1   2]\n",
            " [  0  13   0   3   0   0]\n",
            " [  2  18   2   0   0   0]\n",
            " [  5  24   2   1   0   0]]\n"
          ]
        }
      ]
    },
    {
      "cell_type": "markdown",
      "source": [
        "Using Oversampling technique SMOTE"
      ],
      "metadata": {
        "id": "0yDrSXBTSlK9"
      }
    },
    {
      "cell_type": "code",
      "source": [
        "from imblearn.over_sampling import SMOTE\n",
        "\n",
        "smote = SMOTE(random_state=42)\n",
        "X_resampled, y_resampled = smote.fit_resample(X, y)"
      ],
      "metadata": {
        "id": "MypP4ZGtRvpn"
      },
      "execution_count": null,
      "outputs": []
    },
    {
      "cell_type": "code",
      "source": [
        "from sklearn.model_selection import train_test_split\n",
        "\n",
        "# Split the resampled dataset\n",
        "X_train, X_test, y_train, y_test = train_test_split(\n",
        "    X_resampled, y_resampled, test_size=0.2, random_state=42, stratify=y_resampled\n",
        ")\n",
        "\n",
        "print(f\"Training set size: {X_train.shape}\")\n",
        "print(f\"Testing set size: {X_test.shape}\")\n"
      ],
      "metadata": {
        "colab": {
          "base_uri": "https://localhost:8080/"
        },
        "id": "OSu0taN9R2tX",
        "outputId": "6dc74a6f-2318-43e8-f3b7-eefbcd2e1d82"
      },
      "execution_count": null,
      "outputs": [
        {
          "output_type": "stream",
          "name": "stdout",
          "text": [
            "Training set size: (6518, 8589)\n",
            "Testing set size: (1630, 8589)\n"
          ]
        }
      ]
    },
    {
      "cell_type": "code",
      "source": [
        "from sklearn.svm import SVC\n",
        "\n",
        "# Initialize the SVM model\n",
        "svm_classifier = SVC(kernel='linear', random_state=42)\n",
        "\n",
        "# Train the model\n",
        "svm_classifier.fit(X_train, y_train)\n",
        "\n",
        "print(\"SVM model training complete.\")\n"
      ],
      "metadata": {
        "colab": {
          "base_uri": "https://localhost:8080/"
        },
        "id": "T-Xdv5MaS3uE",
        "outputId": "16ebff6c-c894-42b8-b9f5-1b27e11320db"
      },
      "execution_count": null,
      "outputs": [
        {
          "output_type": "stream",
          "name": "stdout",
          "text": [
            "SVM model training complete.\n"
          ]
        }
      ]
    },
    {
      "cell_type": "code",
      "source": [
        "from sklearn.metrics import classification_report, accuracy_score, confusion_matrix\n",
        "\n",
        "# Make predictions on the test set\n",
        "y_pred = svm_classifier.predict(X_test)\n",
        "\n",
        "# Calculate accuracy\n",
        "accuracy = accuracy_score(y_test, y_pred)\n",
        "print(f\"Accuracy: {accuracy:.2f}\")\n",
        "\n",
        "# Display the classification report\n",
        "print(\"Classification Report:\")\n",
        "print(classification_report(y_test, y_pred))\n",
        "\n",
        "# Display the confusion matrix\n",
        "print(\"Confusion Matrix:\")\n",
        "print(confusion_matrix(y_test, y_pred))\n"
      ],
      "metadata": {
        "colab": {
          "base_uri": "https://localhost:8080/"
        },
        "id": "oJb8thpTTIB0",
        "outputId": "327b5bf7-abd2-41de-f27b-998d9536f7ff"
      },
      "execution_count": null,
      "outputs": [
        {
          "output_type": "stream",
          "name": "stdout",
          "text": [
            "Accuracy: 0.90\n",
            "Classification Report:\n",
            "              precision    recall  f1-score   support\n",
            "\n",
            "           0       0.91      0.85      0.88       271\n",
            "           1       0.84      0.70      0.76       271\n",
            "           2       0.87      0.89      0.88       272\n",
            "           3       0.96      1.00      0.98       272\n",
            "           4       0.91      1.00      0.95       272\n",
            "           5       0.89      0.96      0.93       272\n",
            "\n",
            "    accuracy                           0.90      1630\n",
            "   macro avg       0.90      0.90      0.90      1630\n",
            "weighted avg       0.90      0.90      0.90      1630\n",
            "\n",
            "Confusion Matrix:\n",
            "[[231  32   3   0   2   3]\n",
            " [ 22 189  29   7  10  14]\n",
            " [  0   2 241   0  14  15]\n",
            " [  0   0   0 272   0   0]\n",
            " [  0   0   0   1 271   0]\n",
            " [  0   1   5   4   0 262]]\n"
          ]
        }
      ]
    },
    {
      "cell_type": "code",
      "source": [
        "from sklearn.model_selection import GridSearchCV\n",
        "\n",
        "# Define the parameter grid\n",
        "param_grid = {\n",
        "    'C': [0.1, 1, 10, 100],\n",
        "    'kernel': ['linear', 'rbf'],\n",
        "    'gamma': ['scale', 'auto']\n",
        "}\n",
        "\n",
        "# Initialize GridSearchCV\n",
        "grid_search = GridSearchCV(SVC(), param_grid, cv=5, scoring='accuracy', n_jobs=-1)\n",
        "grid_search.fit(X_train, y_train)\n",
        "\n",
        "# Display the best parameters and score\n",
        "print(f\"Best Parameters: {grid_search.best_params_}\")\n",
        "print(f\"Best Cross-Validation Score: {grid_search.best_score_}\")\n",
        "\n",
        "# Use the best estimator for predictions\n",
        "best_model = grid_search.best_estimator_\n",
        "y_pred_best = best_model.predict(X_test)\n",
        "\n",
        "# Evaluate the best model\n",
        "print(\"Classification Report (Best Model):\")\n",
        "print(classification_report(y_test, y_pred_best))"
      ],
      "metadata": {
        "colab": {
          "base_uri": "https://localhost:8080/"
        },
        "id": "12EifBZcTdYn",
        "outputId": "9d6a2d68-8cd6-417a-c0c2-112be7ca35de"
      },
      "execution_count": null,
      "outputs": [
        {
          "output_type": "stream",
          "name": "stdout",
          "text": [
            "Best Parameters: {'C': 10, 'gamma': 'scale', 'kernel': 'linear'}\n",
            "Best Cross-Validation Score: 0.8952117341293568\n",
            "Classification Report (Best Model):\n",
            "              precision    recall  f1-score   support\n",
            "\n",
            "           0       0.88      0.87      0.88       271\n",
            "           1       0.85      0.68      0.76       271\n",
            "           2       0.89      0.90      0.90       272\n",
            "           3       0.96      1.00      0.98       272\n",
            "           4       0.92      1.00      0.96       272\n",
            "           5       0.90      0.97      0.94       272\n",
            "\n",
            "    accuracy                           0.90      1630\n",
            "   macro avg       0.90      0.90      0.90      1630\n",
            "weighted avg       0.90      0.90      0.90      1630\n",
            "\n"
          ]
        }
      ]
    },
    {
      "cell_type": "markdown",
      "source": [
        "Model Training after hyperparameter tuning"
      ],
      "metadata": {
        "id": "ntA8T7caX4Tx"
      }
    },
    {
      "cell_type": "code",
      "source": [
        "# Train the optimized SVM model\n",
        "optimized_svm = SVC(C=10, kernel='linear', gamma='scale', random_state=42)\n",
        "optimized_svm.fit(X_train, y_train)\n",
        "\n",
        "print(\"Optimized SVM model training complete.\")\n"
      ],
      "metadata": {
        "colab": {
          "base_uri": "https://localhost:8080/"
        },
        "id": "uTI4Qg4HX3ws",
        "outputId": "8b3ece12-f9d7-4a88-931b-4ae40260d5f9"
      },
      "execution_count": null,
      "outputs": [
        {
          "output_type": "stream",
          "name": "stdout",
          "text": [
            "Optimized SVM model training complete.\n"
          ]
        }
      ]
    },
    {
      "cell_type": "code",
      "source": [
        "from sklearn.metrics import classification_report, accuracy_score, confusion_matrix\n",
        "\n",
        "# Make predictions on the test set\n",
        "y_pred = optimized_svm.predict(X_test)\n",
        "\n",
        "# Calculate accuracy\n",
        "accuracy = accuracy_score(y_test, y_pred)\n",
        "print(f\"Accuracy: {accuracy:.2f}\")\n",
        "\n",
        "# Display the classification report\n",
        "print(\"Classification Report:\")\n",
        "print(classification_report(y_test, y_pred))\n",
        "\n",
        "# Display the confusion matrix\n",
        "print(\"Confusion Matrix:\")\n",
        "print(confusion_matrix(y_test, y_pred))\n"
      ],
      "metadata": {
        "colab": {
          "base_uri": "https://localhost:8080/"
        },
        "id": "lq9KxO_wTcV_",
        "outputId": "c05030c1-7d86-4653-ef1d-07165a571482"
      },
      "execution_count": null,
      "outputs": [
        {
          "output_type": "stream",
          "name": "stdout",
          "text": [
            "Accuracy: 0.90\n",
            "Classification Report:\n",
            "              precision    recall  f1-score   support\n",
            "\n",
            "           0       0.88      0.87      0.88       271\n",
            "           1       0.85      0.68      0.76       271\n",
            "           2       0.89      0.90      0.90       272\n",
            "           3       0.96      1.00      0.98       272\n",
            "           4       0.92      1.00      0.96       272\n",
            "           5       0.90      0.97      0.94       272\n",
            "\n",
            "    accuracy                           0.90      1630\n",
            "   macro avg       0.90      0.90      0.90      1630\n",
            "weighted avg       0.90      0.90      0.90      1630\n",
            "\n",
            "Confusion Matrix:\n",
            "[[235  28   3   0   2   3]\n",
            " [ 30 185  25   6   9  16]\n",
            " [  1   3 245   0  13  10]\n",
            " [  0   0   0 272   0   0]\n",
            " [  0   0   0   0 272   0]\n",
            " [  0   1   2   4   0 265]]\n"
          ]
        }
      ]
    },
    {
      "cell_type": "code",
      "source": [
        "import joblib\n",
        "\n",
        "# Save the optimized SVM model\n",
        "joblib.dump(optimized_svm, \"optimized_svm_classifier.joblib\")\n",
        "print(\"Optimized SVM model saved successfully.\")\n"
      ],
      "metadata": {
        "colab": {
          "base_uri": "https://localhost:8080/"
        },
        "id": "Ns2hyalnYGDl",
        "outputId": "489ecdaf-7f4d-440d-af75-35bd0982b65b"
      },
      "execution_count": null,
      "outputs": [
        {
          "output_type": "stream",
          "name": "stdout",
          "text": [
            "Optimized SVM model saved successfully.\n"
          ]
        }
      ]
    },
    {
      "cell_type": "code",
      "source": [
        "# Load the optimized SVM model\n",
        "loaded_model = joblib.load(\"optimized_svm_classifier.joblib\")\n",
        "\n",
        "# Example: Make predictions on new data\n",
        "new_data = X_test[:5]  # Replace with your new data\n",
        "predictions = loaded_model.predict(new_data)\n",
        "\n",
        "print(f\"Predictions: {predictions}\")\n"
      ],
      "metadata": {
        "colab": {
          "base_uri": "https://localhost:8080/"
        },
        "id": "xCpisg0rYNzG",
        "outputId": "41bfba0c-3fea-47e4-8190-122f332fc95b"
      },
      "execution_count": null,
      "outputs": [
        {
          "output_type": "stream",
          "name": "stdout",
          "text": [
            "Predictions: [5 3 2 4 1]\n"
          ]
        }
      ]
    },
    {
      "cell_type": "code",
      "source": [
        "from sklearn.model_selection import cross_val_score\n",
        "\n",
        "# Perform cross-validation\n",
        "cv_scores = cross_val_score(optimized_svm, X_resampled, y_resampled, cv=5, scoring='accuracy')\n",
        "\n",
        "print(f\"Cross-Validation Scores: {cv_scores}\")\n",
        "print(f\"Mean CV Accuracy: {cv_scores.mean():.2f}\")\n"
      ],
      "metadata": {
        "colab": {
          "base_uri": "https://localhost:8080/"
        },
        "id": "7pnnFRwfYTX5",
        "outputId": "c87e7bec-e8bb-4b8c-8146-ee3c9d862962"
      },
      "execution_count": null,
      "outputs": [
        {
          "output_type": "stream",
          "name": "stdout",
          "text": [
            "Cross-Validation Scores: [0.87607362 0.88466258 0.89631902 0.91282996 0.92633517]\n",
            "Mean CV Accuracy: 0.90\n"
          ]
        }
      ]
    },
    {
      "cell_type": "markdown",
      "source": [
        "Testing the model"
      ],
      "metadata": {
        "id": "tWJwErgaZTxa"
      }
    },
    {
      "cell_type": "code",
      "source": [
        "# Load the saved TF-IDF vectorizer\n",
        "tfidf_vectorizer = joblib.load(\"/content/drive/MyDrive/NepaliDataSet/tfidf_vectorizer.joblib\")\n",
        "\n",
        "# Example unseen raw data\n",
        "unseen_raw_data = [\n",
        "    \"तिमीहरु सबै कामचोर हो, यो देश बिगार्ने तिमीहरुकै कारण हो।\",  # Hate\n",
        "    \"महिलाहरुले के गर्न सक्छन्? तिनीहरु कमजोर हुन्छन्।\",            # Hate\n",
        "    \"तँलाई यो काम केही पनि थाहा छैन, मुर्ख!\",                        # Profanity\n",
        "    \"नेताहरु भ्रष्ट छन्, तिनीहरु सबै झुट बोल्ने छन्।\",                # Hate\n",
        "    \"तिमी जस्तो मुर्खलाई यो देशमा के गर्न दिने?\",                   # Hate\n",
        "    \"तेरो दिमाग छैन कि के हो?\",                                     # Profanity\n",
        "    \"आजको मौसम कस्तो राम्रो छ!\",                                   # Neutral\n",
        "    \"म बिहान स्कूल जान्छु र साँझ घर फर्किन्छु।\",                    # Neutral\n",
        "    \"तँ सधैं ढिलो गर्छस्, के कामका लागि लायक छैनस्?\",               # Profanity\n",
        "    \"तिमीले राम्रो काम गरेको छौ, तिमीमाथि गर्व छ।\"\n",
        "]\n",
        "\n",
        "# Transform the unseen data\n",
        "X_unseen = tfidf_vectorizer.transform(unseen_raw_data)\n"
      ],
      "metadata": {
        "id": "9tZ7EOT_YcZF"
      },
      "execution_count": null,
      "outputs": []
    },
    {
      "cell_type": "code",
      "source": [
        "# Load the trained SVM model\n",
        "optimized_svm = joblib.load(\"optimized_svm_classifier.joblib\")\n",
        "\n",
        "# Predict on unseen data\n",
        "unseen_predictions = optimized_svm.predict(X_unseen)\n",
        "\n",
        "# Display predictions\n",
        "print(f\"Predictions for unseen data: {unseen_predictions}\")\n"
      ],
      "metadata": {
        "colab": {
          "base_uri": "https://localhost:8080/"
        },
        "id": "I0rKA1gWZnrQ",
        "outputId": "a2b97267-6dec-409a-eb7f-bdc762a16f4b"
      },
      "execution_count": null,
      "outputs": [
        {
          "output_type": "stream",
          "name": "stdout",
          "text": [
            "Predictions for unseen data: [1 1 1 5 1 1 1 1 0 0]\n"
          ]
        }
      ]
    },
    {
      "cell_type": "code",
      "source": [
        "from sklearn.metrics import classification_report, accuracy_score\n",
        "\n",
        "# Example ground truth labels\n",
        "# Example ground truth labels (update according to your data categories)\n",
        "y_unseen = [1, 1, 2, 1, 1, 2, 0, 0, 2, 0]  # Replace with actual labels\n",
        "\n",
        "# Evaluate the model\n",
        "print(\"Classification Report for Unseen Data:\")\n",
        "print(classification_report(y_unseen, unseen_predictions))\n",
        "\n",
        "# Accuracy\n",
        "accuracy = accuracy_score(y_unseen, unseen_predictions)\n",
        "print(f\"Accuracy on unseen data: {accuracy:.2f}\")\n"
      ],
      "metadata": {
        "colab": {
          "base_uri": "https://localhost:8080/"
        },
        "id": "GF4fprePZoYa",
        "outputId": "d993aee3-5eeb-4e80-8927-e640eb8b84a8"
      },
      "execution_count": null,
      "outputs": [
        {
          "output_type": "stream",
          "name": "stdout",
          "text": [
            "Classification Report for Unseen Data:\n",
            "              precision    recall  f1-score   support\n",
            "\n",
            "           0       0.50      0.33      0.40         3\n",
            "           1       0.43      0.75      0.55         4\n",
            "           2       0.00      0.00      0.00         3\n",
            "           5       0.00      0.00      0.00         0\n",
            "\n",
            "    accuracy                           0.40        10\n",
            "   macro avg       0.23      0.27      0.24        10\n",
            "weighted avg       0.32      0.40      0.34        10\n",
            "\n",
            "Accuracy on unseen data: 0.40\n"
          ]
        },
        {
          "output_type": "stream",
          "name": "stderr",
          "text": [
            "/usr/local/lib/python3.10/dist-packages/sklearn/metrics/_classification.py:1565: UndefinedMetricWarning: Precision is ill-defined and being set to 0.0 in labels with no predicted samples. Use `zero_division` parameter to control this behavior.\n",
            "  _warn_prf(average, modifier, f\"{metric.capitalize()} is\", len(result))\n",
            "/usr/local/lib/python3.10/dist-packages/sklearn/metrics/_classification.py:1565: UndefinedMetricWarning: Recall is ill-defined and being set to 0.0 in labels with no true samples. Use `zero_division` parameter to control this behavior.\n",
            "  _warn_prf(average, modifier, f\"{metric.capitalize()} is\", len(result))\n",
            "/usr/local/lib/python3.10/dist-packages/sklearn/metrics/_classification.py:1565: UndefinedMetricWarning: Precision is ill-defined and being set to 0.0 in labels with no predicted samples. Use `zero_division` parameter to control this behavior.\n",
            "  _warn_prf(average, modifier, f\"{metric.capitalize()} is\", len(result))\n",
            "/usr/local/lib/python3.10/dist-packages/sklearn/metrics/_classification.py:1565: UndefinedMetricWarning: Recall is ill-defined and being set to 0.0 in labels with no true samples. Use `zero_division` parameter to control this behavior.\n",
            "  _warn_prf(average, modifier, f\"{metric.capitalize()} is\", len(result))\n",
            "/usr/local/lib/python3.10/dist-packages/sklearn/metrics/_classification.py:1565: UndefinedMetricWarning: Precision is ill-defined and being set to 0.0 in labels with no predicted samples. Use `zero_division` parameter to control this behavior.\n",
            "  _warn_prf(average, modifier, f\"{metric.capitalize()} is\", len(result))\n",
            "/usr/local/lib/python3.10/dist-packages/sklearn/metrics/_classification.py:1565: UndefinedMetricWarning: Recall is ill-defined and being set to 0.0 in labels with no true samples. Use `zero_division` parameter to control this behavior.\n",
            "  _warn_prf(average, modifier, f\"{metric.capitalize()} is\", len(result))\n"
          ]
        }
      ]
    },
    {
      "cell_type": "code",
      "source": [],
      "metadata": {
        "id": "XU2CiMzOafp7"
      },
      "execution_count": null,
      "outputs": []
    }
  ]
}