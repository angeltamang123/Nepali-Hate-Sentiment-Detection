{
 "cells": [
  {
   "cell_type": "code",
   "execution_count": 1,
   "id": "d5d76279-6a51-4741-a37b-3541699a7ab3",
   "metadata": {},
   "outputs": [
    {
     "data": {
      "text/html": [
       "<div>\n",
       "<style scoped>\n",
       "    .dataframe tbody tr th:only-of-type {\n",
       "        vertical-align: middle;\n",
       "    }\n",
       "\n",
       "    .dataframe tbody tr th {\n",
       "        vertical-align: top;\n",
       "    }\n",
       "\n",
       "    .dataframe thead th {\n",
       "        text-align: right;\n",
       "    }\n",
       "</style>\n",
       "<table border=\"1\" class=\"dataframe\">\n",
       "  <thead>\n",
       "    <tr style=\"text-align: right;\">\n",
       "      <th></th>\n",
       "      <th>Text</th>\n",
       "      <th>Target</th>\n",
       "    </tr>\n",
       "  </thead>\n",
       "  <tbody>\n",
       "    <tr>\n",
       "      <th>0</th>\n",
       "      <td>गुठी विधेक ल्याएर ठमेल राज गुठि जग्गा छाया सेन...</td>\n",
       "      <td>0</td>\n",
       "    </tr>\n",
       "    <tr>\n",
       "      <th>1</th>\n",
       "      <td>दले देश सकेछन बेचे खान सुरू गरेछन दले लखेटनु पछ ।</td>\n",
       "      <td>1</td>\n",
       "    </tr>\n",
       "    <tr>\n",
       "      <th>2</th>\n",
       "      <td>नेपाल ससकृती ध्वस्त पार्ने योजना !</td>\n",
       "      <td>1</td>\n",
       "    </tr>\n",
       "    <tr>\n",
       "      <th>3</th>\n",
       "      <td>मठ मन्दिर गुम्बा जग्गा हरु भुमाफिया नजर परे हु...</td>\n",
       "      <td>1</td>\n",
       "    </tr>\n",
       "    <tr>\n",
       "      <th>4</th>\n",
       "      <td>नेपाल कल कर्खाना नदि नाला बेची सके मठ मन्दीर ब...</td>\n",
       "      <td>1</td>\n",
       "    </tr>\n",
       "  </tbody>\n",
       "</table>\n",
       "</div>"
      ],
      "text/plain": [
       "                                                Text  Target\n",
       "0  गुठी विधेक ल्याएर ठमेल राज गुठि जग्गा छाया सेन...       0\n",
       "1  दले देश सकेछन बेचे खान सुरू गरेछन दले लखेटनु पछ ।       1\n",
       "2                 नेपाल ससकृती ध्वस्त पार्ने योजना !       1\n",
       "3  मठ मन्दिर गुम्बा जग्गा हरु भुमाफिया नजर परे हु...       1\n",
       "4  नेपाल कल कर्खाना नदि नाला बेची सके मठ मन्दीर ब...       1"
      ]
     },
     "execution_count": 1,
     "metadata": {},
     "output_type": "execute_result"
    }
   ],
   "source": [
    "import pandas as pd\n",
    "import numpy as np\n",
    "import matplotlib.pyplot as plt\n",
    "\n",
    "df1 = pd.read_csv(\"./Data/Cleaned_Nepali_dataset_v2.csv\")\n",
    "df2 = pd.read_csv(\"./Data/NepSa_minority_data.csv\")\n",
    "df1.head()"
   ]
  },
  {
   "cell_type": "code",
   "execution_count": 2,
   "id": "1766b4f7-9212-4d12-847f-76fbaa328cba",
   "metadata": {},
   "outputs": [
    {
     "data": {
      "text/html": [
       "<div>\n",
       "<style scoped>\n",
       "    .dataframe tbody tr th:only-of-type {\n",
       "        vertical-align: middle;\n",
       "    }\n",
       "\n",
       "    .dataframe tbody tr th {\n",
       "        vertical-align: top;\n",
       "    }\n",
       "\n",
       "    .dataframe thead th {\n",
       "        text-align: right;\n",
       "    }\n",
       "</style>\n",
       "<table border=\"1\" class=\"dataframe\">\n",
       "  <thead>\n",
       "    <tr style=\"text-align: right;\">\n",
       "      <th></th>\n",
       "      <th>TEXT</th>\n",
       "      <th>ASPECT_TERM</th>\n",
       "      <th>COLLECTED_BY</th>\n",
       "      <th>COLLECTOR'S_ANNOTATION</th>\n",
       "      <th>ANGEL'S_ANNOTATION</th>\n",
       "    </tr>\n",
       "  </thead>\n",
       "  <tbody>\n",
       "    <tr>\n",
       "      <th>0</th>\n",
       "      <td>कमा नत झाथा तेस्को पक्षि कति स्त्रुग्ग्ले थियो...</td>\n",
       "      <td>झाथा</td>\n",
       "      <td>Angel</td>\n",
       "      <td>Profanity_0</td>\n",
       "      <td>Profanity_0</td>\n",
       "    </tr>\n",
       "    <tr>\n",
       "      <th>1</th>\n",
       "      <td>भान्जा रिस उठेकै हो त? कोले भन्यो हान्दिम।</td>\n",
       "      <td>हान्दिम</td>\n",
       "      <td>Angel</td>\n",
       "      <td>Violence_0</td>\n",
       "      <td>Violence_0</td>\n",
       "    </tr>\n",
       "    <tr>\n",
       "      <th>2</th>\n",
       "      <td>अनुहर त गतिलो त होएन मादेर्चुत</td>\n",
       "      <td>मादेर्चुत</td>\n",
       "      <td>Angel</td>\n",
       "      <td>Profanity_1</td>\n",
       "      <td>Profanity_1</td>\n",
       "    </tr>\n",
       "    <tr>\n",
       "      <th>3</th>\n",
       "      <td>को विकरी हो यो एस्लै नेपाल सर्कर बटा विकरी भट्...</td>\n",
       "      <td>विकरी हो</td>\n",
       "      <td>Angel</td>\n",
       "      <td>Profanity_0</td>\n",
       "      <td>Profanity_0</td>\n",
       "    </tr>\n",
       "    <tr>\n",
       "      <th>4</th>\n",
       "      <td>घण्टा को राजा  । टेरी मा दास कमरो । अर्को चोती...</td>\n",
       "      <td>घण्टा को</td>\n",
       "      <td>Angel</td>\n",
       "      <td>Profanity_0</td>\n",
       "      <td>Profanity_1</td>\n",
       "    </tr>\n",
       "  </tbody>\n",
       "</table>\n",
       "</div>"
      ],
      "text/plain": [
       "                                                TEXT ASPECT_TERM COLLECTED_BY  \\\n",
       "0  कमा नत झाथा तेस्को पक्षि कति स्त्रुग्ग्ले थियो...        झाथा        Angel   \n",
       "1         भान्जा रिस उठेकै हो त? कोले भन्यो हान्दिम।     हान्दिम        Angel   \n",
       "2                    अनुहर त गतिलो त होएन मादेर्चुत    मादेर्चुत        Angel   \n",
       "3  को विकरी हो यो एस्लै नेपाल सर्कर बटा विकरी भट्...    विकरी हो        Angel   \n",
       "4  घण्टा को राजा  । टेरी मा दास कमरो । अर्को चोती...    घण्टा को        Angel   \n",
       "\n",
       "  COLLECTOR'S_ANNOTATION ANGEL'S_ANNOTATION  \n",
       "0            Profanity_0        Profanity_0  \n",
       "1             Violence_0         Violence_0  \n",
       "2            Profanity_1        Profanity_1  \n",
       "3            Profanity_0        Profanity_0  \n",
       "4            Profanity_0        Profanity_1  "
      ]
     },
     "execution_count": 2,
     "metadata": {},
     "output_type": "execute_result"
    }
   ],
   "source": [
    "df2.head()"
   ]
  },
  {
   "cell_type": "code",
   "execution_count": 3,
   "id": "07969633-6736-4674-b01c-579602d1da33",
   "metadata": {},
   "outputs": [
    {
     "name": "stdout",
     "output_type": "stream",
     "text": [
      "<class 'pandas.core.frame.DataFrame'>\n",
      "RangeIndex: 2068 entries, 0 to 2067\n",
      "Data columns (total 5 columns):\n",
      " #   Column                  Non-Null Count  Dtype \n",
      "---  ------                  --------------  ----- \n",
      " 0   TEXT                    2068 non-null   object\n",
      " 1   ASPECT_TERM             2068 non-null   object\n",
      " 2   COLLECTED_BY            2068 non-null   object\n",
      " 3   COLLECTOR'S_ANNOTATION  2068 non-null   object\n",
      " 4   ANGEL'S_ANNOTATION      2068 non-null   object\n",
      "dtypes: object(5)\n",
      "memory usage: 80.9+ KB\n"
     ]
    }
   ],
   "source": [
    "df2.info()"
   ]
  },
  {
   "cell_type": "code",
   "execution_count": 4,
   "id": "956f5d3c-8668-4902-885d-d507fa0653de",
   "metadata": {},
   "outputs": [
    {
     "data": {
      "text/html": [
       "<div>\n",
       "<style scoped>\n",
       "    .dataframe tbody tr th:only-of-type {\n",
       "        vertical-align: middle;\n",
       "    }\n",
       "\n",
       "    .dataframe tbody tr th {\n",
       "        vertical-align: top;\n",
       "    }\n",
       "\n",
       "    .dataframe thead th {\n",
       "        text-align: right;\n",
       "    }\n",
       "</style>\n",
       "<table border=\"1\" class=\"dataframe\">\n",
       "  <thead>\n",
       "    <tr style=\"text-align: right;\">\n",
       "      <th></th>\n",
       "      <th>TEXT</th>\n",
       "      <th>ASPECT_TERM</th>\n",
       "      <th>COLLECTED_BY</th>\n",
       "      <th>COLLECTOR'S_ANNOTATION</th>\n",
       "      <th>ANGEL'S_ANNOTATION</th>\n",
       "    </tr>\n",
       "  </thead>\n",
       "  <tbody>\n",
       "    <tr>\n",
       "      <th>0</th>\n",
       "      <td>कमा नत झाथा तेस्को पक्षि कति स्त्रुग्ग्ले थियो...</td>\n",
       "      <td>झाथा</td>\n",
       "      <td>Angel</td>\n",
       "      <td>2</td>\n",
       "      <td>2</td>\n",
       "    </tr>\n",
       "    <tr>\n",
       "      <th>1</th>\n",
       "      <td>भान्जा रिस उठेकै हो त? कोले भन्यो हान्दिम।</td>\n",
       "      <td>हान्दिम</td>\n",
       "      <td>Angel</td>\n",
       "      <td>4</td>\n",
       "      <td>4</td>\n",
       "    </tr>\n",
       "    <tr>\n",
       "      <th>2</th>\n",
       "      <td>अनुहर त गतिलो त होएन मादेर्चुत</td>\n",
       "      <td>मादेर्चुत</td>\n",
       "      <td>Angel</td>\n",
       "      <td>3</td>\n",
       "      <td>3</td>\n",
       "    </tr>\n",
       "    <tr>\n",
       "      <th>3</th>\n",
       "      <td>को विकरी हो यो एस्लै नेपाल सर्कर बटा विकरी भट्...</td>\n",
       "      <td>विकरी हो</td>\n",
       "      <td>Angel</td>\n",
       "      <td>2</td>\n",
       "      <td>2</td>\n",
       "    </tr>\n",
       "    <tr>\n",
       "      <th>4</th>\n",
       "      <td>घण्टा को राजा  । टेरी मा दास कमरो । अर्को चोती...</td>\n",
       "      <td>घण्टा को</td>\n",
       "      <td>Angel</td>\n",
       "      <td>2</td>\n",
       "      <td>3</td>\n",
       "    </tr>\n",
       "  </tbody>\n",
       "</table>\n",
       "</div>"
      ],
      "text/plain": [
       "                                                TEXT ASPECT_TERM COLLECTED_BY  \\\n",
       "0  कमा नत झाथा तेस्को पक्षि कति स्त्रुग्ग्ले थियो...        झाथा        Angel   \n",
       "1         भान्जा रिस उठेकै हो त? कोले भन्यो हान्दिम।     हान्दिम        Angel   \n",
       "2                    अनुहर त गतिलो त होएन मादेर्चुत    मादेर्चुत        Angel   \n",
       "3  को विकरी हो यो एस्लै नेपाल सर्कर बटा विकरी भट्...    विकरी हो        Angel   \n",
       "4  घण्टा को राजा  । टेरी मा दास कमरो । अर्को चोती...    घण्टा को        Angel   \n",
       "\n",
       "   COLLECTOR'S_ANNOTATION  ANGEL'S_ANNOTATION  \n",
       "0                       2                   2  \n",
       "1                       4                   4  \n",
       "2                       3                   3  \n",
       "3                       2                   2  \n",
       "4                       2                   3  "
      ]
     },
     "execution_count": 4,
     "metadata": {},
     "output_type": "execute_result"
    }
   ],
   "source": [
    "label_map = {\n",
    "    'General_0': 0,\n",
    "    'General_1': 1,\n",
    "    'Profanity_0': 2,\n",
    "    'Profanity_1': 3,\n",
    "    'Violence_0': 4,\n",
    "    'Violence_1': 5\n",
    "}\n",
    "\n",
    "df2_copy = df2.copy()\n",
    "df2_copy[\"COLLECTOR'S_ANNOTATION\"] = df2_copy[\"COLLECTOR'S_ANNOTATION\"].map(label_map).astype('int64')\n",
    "df2_copy[\"ANGEL'S_ANNOTATION\"] = df2_copy[\"ANGEL'S_ANNOTATION\"].map(label_map).astype('int64')\n",
    "df2_copy.head()"
   ]
  },
  {
   "cell_type": "code",
   "execution_count": 5,
   "id": "83fb596d-5fd1-400b-af0b-0cc95a01c9ae",
   "metadata": {},
   "outputs": [
    {
     "name": "stdout",
     "output_type": "stream",
     "text": [
      "ANGEL'S_ANNOTATION\n",
      "Profanity_0    519\n",
      "Violence_1     505\n",
      "Violence_0     501\n",
      "Profanity_1    501\n",
      "General_1       36\n",
      "General_0        6\n",
      "Name: count, dtype: int64\n"
     ]
    }
   ],
   "source": [
    "print(df2.loc[:,\"ANGEL'S_ANNOTATION\"].value_counts())"
   ]
  },
  {
   "cell_type": "markdown",
   "id": "5e9ff190-9b17-4437-9893-9d6f98a560cb",
   "metadata": {},
   "source": [
    "## Let's calculate krippen-dorff's alpha to check the aggreement between annotators"
   ]
  },
  {
   "cell_type": "code",
   "execution_count": 6,
   "id": "8dbbcb44-e4e9-4082-a311-6863e38eded6",
   "metadata": {},
   "outputs": [],
   "source": [
    "import krippendorff\n",
    "\n",
    "data_collectors = df2_copy[\"COLLECTOR'S_ANNOTATION\"].values\n",
    "main_annotator = df2_copy[\"ANGEL'S_ANNOTATION\"].values"
   ]
  },
  {
   "cell_type": "code",
   "execution_count": 7,
   "id": "64dab478-fa02-418a-ad72-fe7c48ea1fe2",
   "metadata": {},
   "outputs": [
    {
     "data": {
      "text/plain": [
       "array([2, 4, 3, ..., 4, 4, 4])"
      ]
     },
     "execution_count": 7,
     "metadata": {},
     "output_type": "execute_result"
    }
   ],
   "source": [
    "data_collectors"
   ]
  },
  {
   "cell_type": "code",
   "execution_count": 8,
   "id": "3b002542-f11d-478f-85d3-b7cf21e7ec2b",
   "metadata": {},
   "outputs": [
    {
     "data": {
      "text/plain": [
       "array([2, 4, 3, ..., 4, 4, 4])"
      ]
     },
     "execution_count": 8,
     "metadata": {},
     "output_type": "execute_result"
    }
   ],
   "source": [
    "main_annotator"
   ]
  },
  {
   "cell_type": "code",
   "execution_count": 9,
   "id": "b98b4d12-a0ff-47fe-bc4f-682525a875f2",
   "metadata": {},
   "outputs": [],
   "source": [
    "ratings = [data_collectors, main_annotator]\n",
    "ratings_array = np.array(ratings)"
   ]
  },
  {
   "cell_type": "code",
   "execution_count": 10,
   "id": "da781e3d-941e-4497-a9bd-9b49a89204ed",
   "metadata": {},
   "outputs": [
    {
     "name": "stdout",
     "output_type": "stream",
     "text": [
      "Krippendorff's Alpha: 0.9244757392262265\n"
     ]
    }
   ],
   "source": [
    "alpha = krippendorff.alpha(reliability_data=ratings_array, level_of_measurement='nominal')\n",
    "print(f\"Krippendorff's Alpha: {alpha}\")"
   ]
  },
  {
   "cell_type": "markdown",
   "id": "c1c12797-51b4-4cac-98a9-b3b25147d65e",
   "metadata": {},
   "source": [
    "## With an aggreement of 92.4% the data collection of minorities in NepSA has ended now we append this data to NepSA and call it NepSA++"
   ]
  },
  {
   "cell_type": "code",
   "execution_count": 11,
   "id": "38c41d2f-a830-4840-a831-46e92a718832",
   "metadata": {},
   "outputs": [
    {
     "data": {
      "text/html": [
       "<div>\n",
       "<style scoped>\n",
       "    .dataframe tbody tr th:only-of-type {\n",
       "        vertical-align: middle;\n",
       "    }\n",
       "\n",
       "    .dataframe tbody tr th {\n",
       "        vertical-align: top;\n",
       "    }\n",
       "\n",
       "    .dataframe thead th {\n",
       "        text-align: right;\n",
       "    }\n",
       "</style>\n",
       "<table border=\"1\" class=\"dataframe\">\n",
       "  <thead>\n",
       "    <tr style=\"text-align: right;\">\n",
       "      <th></th>\n",
       "      <th>TEXT</th>\n",
       "      <th>Target</th>\n",
       "    </tr>\n",
       "  </thead>\n",
       "  <tbody>\n",
       "    <tr>\n",
       "      <th>0</th>\n",
       "      <td>कमा नत झाथा तेस्को पक्षि कति स्त्रुग्ग्ले थियो...</td>\n",
       "      <td>2</td>\n",
       "    </tr>\n",
       "    <tr>\n",
       "      <th>1</th>\n",
       "      <td>भान्जा रिस उठेकै हो त? कोले भन्यो हान्दिम।</td>\n",
       "      <td>4</td>\n",
       "    </tr>\n",
       "    <tr>\n",
       "      <th>2</th>\n",
       "      <td>अनुहर त गतिलो त होएन मादेर्चुत</td>\n",
       "      <td>3</td>\n",
       "    </tr>\n",
       "    <tr>\n",
       "      <th>3</th>\n",
       "      <td>को विकरी हो यो एस्लै नेपाल सर्कर बटा विकरी भट्...</td>\n",
       "      <td>2</td>\n",
       "    </tr>\n",
       "    <tr>\n",
       "      <th>4</th>\n",
       "      <td>घण्टा को राजा  । टेरी मा दास कमरो । अर्को चोती...</td>\n",
       "      <td>3</td>\n",
       "    </tr>\n",
       "  </tbody>\n",
       "</table>\n",
       "</div>"
      ],
      "text/plain": [
       "                                                TEXT  Target\n",
       "0  कमा नत झाथा तेस्को पक्षि कति स्त्रुग्ग्ले थियो...       2\n",
       "1         भान्जा रिस उठेकै हो त? कोले भन्यो हान्दिम।       4\n",
       "2                    अनुहर त गतिलो त होएन मादेर्चुत        3\n",
       "3  को विकरी हो यो एस्लै नेपाल सर्कर बटा विकरी भट्...       2\n",
       "4  घण्टा को राजा  । टेरी मा दास कमरो । अर्को चोती...       3"
      ]
     },
     "execution_count": 11,
     "metadata": {},
     "output_type": "execute_result"
    }
   ],
   "source": [
    "df1_copy = df1.copy()\n",
    "df2_copy.rename(columns={\"ANGEL'S_ANNOTATION\": \"Target\"}, inplace=True)\n",
    "df2_copy.drop(labels=[\"ASPECT_TERM\", \"COLLECTED_BY\", \"COLLECTOR'S_ANNOTATION\"], axis=1 , inplace=True)\n",
    "df2_copy.head()"
   ]
  },
  {
   "cell_type": "code",
   "execution_count": 12,
   "id": "14d47a8d-6615-4ad3-be9d-59d5172343e9",
   "metadata": {},
   "outputs": [
    {
     "data": {
      "text/html": [
       "<div>\n",
       "<style scoped>\n",
       "    .dataframe tbody tr th:only-of-type {\n",
       "        vertical-align: middle;\n",
       "    }\n",
       "\n",
       "    .dataframe tbody tr th {\n",
       "        vertical-align: top;\n",
       "    }\n",
       "\n",
       "    .dataframe thead th {\n",
       "        text-align: right;\n",
       "    }\n",
       "</style>\n",
       "<table border=\"1\" class=\"dataframe\">\n",
       "  <thead>\n",
       "    <tr style=\"text-align: right;\">\n",
       "      <th></th>\n",
       "      <th>Text</th>\n",
       "      <th>Target</th>\n",
       "    </tr>\n",
       "  </thead>\n",
       "  <tbody>\n",
       "    <tr>\n",
       "      <th>0</th>\n",
       "      <td>कमा नत झाथा तेस्को पक्षि कति स्त्रुग्ग्ले थियो...</td>\n",
       "      <td>2</td>\n",
       "    </tr>\n",
       "    <tr>\n",
       "      <th>1</th>\n",
       "      <td>भान्जा रिस उठेकै हो त? कोले भन्यो हान्दिम।</td>\n",
       "      <td>4</td>\n",
       "    </tr>\n",
       "    <tr>\n",
       "      <th>2</th>\n",
       "      <td>अनुहर त गतिलो त होएन मादेर्चुत</td>\n",
       "      <td>3</td>\n",
       "    </tr>\n",
       "    <tr>\n",
       "      <th>3</th>\n",
       "      <td>को विकरी हो यो एस्लै नेपाल सर्कर बटा विकरी भट्...</td>\n",
       "      <td>2</td>\n",
       "    </tr>\n",
       "    <tr>\n",
       "      <th>4</th>\n",
       "      <td>घण्टा को राजा  । टेरी मा दास कमरो । अर्को चोती...</td>\n",
       "      <td>3</td>\n",
       "    </tr>\n",
       "  </tbody>\n",
       "</table>\n",
       "</div>"
      ],
      "text/plain": [
       "                                                Text  Target\n",
       "0  कमा नत झाथा तेस्को पक्षि कति स्त्रुग्ग्ले थियो...       2\n",
       "1         भान्जा रिस उठेकै हो त? कोले भन्यो हान्दिम।       4\n",
       "2                    अनुहर त गतिलो त होएन मादेर्चुत        3\n",
       "3  को विकरी हो यो एस्लै नेपाल सर्कर बटा विकरी भट्...       2\n",
       "4  घण्टा को राजा  । टेरी मा दास कमरो । अर्को चोती...       3"
      ]
     },
     "execution_count": 12,
     "metadata": {},
     "output_type": "execute_result"
    }
   ],
   "source": [
    "df2_copy.rename(columns={\"TEXT\":\"Text\",\"TARGET\": \"Target\"}, inplace=True)\n",
    "df2_copy.head()"
   ]
  },
  {
   "cell_type": "code",
   "execution_count": 13,
   "id": "129a142b-b88c-4fb0-a3ec-12ce9721ae1b",
   "metadata": {},
   "outputs": [
    {
     "name": "stderr",
     "output_type": "stream",
     "text": [
      "[nltk_data] Downloading package punkt to /home/angel-\n",
      "[nltk_data]     tamang/nltk_data...\n",
      "[nltk_data]   Package punkt is already up-to-date!\n",
      "[nltk_data] Downloading package stopwords to /home/angel-\n",
      "[nltk_data]     tamang/nltk_data...\n",
      "[nltk_data]   Package stopwords is already up-to-date!\n"
     ]
    }
   ],
   "source": [
    "import nltk\n",
    "from nltk.tokenize import word_tokenize\n",
    "import string\n",
    "import re\n",
    "from nepali_stemmer.stemmer import NepStemmer\n",
    "from nltk.corpus import stopwords\n",
    "\n",
    "# Download required NLTK data\n",
    "nltk.download('punkt')\n",
    "nltk.download('stopwords')\n",
    "\n",
    "# Load Nepali stopwords\n",
    "nepali_stopwords = set(stopwords.words('nepali'))\n",
    "\n",
    "# Initialize Nepali stemmer\n",
    "nepstem = NepStemmer()\n",
    "\n",
    "def preprocess_text(text):\n",
    "    if not isinstance(text, str):\n",
    "        return \"\"  # Handle NaN or non-string values\n",
    "    \n",
    "    # Stemming\n",
    "    text = nepstem.stem(text)\n",
    "    \n",
    "    # Convert to lowercase\n",
    "    text = text.lower()\n",
    "    \n",
    "    # Replace Nepali sentence-ending punctuation (।) with a space\n",
    "    text = re.sub(r'।', ' |', text)\n",
    "    \n",
    "    # Remove punctuation with a space\n",
    "    text = re.sub(r'[' + re.escape(string.punctuation) + ']', ' ', text)\n",
    "    \n",
    "    # Remove multiple dots (……, ...), dashes (---), or similar symbols\n",
    "    text = re.sub(r'[\\.\\-…]+', ' ', text)\n",
    "    \n",
    "    # Remove stopwords\n",
    "    text = ' '.join([word for word in text.split() if word not in nepali_stopwords])\n",
    "    \n",
    "    return text\n",
    "\n",
    "# Apply preprocessing\n",
    "df2_copy['Text'] = df2_copy['Text'].apply(preprocess_text)"
   ]
  },
  {
   "cell_type": "code",
   "execution_count": 14,
   "id": "9ff5220b-0f17-45c2-aa2f-a13802e91f83",
   "metadata": {},
   "outputs": [
    {
     "data": {
      "text/html": [
       "<div>\n",
       "<style scoped>\n",
       "    .dataframe tbody tr th:only-of-type {\n",
       "        vertical-align: middle;\n",
       "    }\n",
       "\n",
       "    .dataframe tbody tr th {\n",
       "        vertical-align: top;\n",
       "    }\n",
       "\n",
       "    .dataframe thead th {\n",
       "        text-align: right;\n",
       "    }\n",
       "</style>\n",
       "<table border=\"1\" class=\"dataframe\">\n",
       "  <thead>\n",
       "    <tr style=\"text-align: right;\">\n",
       "      <th></th>\n",
       "      <th>Text</th>\n",
       "      <th>Target</th>\n",
       "    </tr>\n",
       "  </thead>\n",
       "  <tbody>\n",
       "    <tr>\n",
       "      <th>0</th>\n",
       "      <td>गुठी विधेक ल्याएर ठमेल राज गुठि जग्गा छाया सेन...</td>\n",
       "      <td>0</td>\n",
       "    </tr>\n",
       "    <tr>\n",
       "      <th>1</th>\n",
       "      <td>दले देश सकेछन बेचे खान सुरू गरेछन दले लखेटनु पछ ।</td>\n",
       "      <td>1</td>\n",
       "    </tr>\n",
       "    <tr>\n",
       "      <th>2</th>\n",
       "      <td>नेपाल ससकृती ध्वस्त पार्ने योजना !</td>\n",
       "      <td>1</td>\n",
       "    </tr>\n",
       "    <tr>\n",
       "      <th>3</th>\n",
       "      <td>मठ मन्दिर गुम्बा जग्गा हरु भुमाफिया नजर परे हु...</td>\n",
       "      <td>1</td>\n",
       "    </tr>\n",
       "    <tr>\n",
       "      <th>4</th>\n",
       "      <td>नेपाल कल कर्खाना नदि नाला बेची सके मठ मन्दीर ब...</td>\n",
       "      <td>1</td>\n",
       "    </tr>\n",
       "  </tbody>\n",
       "</table>\n",
       "</div>"
      ],
      "text/plain": [
       "                                                Text  Target\n",
       "0  गुठी विधेक ल्याएर ठमेल राज गुठि जग्गा छाया सेन...       0\n",
       "1  दले देश सकेछन बेचे खान सुरू गरेछन दले लखेटनु पछ ।       1\n",
       "2                 नेपाल ससकृती ध्वस्त पार्ने योजना !       1\n",
       "3  मठ मन्दिर गुम्बा जग्गा हरु भुमाफिया नजर परे हु...       1\n",
       "4  नेपाल कल कर्खाना नदि नाला बेची सके मठ मन्दीर ब...       1"
      ]
     },
     "execution_count": 14,
     "metadata": {},
     "output_type": "execute_result"
    }
   ],
   "source": [
    "df1_copy.head()"
   ]
  },
  {
   "cell_type": "code",
   "execution_count": 15,
   "id": "9e870044-b7ef-4c4d-8dbb-6077e59f9e6a",
   "metadata": {},
   "outputs": [
    {
     "data": {
      "text/html": [
       "<div>\n",
       "<style scoped>\n",
       "    .dataframe tbody tr th:only-of-type {\n",
       "        vertical-align: middle;\n",
       "    }\n",
       "\n",
       "    .dataframe tbody tr th {\n",
       "        vertical-align: top;\n",
       "    }\n",
       "\n",
       "    .dataframe thead th {\n",
       "        text-align: right;\n",
       "    }\n",
       "</style>\n",
       "<table border=\"1\" class=\"dataframe\">\n",
       "  <thead>\n",
       "    <tr style=\"text-align: right;\">\n",
       "      <th></th>\n",
       "      <th>Text</th>\n",
       "      <th>Target</th>\n",
       "    </tr>\n",
       "  </thead>\n",
       "  <tbody>\n",
       "    <tr>\n",
       "      <th>0</th>\n",
       "      <td>गुठी विधेक ल्याएर ठमेल राज गुठि जग्गा छाया सेन...</td>\n",
       "      <td>0</td>\n",
       "    </tr>\n",
       "    <tr>\n",
       "      <th>1</th>\n",
       "      <td>दले देश सकेछन बेचे खान सुरू गरेछन दले लखेटनु पछ ।</td>\n",
       "      <td>1</td>\n",
       "    </tr>\n",
       "    <tr>\n",
       "      <th>2</th>\n",
       "      <td>नेपाल ससकृती ध्वस्त पार्ने योजना !</td>\n",
       "      <td>1</td>\n",
       "    </tr>\n",
       "    <tr>\n",
       "      <th>3</th>\n",
       "      <td>मठ मन्दिर गुम्बा जग्गा हरु भुमाफिया नजर परे हु...</td>\n",
       "      <td>1</td>\n",
       "    </tr>\n",
       "    <tr>\n",
       "      <th>4</th>\n",
       "      <td>नेपाल कल कर्खाना नदि नाला बेची सके मठ मन्दीर ब...</td>\n",
       "      <td>1</td>\n",
       "    </tr>\n",
       "  </tbody>\n",
       "</table>\n",
       "</div>"
      ],
      "text/plain": [
       "                                                Text  Target\n",
       "0  गुठी विधेक ल्याएर ठमेल राज गुठि जग्गा छाया सेन...       0\n",
       "1  दले देश सकेछन बेचे खान सुरू गरेछन दले लखेटनु पछ ।       1\n",
       "2                 नेपाल ससकृती ध्वस्त पार्ने योजना !       1\n",
       "3  मठ मन्दिर गुम्बा जग्गा हरु भुमाफिया नजर परे हु...       1\n",
       "4  नेपाल कल कर्खाना नदि नाला बेची सके मठ मन्दीर ब...       1"
      ]
     },
     "execution_count": 15,
     "metadata": {},
     "output_type": "execute_result"
    }
   ],
   "source": [
    "df_combined = pd.concat([df1_copy, df2_copy], ignore_index=True)\n",
    "df_combined.head()"
   ]
  },
  {
   "cell_type": "code",
   "execution_count": 16,
   "id": "6aa0fc05-c4ad-4258-af9d-6f8f53b51c00",
   "metadata": {},
   "outputs": [
    {
     "data": {
      "text/plain": [
       "Target\n",
       "1    993\n",
       "0    858\n",
       "2    419\n",
       "5    160\n",
       "4    109\n",
       "3    100\n",
       "Name: count, dtype: int64"
      ]
     },
     "execution_count": 16,
     "metadata": {},
     "output_type": "execute_result"
    }
   ],
   "source": [
    "df1_copy[\"Target\"].value_counts()"
   ]
  },
  {
   "cell_type": "code",
   "execution_count": 17,
   "id": "f4c92f44-6b19-49bd-9b09-844d9f2059b5",
   "metadata": {},
   "outputs": [
    {
     "name": "stdout",
     "output_type": "stream",
     "text": [
      "Target\n",
      "1    1029\n",
      "2     938\n",
      "0     864\n",
      "5     665\n",
      "4     610\n",
      "3     601\n",
      "Name: count, dtype: int64\n"
     ]
    }
   ],
   "source": [
    "print(df_combined[\"Target\"].value_counts())"
   ]
  },
  {
   "cell_type": "code",
   "execution_count": 18,
   "id": "f3262201-d660-4cf7-9bcd-5dfb6d063f8a",
   "metadata": {},
   "outputs": [
    {
     "data": {
      "image/png": "[encoded data removed]",
      "text/plain": [
       "<Figure size 1000x400 with 1 Axes>"
      ]
     },
     "metadata": {},
     "output_type": "display_data"
    }
   ],
   "source": [
    "df_combined[\"Target\"].value_counts().sort_index().plot(kind=\"bar\", xlabel=\"Class\", figsize= (10,4))\n",
    "\n",
    "plt.xticks(rotation=0) \n",
    "plt.show()"
   ]
  },
  {
   "cell_type": "code",
   "execution_count": 19,
   "id": "064f9410-86a3-4c9d-a400-bc1aa1b0577a",
   "metadata": {},
   "outputs": [
    {
     "name": "stdout",
     "output_type": "stream",
     "text": [
      "<class 'pandas.core.frame.DataFrame'>\n",
      "RangeIndex: 4707 entries, 0 to 4706\n",
      "Data columns (total 2 columns):\n",
      " #   Column  Non-Null Count  Dtype \n",
      "---  ------  --------------  ----- \n",
      " 0   Text    4707 non-null   object\n",
      " 1   Target  4707 non-null   int64 \n",
      "dtypes: int64(1), object(1)\n",
      "memory usage: 73.7+ KB\n"
     ]
    }
   ],
   "source": [
    "df_combined.info()"
   ]
  },
  {
   "cell_type": "code",
   "execution_count": 20,
   "id": "73c167b7-fa54-4a91-95ee-6f15f3d301ca",
   "metadata": {},
   "outputs": [],
   "source": [
    "df_combined.to_csv(\"./Data/NepSA++.csv\", index=False)"
   ]
  }
 ],
 "metadata": {
  "kernelspec": {
   "display_name": "Python 3 (ipykernel)",
   "language": "python",
   "name": "python3"
  },
  "language_info": {
   "codemirror_mode": {
    "name": "ipython",
    "version": 3
   },
   "file_extension": ".py",
   "mimetype": "text/x-python",
   "name": "python",
   "nbconvert_exporter": "python",
   "pygments_lexer": "ipython3",
   "version": "3.11.4"
  }
 },
 "nbformat": 4,
 "nbformat_minor": 5
}
