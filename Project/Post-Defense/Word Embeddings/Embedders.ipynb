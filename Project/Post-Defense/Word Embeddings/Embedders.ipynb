{
 "cells": [
  {
   "cell_type": "code",
   "execution_count": 1,
   "id": "05b6b162-59f3-4f4b-a407-c47574699103",
   "metadata": {},
   "outputs": [],
   "source": [
    "import pandas as pd\n",
    "import numpy as np\n",
    "import os"
   ]
  },
  {
   "cell_type": "code",
   "execution_count": 5,
   "id": "a33dbc18-eee0-4619-be0d-c96c95532c01",
   "metadata": {},
   "outputs": [
    {
     "name": "stdout",
     "output_type": "stream",
     "text": [
      "<class 'pandas.core.frame.DataFrame'>\n",
      "RangeIndex: 4707 entries, 0 to 4706\n",
      "Data columns (total 2 columns):\n",
      " #   Column  Non-Null Count  Dtype \n",
      "---  ------  --------------  ----- \n",
      " 0   Text    4707 non-null   object\n",
      " 1   Target  4707 non-null   int64 \n",
      "dtypes: int64(1), object(1)\n",
      "memory usage: 73.7+ KB\n"
     ]
    }
   ],
   "source": [
    "df= pd.read_csv(\"../Data/NepSA++.csv\")\n",
    "df_copy= df.copy()\n",
    "df.info()"
   ]
  },
  {
   "cell_type": "code",
   "execution_count": 6,
   "id": "9ad64444-f3da-4fc1-bf70-73da6532d68b",
   "metadata": {},
   "outputs": [],
   "source": [
    "output_path = \"../Data/\"\n",
    "\n"
   ]
  },
  {
   "cell_type": "code",
   "execution_count": 7,
   "id": "ce6fcb90-81ec-4e68-80a2-144cf17ed25a",
   "metadata": {},
   "outputs": [],
   "source": [
    "# Tokenizing using nltk and creating a corpus for models to train on\n",
    "\n",
    "import nltk\n",
    "from nltk.tokenize import word_tokenize\n",
    "\n",
    "sentences= df_copy['Text'].apply(lambda x: word_tokenize(x)).tolist()"
   ]
  },
  {
   "cell_type": "markdown",
   "id": "025f4415-826a-491f-ae40-45c8a481f550",
   "metadata": {},
   "source": [
    "# Word2Vec scratch"
   ]
  },
  {
   "cell_type": "code",
   "execution_count": 48,
   "id": "8d7bcda5-d3a5-48ed-8665-831ddae0243a",
   "metadata": {},
   "outputs": [
    {
     "name": "stdout",
     "output_type": "stream",
     "text": [
      "24234930.0\n"
     ]
    }
   ],
   "source": [
    "from gensim.models import Word2Vec\n",
    "\n",
    "gword2vec_scratch = Word2Vec(sentences, vector_size= 300,s=1 ,negative=10 ,window= 15, min_count=3,alpha=0.0025, epochs=200, workers=4, seed= 42, compute_loss=True)  #sg=1 means using Skip-gram\n",
    "print(word2vec_scratch.get_latest_training_loss())"
   ]
  },
  {
   "cell_type": "code",
   "execution_count": 49,
   "id": "1272ce74-bc38-4d87-8d89-59d0cd9f039d",
   "metadata": {},
   "outputs": [
    {
     "name": "stdout",
     "output_type": "stream",
     "text": [
      "[('गोरू', 0.6050618886947632), ('घुसिया', 0.5956903100013733), ('पापी', 0.583892822265625), ('भारतिय', 0.5709130167961121), ('भुमाफिया', 0.5685264468193054), ('संसद', 0.5669035911560059), ('नपाएर', 0.552453875541687), ('डाका', 0.5499513745307922), ('रहने', 0.5475248694419861), ('सम्बन्ध', 0.5460472106933594)]\n"
     ]
    }
   ],
   "source": [
    "print(word2vec_scratch.wv.most_similar('दलाल'))"
   ]
  },
  {
   "cell_type": "code",
   "execution_count": 50,
   "id": "b2f04493-50e6-40f3-ad85-7cc0276ce288",
   "metadata": {},
   "outputs": [
    {
     "name": "stdout",
     "output_type": "stream",
     "text": [
      "[('नगेन्द्र', 0.7074866890907288), ('हरामि', 0.6732739210128784), ('आय', 0.6635785698890686), ('रण्डि', 0.662973940372467), ('बादी', 0.6606662273406982), ('खालि', 0.6603802442550659), ('प्रचन्डे', 0.6593793630599976), ('लामो', 0.6563233733177185), ('चम्चा', 0.6515929698944092), ('भन्यो', 0.6462055444717407)]\n"
     ]
    }
   ],
   "source": [
    "print(word2vec_scratch.wv.most_similar('मुजि'))"
   ]
  },
  {
   "cell_type": "code",
   "execution_count": 51,
   "id": "b40c3d96-f287-482f-bbfa-d12c56c9a317",
   "metadata": {},
   "outputs": [
    {
     "name": "stdout",
     "output_type": "stream",
     "text": [
      "[('रन्दि', 0.8006170988082886), ('राडी', 0.7977949976921082), ('मास्टर', 0.7870140075683594), ('तेइ', 0.7760116457939148), ('जादा', 0.7738502025604248), ('चिक्ने', 0.7733449935913086), ('बन', 0.770553708076477), ('बान', 0.7675682902336121), ('पढ्ने', 0.7665464282035828), ('चिरि', 0.7653838992118835)]\n"
     ]
    }
   ],
   "source": [
    "print(word2vec_scratch.wv.most_similar('रन्डि'))"
   ]
  },
  {
   "cell_type": "code",
   "execution_count": 52,
   "id": "7675082d-3559-4a51-b2da-4740884fc75a",
   "metadata": {},
   "outputs": [
    {
     "name": "stdout",
     "output_type": "stream",
     "text": [
      "[('मया', 0.9092191457748413), ('मास्टर', 0.8591746091842651), ('खुला', 0.8287099003791809), ('चिरि', 0.8209338188171387), ('खुर्सानि', 0.7995444536209106), ('दल्लनु', 0.7906339764595032), ('जाठा', 0.7833442091941833), ('जिउदै', 0.7807849645614624), ('उल्टो', 0.7787331342697144), ('रन्डि', 0.7733449935913086)]\n"
     ]
    }
   ],
   "source": [
    "print(word2vec_scratch.wv.most_similar('चिक्ने'))"
   ]
  },
  {
   "cell_type": "code",
   "execution_count": 53,
   "id": "477e5b54-af6e-4ec7-94e3-34465ddd9964",
   "metadata": {},
   "outputs": [
    {
     "name": "stdout",
     "output_type": "stream",
     "text": [
      "[('चलाउनु', 0.8715996146202087), ('युटुबे', 0.8156766295433044), ('त्यहीँ', 0.8130080103874207), ('झुन्ड्याएर', 0.7947144508361816), ('कालोमोसो', 0.7831229567527771), ('जहा', 0.7598347067832947), ('भेटिन्छ', 0.7585031986236572), ('खानु', 0.7549386024475098), ('भेट्यो', 0.747032642364502), ('बर्बाद', 0.7436370253562927)]\n"
     ]
    }
   ],
   "source": [
    "print(word2vec_scratch.wv.most_similar('ठोक्ने'))"
   ]
  },
  {
   "cell_type": "code",
   "execution_count": 54,
   "id": "c6c97962-a146-42cf-aecd-8a620155343e",
   "metadata": {},
   "outputs": [
    {
     "name": "stdout",
     "output_type": "stream",
     "text": [
      "[('पसल', 0.8402303457260132), ('नजिक', 0.8388653993606567), ('गेट', 0.8295446038246155), ('सकेको', 0.824705183506012), ('बेस्या', 0.8017595410346985), ('भरि', 0.7991775870323181), ('बहिष्कार', 0.798331618309021), ('बजार', 0.7912173867225647), ('किनकि', 0.7894684076309204), ('केस', 0.7888625264167786)]\n"
     ]
    }
   ],
   "source": [
    "print(word2vec_scratch.wv.most_similar('बलात्कारी'))"
   ]
  },
  {
   "cell_type": "code",
   "execution_count": 55,
   "id": "88d3bcec-7b8c-45f2-89d6-f9674577a5ac",
   "metadata": {},
   "outputs": [
    {
     "name": "stdout",
     "output_type": "stream",
     "text": [
      "[('खा', 0.7633084654808044), ('राडी', 0.7398976683616638), ('लादो', 0.735797107219696), ('नलाग्ने', 0.7311567664146423), ('बोल्दा', 0.7280422449111938), ('राडि', 0.7258939146995544), ('पख', 0.7228133678436279), ('रन्दि', 0.7227356433868408), ('बस्छ', 0.7224500179290771), ('काग', 0.7069550156593323)]\n"
     ]
    }
   ],
   "source": [
    "print(word2vec_scratch.wv.most_similar('माचिक्ने'))"
   ]
  },
  {
   "cell_type": "code",
   "execution_count": 57,
   "id": "8d1c9afe-8710-4dad-8629-76ef2750fd82",
   "metadata": {},
   "outputs": [
    {
     "name": "stdout",
     "output_type": "stream",
     "text": [
      "0.65196735\n"
     ]
    }
   ],
   "source": [
    "print(word2vec_scratch.wv.similarity('ठोक', 'हान्नु'))"
   ]
  },
  {
   "cell_type": "markdown",
   "id": "4a09cb6d-e361-4d44-8b0a-c8d31e363465",
   "metadata": {},
   "source": [
    "# Check Fasttext too"
   ]
  },
  {
   "cell_type": "code",
   "execution_count": 59,
   "id": "694c3b7e-c1b4-4479-8111-b20dfe838eae",
   "metadata": {},
   "outputs": [
    {
     "name": "stdout",
     "output_type": "stream",
     "text": [
      "0.0\n"
     ]
    }
   ],
   "source": [
    "from gensim.models import FastText\n",
    "\n",
    "fasttext= FastText(sentences, vector_size= 300,sg=1 ,negative=10 ,window= 15, min_count=3,alpha=0.0025, epochs=200, workers=4, seed= 42)\n"
   ]
  },
  {
   "cell_type": "code",
   "execution_count": 60,
   "id": "d87257fc-6ffa-4084-8444-9c6072aea245",
   "metadata": {},
   "outputs": [
    {
     "name": "stdout",
     "output_type": "stream",
     "text": [
      "[('दलालि', 0.8515922427177429), ('दलाली', 0.8381221890449524), ('दले', 0.7196117043495178), ('गोरू', 0.6829333901405334), ('थुईक्क', 0.6747965812683105), ('घुसिया', 0.6722204685211182), ('भारतिय', 0.6688295006752014), ('पापी', 0.6565595865249634), ('संसद', 0.6562762260437012), ('भुसिया', 0.6478140950202942)]\n"
     ]
    }
   ],
   "source": [
    "print(fasttext.wv.most_similar('दलाल'))"
   ]
  },
  {
   "cell_type": "code",
   "execution_count": 61,
   "id": "dcf1eae8-e22f-4ea4-9095-be2fccd3fc32",
   "metadata": {},
   "outputs": [
    {
     "name": "stdout",
     "output_type": "stream",
     "text": [
      "[('मुखै', 0.7341475486755371), ('मुख्', 0.73152756690979), ('मुत', 0.7280276417732239), ('मुर्ख', 0.7207314968109131), ('मुर्दाबाद', 0.7066551446914673), ('तनाव', 0.7047140598297119), ('मुजी', 0.702497124671936), ('आय', 0.7023716568946838), ('चम्चा', 0.7020159959793091), ('मुर्दा', 0.6999950408935547)]\n"
     ]
    }
   ],
   "source": [
    "print(fasttext.wv.most_similar('मुजि'))"
   ]
  },
  {
   "cell_type": "code",
   "execution_count": 62,
   "id": "b7cf72bb-7333-4dbb-8e19-c9b6ea7349d8",
   "metadata": {},
   "outputs": [
    {
     "name": "stdout",
     "output_type": "stream",
     "text": [
      "[('रन्दि', 0.8969012498855591), ('रन्डी', 0.8788853287696838), ('तेइ', 0.8149303793907166), ('कन्डम', 0.8136948347091675), ('थोक', 0.8102027177810669), ('राडी', 0.8085765838623047), ('छोरा', 0.8038910031318665), ('जाठा', 0.7984738349914551), ('सिदै', 0.7919445037841797), ('छोरो', 0.7893396019935608)]\n"
     ]
    }
   ],
   "source": [
    "print(fasttext.wv.most_similar('रन्डि'))"
   ]
  },
  {
   "cell_type": "code",
   "execution_count": 63,
   "id": "93892403-6b6b-444b-8de4-f9c03d728969",
   "metadata": {},
   "outputs": [
    {
     "name": "stdout",
     "output_type": "stream",
     "text": [
      "[('माचिक्ने', 0.8821157813072205), ('पढ्ने', 0.8190048933029175), ('झ्याक्ने', 0.8163241744041443), ('माचिकने', 0.77784264087677), ('मया', 0.7775804400444031), ('मास्टर', 0.7766255736351013), ('बिक्ने', 0.7737210392951965), ('छोरो', 0.7625361084938049), ('हिड्ने', 0.7455055713653564), ('चिरि', 0.7439889311790466)]\n"
     ]
    }
   ],
   "source": [
    "print(fasttext.wv.most_similar('चिक्ने'))"
   ]
  },
  {
   "cell_type": "code",
   "execution_count": 64,
   "id": "19fe3bc7-c88b-4241-8977-b915f44f7b95",
   "metadata": {},
   "outputs": [
    {
     "name": "stdout",
     "output_type": "stream",
     "text": [
      "[('बलात्कारि', 0.9479155540466309), ('बलात्कार', 0.9397908449172974), ('लुगा', 0.7866385579109192), ('बहिष्कार', 0.7849395871162415), ('नजिक', 0.7806869149208069), ('भस्म', 0.7783810496330261), ('आयिस्', 0.7775598764419556), ('आइस्', 0.7772603631019592), ('आयिस', 0.7765242457389832), ('पसल', 0.7761046886444092)]\n"
     ]
    }
   ],
   "source": [
    "print(fasttext.wv.most_similar('बलात्कारी'))"
   ]
  },
  {
   "cell_type": "code",
   "execution_count": 65,
   "id": "d75f567d-2c1c-4fb0-9a89-9ace97bafae2",
   "metadata": {},
   "outputs": [
    {
     "name": "stdout",
     "output_type": "stream",
     "text": [
      "[('माचिक्नी', 0.9039524793624878), ('माचिकने', 0.8953453302383423), ('चिक्ने', 0.8821158409118652), ('झ्याक्ने', 0.796979546546936), ('राडी', 0.774052619934082), ('रन्दि', 0.7505783438682556), ('मया', 0.7484341263771057), ('पढ्ने', 0.7468540668487549), ('राडिकाछोरा', 0.7466446757316589), ('हिँड्ने', 0.7459778785705566)]\n"
     ]
    }
   ],
   "source": [
    "print(fasttext.wv.most_similar('माचिक्ने'))"
   ]
  },
  {
   "cell_type": "markdown",
   "id": "c62e4d69-fa54-42d7-91a5-832749475dc2",
   "metadata": {},
   "source": [
    "## Fasttext has semantic embeddings, now saving both"
   ]
  },
  {
   "cell_type": "code",
   "execution_count": 66,
   "id": "7655d5fc-20d5-41ac-92be-425f29416509",
   "metadata": {},
   "outputs": [],
   "source": [
    "# Specify the output file path\n",
    "word2vec_scratch_output_file = os.path.join(output_path, 'Word2Vec_scratch_embeddings.txt')\n",
    "\n",
    "word2vec_scratch.wv.save_word2vec_format(word2vec_scratch_output_file, binary=False)"
   ]
  },
  {
   "cell_type": "code",
   "execution_count": 67,
   "id": "971a1d4f-d431-4250-b656-033b8f7610a1",
   "metadata": {},
   "outputs": [],
   "source": [
    "# Also saving the model\n",
    "\n",
    "fasttext.save(os.path.join(output_path, 'fasttext_model'))"
   ]
  },
  {
   "cell_type": "markdown",
   "id": "0c0c7076-65ff-4f5a-92ee-ca386fdf888c",
   "metadata": {},
   "source": [
    "## We already have a script that loads keyedvectors of Word2Vec and fasttext model, and generates embeddings for a sentence with mean pooling, so let's use that"
   ]
  },
  {
   "cell_type": "code",
   "execution_count": 69,
   "id": "da22160b-01fb-4cf9-85f1-d938dc37d8ea",
   "metadata": {},
   "outputs": [
    {
     "data": {
      "text/html": [
       "<div>\n",
       "<style scoped>\n",
       "    .dataframe tbody tr th:only-of-type {\n",
       "        vertical-align: middle;\n",
       "    }\n",
       "\n",
       "    .dataframe tbody tr th {\n",
       "        vertical-align: top;\n",
       "    }\n",
       "\n",
       "    .dataframe thead th {\n",
       "        text-align: right;\n",
       "    }\n",
       "</style>\n",
       "<table border=\"1\" class=\"dataframe\">\n",
       "  <thead>\n",
       "    <tr style=\"text-align: right;\">\n",
       "      <th></th>\n",
       "      <th>Text</th>\n",
       "      <th>0</th>\n",
       "      <th>1</th>\n",
       "      <th>2</th>\n",
       "      <th>3</th>\n",
       "      <th>4</th>\n",
       "      <th>5</th>\n",
       "      <th>6</th>\n",
       "      <th>7</th>\n",
       "      <th>8</th>\n",
       "      <th>...</th>\n",
       "      <th>291</th>\n",
       "      <th>292</th>\n",
       "      <th>293</th>\n",
       "      <th>294</th>\n",
       "      <th>295</th>\n",
       "      <th>296</th>\n",
       "      <th>297</th>\n",
       "      <th>298</th>\n",
       "      <th>299</th>\n",
       "      <th>Target</th>\n",
       "    </tr>\n",
       "  </thead>\n",
       "  <tbody>\n",
       "    <tr>\n",
       "      <th>0</th>\n",
       "      <td>गुठी विधेक ल्याएर ठमेल राज गुठि जग्गा छाया सेन...</td>\n",
       "      <td>0.103192</td>\n",
       "      <td>0.000974</td>\n",
       "      <td>-0.097368</td>\n",
       "      <td>-0.180960</td>\n",
       "      <td>0.011919</td>\n",
       "      <td>0.020375</td>\n",
       "      <td>0.058695</td>\n",
       "      <td>-0.115739</td>\n",
       "      <td>-0.062230</td>\n",
       "      <td>...</td>\n",
       "      <td>0.066462</td>\n",
       "      <td>0.014879</td>\n",
       "      <td>0.181122</td>\n",
       "      <td>0.019633</td>\n",
       "      <td>0.114424</td>\n",
       "      <td>0.248950</td>\n",
       "      <td>-0.005435</td>\n",
       "      <td>-0.111483</td>\n",
       "      <td>-0.006653</td>\n",
       "      <td>0</td>\n",
       "    </tr>\n",
       "    <tr>\n",
       "      <th>1</th>\n",
       "      <td>दले देश सकेछन बेचे खान सुरू गरेछन दले लखेटनु पछ ।</td>\n",
       "      <td>-0.056409</td>\n",
       "      <td>0.046616</td>\n",
       "      <td>-0.060386</td>\n",
       "      <td>-0.180851</td>\n",
       "      <td>-0.035126</td>\n",
       "      <td>-0.072678</td>\n",
       "      <td>0.093844</td>\n",
       "      <td>-0.035597</td>\n",
       "      <td>-0.157375</td>\n",
       "      <td>...</td>\n",
       "      <td>0.128572</td>\n",
       "      <td>0.080329</td>\n",
       "      <td>0.064854</td>\n",
       "      <td>0.059967</td>\n",
       "      <td>0.107303</td>\n",
       "      <td>0.222882</td>\n",
       "      <td>0.029295</td>\n",
       "      <td>-0.022665</td>\n",
       "      <td>-0.042296</td>\n",
       "      <td>1</td>\n",
       "    </tr>\n",
       "    <tr>\n",
       "      <th>2</th>\n",
       "      <td>नेपाल ससकृती ध्वस्त पार्ने योजना !</td>\n",
       "      <td>-0.006561</td>\n",
       "      <td>-0.078190</td>\n",
       "      <td>-0.058739</td>\n",
       "      <td>-0.140921</td>\n",
       "      <td>-0.075296</td>\n",
       "      <td>0.026900</td>\n",
       "      <td>0.149934</td>\n",
       "      <td>0.033725</td>\n",
       "      <td>-0.052686</td>\n",
       "      <td>...</td>\n",
       "      <td>0.096295</td>\n",
       "      <td>0.046419</td>\n",
       "      <td>0.049415</td>\n",
       "      <td>0.052224</td>\n",
       "      <td>0.158896</td>\n",
       "      <td>0.121763</td>\n",
       "      <td>0.080198</td>\n",
       "      <td>-0.153267</td>\n",
       "      <td>0.019744</td>\n",
       "      <td>1</td>\n",
       "    </tr>\n",
       "    <tr>\n",
       "      <th>3</th>\n",
       "      <td>मठ मन्दिर गुम्बा जग्गा हरु भुमाफिया नजर परे हु...</td>\n",
       "      <td>-0.006453</td>\n",
       "      <td>0.028547</td>\n",
       "      <td>-0.183199</td>\n",
       "      <td>-0.160525</td>\n",
       "      <td>0.047031</td>\n",
       "      <td>-0.063685</td>\n",
       "      <td>0.084650</td>\n",
       "      <td>-0.082496</td>\n",
       "      <td>-0.111528</td>\n",
       "      <td>...</td>\n",
       "      <td>0.129736</td>\n",
       "      <td>0.063306</td>\n",
       "      <td>0.156833</td>\n",
       "      <td>-0.053810</td>\n",
       "      <td>0.167896</td>\n",
       "      <td>0.244292</td>\n",
       "      <td>0.055637</td>\n",
       "      <td>-0.022517</td>\n",
       "      <td>0.015453</td>\n",
       "      <td>1</td>\n",
       "    </tr>\n",
       "    <tr>\n",
       "      <th>4</th>\n",
       "      <td>नेपाल कल कर्खाना नदि नाला बेची सके मठ मन्दीर ब...</td>\n",
       "      <td>-0.046863</td>\n",
       "      <td>0.016354</td>\n",
       "      <td>-0.193980</td>\n",
       "      <td>-0.165821</td>\n",
       "      <td>0.020885</td>\n",
       "      <td>-0.018157</td>\n",
       "      <td>0.004659</td>\n",
       "      <td>-0.014338</td>\n",
       "      <td>-0.138897</td>\n",
       "      <td>...</td>\n",
       "      <td>0.174715</td>\n",
       "      <td>0.041178</td>\n",
       "      <td>0.069022</td>\n",
       "      <td>0.087443</td>\n",
       "      <td>0.198585</td>\n",
       "      <td>0.257806</td>\n",
       "      <td>0.052383</td>\n",
       "      <td>-0.087869</td>\n",
       "      <td>-0.035335</td>\n",
       "      <td>1</td>\n",
       "    </tr>\n",
       "  </tbody>\n",
       "</table>\n",
       "<p>5 rows × 302 columns</p>\n",
       "</div>"
      ],
      "text/plain": [
       "                                                Text         0         1  \\\n",
       "0  गुठी विधेक ल्याएर ठमेल राज गुठि जग्गा छाया सेन...  0.103192  0.000974   \n",
       "1  दले देश सकेछन बेचे खान सुरू गरेछन दले लखेटनु पछ । -0.056409  0.046616   \n",
       "2                 नेपाल ससकृती ध्वस्त पार्ने योजना ! -0.006561 -0.078190   \n",
       "3  मठ मन्दिर गुम्बा जग्गा हरु भुमाफिया नजर परे हु... -0.006453  0.028547   \n",
       "4  नेपाल कल कर्खाना नदि नाला बेची सके मठ मन्दीर ब... -0.046863  0.016354   \n",
       "\n",
       "          2         3         4         5         6         7         8  ...  \\\n",
       "0 -0.097368 -0.180960  0.011919  0.020375  0.058695 -0.115739 -0.062230  ...   \n",
       "1 -0.060386 -0.180851 -0.035126 -0.072678  0.093844 -0.035597 -0.157375  ...   \n",
       "2 -0.058739 -0.140921 -0.075296  0.026900  0.149934  0.033725 -0.052686  ...   \n",
       "3 -0.183199 -0.160525  0.047031 -0.063685  0.084650 -0.082496 -0.111528  ...   \n",
       "4 -0.193980 -0.165821  0.020885 -0.018157  0.004659 -0.014338 -0.138897  ...   \n",
       "\n",
       "        291       292       293       294       295       296       297  \\\n",
       "0  0.066462  0.014879  0.181122  0.019633  0.114424  0.248950 -0.005435   \n",
       "1  0.128572  0.080329  0.064854  0.059967  0.107303  0.222882  0.029295   \n",
       "2  0.096295  0.046419  0.049415  0.052224  0.158896  0.121763  0.080198   \n",
       "3  0.129736  0.063306  0.156833 -0.053810  0.167896  0.244292  0.055637   \n",
       "4  0.174715  0.041178  0.069022  0.087443  0.198585  0.257806  0.052383   \n",
       "\n",
       "        298       299  Target  \n",
       "0 -0.111483 -0.006653       0  \n",
       "1 -0.022665 -0.042296       1  \n",
       "2 -0.153267  0.019744       1  \n",
       "3 -0.022517  0.015453       1  \n",
       "4 -0.087869 -0.035335       1  \n",
       "\n",
       "[5 rows x 302 columns]"
      ]
     },
     "execution_count": 69,
     "metadata": {},
     "output_type": "execute_result"
    }
   ],
   "source": [
    "from generate_embeddings import load_word2vec_model, load_fasttext_model, generate_fasttext_embeddings, generate_word2vec_embeddings\n",
    "\n",
    "word2vec_scratch_loaded= load_word2vec_model('../Data/Word2Vec_scratch_embeddings.txt')\n",
    "\n",
    "df_word2vec= df_copy.copy()\n",
    "df_word2vec = generate_word2vec_embeddings(df_word2vec, 'Text', word2vec_scratch_loaded)\n",
    "df_word2vec.head()"
   ]
  },
  {
   "cell_type": "code",
   "execution_count": 70,
   "id": "9c7de1d2-3afc-4ec2-ae3f-ab89e5b44c14",
   "metadata": {},
   "outputs": [],
   "source": [
    "# Creating new csv file of Word2Vec vectors\n",
    "\n",
    "df_word2vec.drop(\"Text\", axis=1, inplace=True)\n",
    "df_word2vec.to_csv(\"../Data/Word2vec_scratch_dataset.csv\", index=False)"
   ]
  },
  {
   "cell_type": "code",
   "execution_count": 71,
   "id": "3534fb32-3298-455a-8091-5f0e127d42b9",
   "metadata": {},
   "outputs": [
    {
     "data": {
      "text/html": [
       "<div>\n",
       "<style scoped>\n",
       "    .dataframe tbody tr th:only-of-type {\n",
       "        vertical-align: middle;\n",
       "    }\n",
       "\n",
       "    .dataframe tbody tr th {\n",
       "        vertical-align: top;\n",
       "    }\n",
       "\n",
       "    .dataframe thead th {\n",
       "        text-align: right;\n",
       "    }\n",
       "</style>\n",
       "<table border=\"1\" class=\"dataframe\">\n",
       "  <thead>\n",
       "    <tr style=\"text-align: right;\">\n",
       "      <th></th>\n",
       "      <th>Text</th>\n",
       "      <th>0</th>\n",
       "      <th>1</th>\n",
       "      <th>2</th>\n",
       "      <th>3</th>\n",
       "      <th>4</th>\n",
       "      <th>5</th>\n",
       "      <th>6</th>\n",
       "      <th>7</th>\n",
       "      <th>8</th>\n",
       "      <th>...</th>\n",
       "      <th>291</th>\n",
       "      <th>292</th>\n",
       "      <th>293</th>\n",
       "      <th>294</th>\n",
       "      <th>295</th>\n",
       "      <th>296</th>\n",
       "      <th>297</th>\n",
       "      <th>298</th>\n",
       "      <th>299</th>\n",
       "      <th>Target</th>\n",
       "    </tr>\n",
       "  </thead>\n",
       "  <tbody>\n",
       "    <tr>\n",
       "      <th>0</th>\n",
       "      <td>गुठी विधेक ल्याएर ठमेल राज गुठि जग्गा छाया सेन...</td>\n",
       "      <td>-0.011595</td>\n",
       "      <td>-0.057958</td>\n",
       "      <td>-0.043563</td>\n",
       "      <td>0.150510</td>\n",
       "      <td>0.169708</td>\n",
       "      <td>0.186649</td>\n",
       "      <td>0.072599</td>\n",
       "      <td>0.037986</td>\n",
       "      <td>0.313683</td>\n",
       "      <td>...</td>\n",
       "      <td>-0.071739</td>\n",
       "      <td>0.132149</td>\n",
       "      <td>0.108379</td>\n",
       "      <td>0.247606</td>\n",
       "      <td>-0.013828</td>\n",
       "      <td>0.063532</td>\n",
       "      <td>0.154807</td>\n",
       "      <td>-0.155192</td>\n",
       "      <td>0.123415</td>\n",
       "      <td>0</td>\n",
       "    </tr>\n",
       "    <tr>\n",
       "      <th>1</th>\n",
       "      <td>दले देश सकेछन बेचे खान सुरू गरेछन दले लखेटनु पछ ।</td>\n",
       "      <td>-0.084191</td>\n",
       "      <td>0.025140</td>\n",
       "      <td>-0.040451</td>\n",
       "      <td>0.115967</td>\n",
       "      <td>0.080996</td>\n",
       "      <td>0.146584</td>\n",
       "      <td>-0.003831</td>\n",
       "      <td>0.047271</td>\n",
       "      <td>0.276939</td>\n",
       "      <td>...</td>\n",
       "      <td>-0.075870</td>\n",
       "      <td>0.085715</td>\n",
       "      <td>0.123096</td>\n",
       "      <td>0.261899</td>\n",
       "      <td>-0.018077</td>\n",
       "      <td>0.071183</td>\n",
       "      <td>0.064921</td>\n",
       "      <td>-0.068053</td>\n",
       "      <td>0.037990</td>\n",
       "      <td>1</td>\n",
       "    </tr>\n",
       "    <tr>\n",
       "      <th>2</th>\n",
       "      <td>नेपाल ससकृती ध्वस्त पार्ने योजना !</td>\n",
       "      <td>0.000726</td>\n",
       "      <td>0.079283</td>\n",
       "      <td>0.014631</td>\n",
       "      <td>0.178394</td>\n",
       "      <td>0.178418</td>\n",
       "      <td>0.145244</td>\n",
       "      <td>0.169980</td>\n",
       "      <td>0.034667</td>\n",
       "      <td>0.245557</td>\n",
       "      <td>...</td>\n",
       "      <td>-0.072052</td>\n",
       "      <td>0.134478</td>\n",
       "      <td>0.077388</td>\n",
       "      <td>0.285957</td>\n",
       "      <td>-0.020588</td>\n",
       "      <td>-0.069996</td>\n",
       "      <td>0.026476</td>\n",
       "      <td>-0.063812</td>\n",
       "      <td>0.036652</td>\n",
       "      <td>1</td>\n",
       "    </tr>\n",
       "    <tr>\n",
       "      <th>3</th>\n",
       "      <td>मठ मन्दिर गुम्बा जग्गा हरु भुमाफिया नजर परे हु...</td>\n",
       "      <td>-0.073724</td>\n",
       "      <td>0.082520</td>\n",
       "      <td>-0.097757</td>\n",
       "      <td>0.212594</td>\n",
       "      <td>0.138130</td>\n",
       "      <td>0.185604</td>\n",
       "      <td>0.079205</td>\n",
       "      <td>0.057016</td>\n",
       "      <td>0.269453</td>\n",
       "      <td>...</td>\n",
       "      <td>-0.098571</td>\n",
       "      <td>0.137429</td>\n",
       "      <td>0.150586</td>\n",
       "      <td>0.254287</td>\n",
       "      <td>-0.057759</td>\n",
       "      <td>0.086017</td>\n",
       "      <td>0.098674</td>\n",
       "      <td>-0.101769</td>\n",
       "      <td>0.129066</td>\n",
       "      <td>1</td>\n",
       "    </tr>\n",
       "    <tr>\n",
       "      <th>4</th>\n",
       "      <td>नेपाल कल कर्खाना नदि नाला बेची सके मठ मन्दीर ब...</td>\n",
       "      <td>-0.077630</td>\n",
       "      <td>0.080248</td>\n",
       "      <td>-0.074830</td>\n",
       "      <td>0.235020</td>\n",
       "      <td>0.118955</td>\n",
       "      <td>0.206215</td>\n",
       "      <td>0.005972</td>\n",
       "      <td>0.092037</td>\n",
       "      <td>0.348906</td>\n",
       "      <td>...</td>\n",
       "      <td>-0.038568</td>\n",
       "      <td>0.100349</td>\n",
       "      <td>0.108131</td>\n",
       "      <td>0.348444</td>\n",
       "      <td>-0.020597</td>\n",
       "      <td>0.085946</td>\n",
       "      <td>0.146181</td>\n",
       "      <td>-0.087920</td>\n",
       "      <td>0.061630</td>\n",
       "      <td>1</td>\n",
       "    </tr>\n",
       "  </tbody>\n",
       "</table>\n",
       "<p>5 rows × 302 columns</p>\n",
       "</div>"
      ],
      "text/plain": [
       "                                                Text         0         1  \\\n",
       "0  गुठी विधेक ल्याएर ठमेल राज गुठि जग्गा छाया सेन... -0.011595 -0.057958   \n",
       "1  दले देश सकेछन बेचे खान सुरू गरेछन दले लखेटनु पछ । -0.084191  0.025140   \n",
       "2                 नेपाल ससकृती ध्वस्त पार्ने योजना !  0.000726  0.079283   \n",
       "3  मठ मन्दिर गुम्बा जग्गा हरु भुमाफिया नजर परे हु... -0.073724  0.082520   \n",
       "4  नेपाल कल कर्खाना नदि नाला बेची सके मठ मन्दीर ब... -0.077630  0.080248   \n",
       "\n",
       "          2         3         4         5         6         7         8  ...  \\\n",
       "0 -0.043563  0.150510  0.169708  0.186649  0.072599  0.037986  0.313683  ...   \n",
       "1 -0.040451  0.115967  0.080996  0.146584 -0.003831  0.047271  0.276939  ...   \n",
       "2  0.014631  0.178394  0.178418  0.145244  0.169980  0.034667  0.245557  ...   \n",
       "3 -0.097757  0.212594  0.138130  0.185604  0.079205  0.057016  0.269453  ...   \n",
       "4 -0.074830  0.235020  0.118955  0.206215  0.005972  0.092037  0.348906  ...   \n",
       "\n",
       "        291       292       293       294       295       296       297  \\\n",
       "0 -0.071739  0.132149  0.108379  0.247606 -0.013828  0.063532  0.154807   \n",
       "1 -0.075870  0.085715  0.123096  0.261899 -0.018077  0.071183  0.064921   \n",
       "2 -0.072052  0.134478  0.077388  0.285957 -0.020588 -0.069996  0.026476   \n",
       "3 -0.098571  0.137429  0.150586  0.254287 -0.057759  0.086017  0.098674   \n",
       "4 -0.038568  0.100349  0.108131  0.348444 -0.020597  0.085946  0.146181   \n",
       "\n",
       "        298       299  Target  \n",
       "0 -0.155192  0.123415       0  \n",
       "1 -0.068053  0.037990       1  \n",
       "2 -0.063812  0.036652       1  \n",
       "3 -0.101769  0.129066       1  \n",
       "4 -0.087920  0.061630       1  \n",
       "\n",
       "[5 rows x 302 columns]"
      ]
     },
     "execution_count": 71,
     "metadata": {},
     "output_type": "execute_result"
    }
   ],
   "source": [
    "# For fasttext\n",
    "\n",
    "fasttext_loaded= load_fasttext_model('../Data/fasttext_model')\n",
    "df_fasttext= df_copy.copy()\n",
    "df_fasttext= generate_fasttext_embeddings(df_fasttext, \"Text\", fasttext_loaded)\n",
    "df_fasttext.head()"
   ]
  },
  {
   "cell_type": "code",
   "execution_count": null,
   "id": "803e0ca5-32a9-4615-8fea-796a7d708395",
   "metadata": {},
   "outputs": [],
   "source": [
    "df_fasttext.drop('Text', axis=1, inplace=True)\n",
    "df_fasttext.to_csv('../Data/fasttext_scratch_dataset.csv', index=False)"
   ]
  },
  {
   "cell_type": "code",
   "execution_count": 1,
   "id": "65117090-5ffc-439d-a032-3567b33980e8",
   "metadata": {},
   "outputs": [
    {
     "data": {
      "image/png": "[encoded data removed]",
      "text/plain": [
       "<Figure size 800x500 with 1 Axes>"
      ]
     },
     "metadata": {},
     "output_type": "display_data"
    }
   ],
   "source": [
    "import matplotlib.pyplot as plt\n",
    "\n",
    "# Model names and their corresponding accuracy values\n",
    "models = [\"SVM w/ Word2Vec\", \"SVM w/ FastText\", \"DNN w/ Word2Vec\", \"DNN w/ FastText\"]\n",
    "accuracy = [82, 81, 89, 91]\n",
    "\n",
    "# Create a bar chart\n",
    "plt.figure(figsize=(8, 5))\n",
    "plt.bar(models, accuracy, color=[\"blue\", \"orange\", \"green\", \"red\"])\n",
    "\n",
    "# Add labels and title\n",
    "plt.xlabel(\"Models\")\n",
    "plt.ylabel(\"Accuracy (%)\")\n",
    "plt.title(\"Accuracy Comparison of Classification Models\")\n",
    "plt.ylim(75, 95)  # Adjust y-axis limits for better visualization\n",
    "\n",
    "# Show values on top of bars\n",
    "for i, acc in enumerate(accuracy):\n",
    "    plt.text(i, acc + 0.5, f\"{acc}%\", ha='center', fontsize=12)\n",
    "\n",
    "# Show the plot\n",
    "plt.xticks(rotation=15)\n",
    "plt.grid(axis=\"y\", linestyle=\"--\", alpha=0.7)\n",
    "plt.show()\n"
   ]
  }
 ],
 "metadata": {
  "kernelspec": {
   "display_name": "Python 3 (ipykernel)",
   "language": "python",
   "name": "python3"
  },
  "language_info": {
   "codemirror_mode": {
    "name": "ipython",
    "version": 3
   },
   "file_extension": ".py",
   "mimetype": "text/x-python",
   "name": "python",
   "nbconvert_exporter": "python",
   "pygments_lexer": "ipython3",
   "version": "3.11.4"
  }
 },
 "nbformat": 4,
 "nbformat_minor": 5
}
