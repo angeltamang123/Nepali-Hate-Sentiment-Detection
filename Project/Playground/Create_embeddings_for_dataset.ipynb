{
 "cells": [
  {
   "cell_type": "code",
   "execution_count": 1,
   "id": "9dbc00a9-5d09-4470-a6aa-ad07a55ceb4d",
   "metadata": {},
   "outputs": [],
   "source": [
    "#library import\n",
    "import pandas as pd # for data manipulation and analysis\n",
    "import numpy as np # for scientific computing with Python"
   ]
  },
  {
   "cell_type": "code",
   "execution_count": 2,
   "id": "903b9dd5-d110-471a-87ab-57b3c133b14f",
   "metadata": {},
   "outputs": [],
   "source": [
    "df= pd.read_csv('../Data/Raw/Nepali_dataset.csv')"
   ]
  },
  {
   "cell_type": "code",
   "execution_count": 3,
   "id": "cea44fff-995e-47ea-bc83-5945efc758da",
   "metadata": {},
   "outputs": [],
   "source": [
    "df_copy= df.copy()"
   ]
  },
  {
   "cell_type": "code",
   "execution_count": 4,
   "id": "c5a18142-3d64-40a3-8aff-684e2aff38c5",
   "metadata": {},
   "outputs": [],
   "source": [
    "# Importing custom python script to transform Hate sentiment dataset's Output classes to single target class\n",
    "from create_target_label import create_target_column\n",
    "\n",
    "df_copy,label_encoder = create_target_column(df_copy, \"Sentiment\", \"Polarity\")"
   ]
  },
  {
   "cell_type": "code",
   "execution_count": 5,
   "id": "da0cf06a-17df-4551-849e-86c158708942",
   "metadata": {},
   "outputs": [
    {
     "data": {
      "text/plain": [
       "['FEEDBACK_0',\n",
       " 'FEEDBACK_1',\n",
       " 'GENERAL_0',\n",
       " 'GENERAL_1',\n",
       " 'PROFANITY_0',\n",
       " 'PROFANITY_1',\n",
       " 'VIOLENCE_0',\n",
       " 'VIOLENCE_1']"
      ]
     },
     "execution_count": 5,
     "metadata": {},
     "output_type": "execute_result"
    }
   ],
   "source": [
    "list(label_encoder.classes_)"
   ]
  },
  {
   "cell_type": "code",
   "execution_count": 6,
   "id": "f44406f3-b394-4f34-9151-9bd50480faee",
   "metadata": {},
   "outputs": [
    {
     "data": {
      "text/html": [
       "<div>\n",
       "<style scoped>\n",
       "    .dataframe tbody tr th:only-of-type {\n",
       "        vertical-align: middle;\n",
       "    }\n",
       "\n",
       "    .dataframe tbody tr th {\n",
       "        vertical-align: top;\n",
       "    }\n",
       "\n",
       "    .dataframe thead th {\n",
       "        text-align: right;\n",
       "    }\n",
       "</style>\n",
       "<table border=\"1\" class=\"dataframe\">\n",
       "  <thead>\n",
       "    <tr style=\"text-align: right;\">\n",
       "      <th></th>\n",
       "      <th>Text</th>\n",
       "      <th>Aspect Term</th>\n",
       "      <th>Target</th>\n",
       "    </tr>\n",
       "  </thead>\n",
       "  <tbody>\n",
       "    <tr>\n",
       "      <th>0</th>\n",
       "      <td>गुठी विधेक ल्याएर ठमेल मा राज गुठि को जग्गा मा...</td>\n",
       "      <td>जोगाउन को लागि</td>\n",
       "      <td>2</td>\n",
       "    </tr>\n",
       "    <tr>\n",
       "      <th>1</th>\n",
       "      <td>दले ले देश सकेछन सबै बेचे र खान सुरू गरेछन अब ...</td>\n",
       "      <td>लखेटनु पछ</td>\n",
       "      <td>3</td>\n",
       "    </tr>\n",
       "    <tr>\n",
       "      <th>2</th>\n",
       "      <td>नेपाल को ससकृती ध्वस्त पार्ने योजना हो यो !</td>\n",
       "      <td>ससकृती ध्वस्त पार्ने</td>\n",
       "      <td>3</td>\n",
       "    </tr>\n",
       "    <tr>\n",
       "      <th>3</th>\n",
       "      <td>मठ मन्दिर गुम्बा का जग्गा हरु मा भुमाफिया को न...</td>\n",
       "      <td>भुमाफिया</td>\n",
       "      <td>3</td>\n",
       "    </tr>\n",
       "    <tr>\n",
       "      <th>4</th>\n",
       "      <td>नेपाल का कल कर्खाना र नदि नाला बेची सके अब मठ ...</td>\n",
       "      <td>बेची सके</td>\n",
       "      <td>3</td>\n",
       "    </tr>\n",
       "  </tbody>\n",
       "</table>\n",
       "</div>"
      ],
      "text/plain": [
       "                                                Text           Aspect Term  \\\n",
       "0  गुठी विधेक ल्याएर ठमेल मा राज गुठि को जग्गा मा...        जोगाउन को लागि   \n",
       "1  दले ले देश सकेछन सबै बेचे र खान सुरू गरेछन अब ...             लखेटनु पछ   \n",
       "2        नेपाल को ससकृती ध्वस्त पार्ने योजना हो यो !  ससकृती ध्वस्त पार्ने   \n",
       "3  मठ मन्दिर गुम्बा का जग्गा हरु मा भुमाफिया को न...              भुमाफिया   \n",
       "4  नेपाल का कल कर्खाना र नदि नाला बेची सके अब मठ ...              बेची सके   \n",
       "\n",
       "   Target  \n",
       "0       2  \n",
       "1       3  \n",
       "2       3  \n",
       "3       3  \n",
       "4       3  "
      ]
     },
     "execution_count": 6,
     "metadata": {},
     "output_type": "execute_result"
    }
   ],
   "source": [
    "df_copy.head()"
   ]
  },
  {
   "cell_type": "markdown",
   "id": "4dd8e3b1-92be-4184-a53c-221a8650aca1",
   "metadata": {},
   "source": [
    "## We created a single target for each Sentiment polarity to simplify Model training "
   ]
  },
  {
   "cell_type": "code",
   "execution_count": 7,
   "id": "74f6aa87-4378-434b-8cbe-1664e6974564",
   "metadata": {},
   "outputs": [],
   "source": [
    "# Dropping the Aspect Term feature\n",
    "\n",
    "df_copy.drop(\"Aspect Term\", axis=1, inplace= True)"
   ]
  },
  {
   "cell_type": "markdown",
   "id": "3739b9f5-7b2d-424e-824d-18158c76b0d0",
   "metadata": {},
   "source": [
    "## Now we import a custom python script for returning the embeddings to the dataframe\n"
   ]
  },
  {
   "cell_type": "markdown",
   "id": "4e66481d-24f9-4714-8561-d8b19be69752",
   "metadata": {},
   "source": [
    "The script imported below supports dataset's embeddings generation by word2vec, fasttext, glove while also supports loading the model by simply passing pre-trained embeddings. "
   ]
  },
  {
   "cell_type": "markdown",
   "id": "559aed4d-74ab-443d-a4a8-b07c0c61f989",
   "metadata": {},
   "source": [
    "<i>LASER, NepBERTa embeddings that are being considered should support embeddings generation through the script, add the functionality in the script </i>"
   ]
  },
  {
   "cell_type": "code",
   "execution_count": null,
   "id": "b0c0fa8d-80f7-409a-9d9e-de008130218b",
   "metadata": {},
   "outputs": [],
   "source": [
    "# Transforming the dataset to vectors generated by pre-trained Nepali word2vec\n",
    "\n",
    "from generate_embeddings import load_word2vec_model, generate_word2vec_embeddings\n",
    "\n",
    "# Loading the model with pre-trained embeddings\n",
    "pre_trained_word2vec = load_word2vec_model(\"../Data/Embeddings/nepali_embeddings_word2vec.txt\")"
   ]
  },
  {
   "cell_type": "code",
   "execution_count": null,
   "id": "f1f66c38-d175-49b2-8da9-216206cb8f90",
   "metadata": {},
   "outputs": [],
   "source": [
    "# Now creating a new df and generating embeddings for text data \n",
    "\n",
    "df_pretrained_word2vec = df_copy.copy()\n",
    "df_pretrained_word2vec= generate_word2vec_embeddings(df_pretrained_word2vec, \"Text\", pre_trained_word2vec)"
   ]
  },
  {
   "cell_type": "code",
   "execution_count": null,
   "id": "3eba0c85-cea3-4050-844b-49087b92df12",
   "metadata": {},
   "outputs": [],
   "source": [
    "# Saving the df as csv inside /Data/Preprocessed for ready to use df while classifiers training \n",
    "\n",
    "df_pretrained_word2vec.drop(\"Text\", axis=1, inplace= True)\n",
    "df_pretrained_word2vec.to_csv(\"../Data/Preprocessed/pretrained_word2vec_df.csv\", index= False)"
   ]
  },
  {
   "cell_type": "markdown",
   "id": "179703dd-6e20-479b-9b33-4a60ce0b49f6",
   "metadata": {},
   "source": [
    "Loading and Generate embedding for our own word2vec model"
   ]
  },
  {
   "cell_type": "code",
   "execution_count": 10,
   "id": "bf706a2f-d8f4-45a3-9248-bfaf8639711d",
   "metadata": {},
   "outputs": [],
   "source": [
    "\n",
    "from generate_embeddings import load_word2vec_model, generate_word2vec_embeddings\n",
    "\n",
    "word2vec = load_word2vec_model(\"../Data/Embeddings/word2vec_embeddings.txt\")\n",
    "\n",
    "df_word2vec= df_copy.copy()\n",
    "df_word2vec = generate_word2vec_embeddings(df_word2vec, \"Text\", word2vec)\n",
    "\n",
    "df_word2vec.drop(\"Text\", axis=1, inplace= True)\n",
    "df_word2vec.to_csv(\"../Data/Preprocessed/word2vec_df.csv\", index= False)"
   ]
  }
 ],
 "metadata": {
  "kernelspec": {
   "display_name": "Python 3 (ipykernel)",
   "language": "python",
   "name": "python3"
  },
  "language_info": {
   "codemirror_mode": {
    "name": "ipython",
    "version": 3
   },
   "file_extension": ".py",
   "mimetype": "text/x-python",
   "name": "python",
   "nbconvert_exporter": "python",
   "pygments_lexer": "ipython3",
   "version": "3.11.4"
  }
 },
 "nbformat": 4,
 "nbformat_minor": 5
}
