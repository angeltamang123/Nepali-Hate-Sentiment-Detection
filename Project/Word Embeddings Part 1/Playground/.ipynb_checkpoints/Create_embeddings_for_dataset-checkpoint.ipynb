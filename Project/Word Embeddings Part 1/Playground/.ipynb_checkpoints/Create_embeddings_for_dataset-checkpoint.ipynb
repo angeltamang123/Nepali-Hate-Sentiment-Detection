{
 "cells": [
  {
   "cell_type": "code",
   "execution_count": 1,
   "id": "9dbc00a9-5d09-4470-a6aa-ad07a55ceb4d",
   "metadata": {},
   "outputs": [],
   "source": [
    "#library import\n",
    "import pandas as pd # for data manipulation and analysis\n",
    "import numpy as np # for scientific computing with Python"
   ]
  },
  {
   "cell_type": "code",
   "execution_count": 2,
   "id": "903b9dd5-d110-471a-87ab-57b3c133b14f",
   "metadata": {},
   "outputs": [],
   "source": [
    "df= pd.read_csv('../Data/Raw/Nepali_dataset.csv')"
   ]
  },
  {
   "cell_type": "code",
   "execution_count": 3,
   "id": "cea44fff-995e-47ea-bc83-5945efc758da",
   "metadata": {},
   "outputs": [],
   "source": [
    "df_copy= df.copy()"
   ]
  },
  {
   "cell_type": "code",
   "execution_count": 4,
   "id": "c5a18142-3d64-40a3-8aff-684e2aff38c5",
   "metadata": {},
   "outputs": [],
   "source": [
    "# Importing custom python script to transform Hate sentiment dataset's Output classes to single target class\n",
    "from create_target_label import create_target_column\n",
    "\n",
    "df_copy,label_encoder = create_target_column(df_copy, \"Sentiment\", \"Polarity\")"
   ]
  },
  {
   "cell_type": "code",
   "execution_count": 5,
   "id": "da0cf06a-17df-4551-849e-86c158708942",
   "metadata": {},
   "outputs": [
    {
     "data": {
      "text/plain": [
       "['FEEDBACK_0',\n",
       " 'FEEDBACK_1',\n",
       " 'GENERAL_0',\n",
       " 'GENERAL_1',\n",
       " 'PROFANITY_0',\n",
       " 'PROFANITY_1',\n",
       " 'VIOLENCE_0',\n",
       " 'VIOLENCE_1']"
      ]
     },
     "execution_count": 5,
     "metadata": {},
     "output_type": "execute_result"
    }
   ],
   "source": [
    "list(label_encoder.classes_)"
   ]
  },
  {
   "cell_type": "code",
   "execution_count": 6,
   "id": "f44406f3-b394-4f34-9151-9bd50480faee",
   "metadata": {},
   "outputs": [
    {
     "data": {
      "text/html": [
       "<div>\n",
       "<style scoped>\n",
       "    .dataframe tbody tr th:only-of-type {\n",
       "        vertical-align: middle;\n",
       "    }\n",
       "\n",
       "    .dataframe tbody tr th {\n",
       "        vertical-align: top;\n",
       "    }\n",
       "\n",
       "    .dataframe thead th {\n",
       "        text-align: right;\n",
       "    }\n",
       "</style>\n",
       "<table border=\"1\" class=\"dataframe\">\n",
       "  <thead>\n",
       "    <tr style=\"text-align: right;\">\n",
       "      <th></th>\n",
       "      <th>Text</th>\n",
       "      <th>Aspect Term</th>\n",
       "      <th>Target</th>\n",
       "    </tr>\n",
       "  </thead>\n",
       "  <tbody>\n",
       "    <tr>\n",
       "      <th>0</th>\n",
       "      <td>गुठी विधेक ल्याएर ठमेल मा राज गुठि को जग्गा मा...</td>\n",
       "      <td>जोगाउन को लागि</td>\n",
       "      <td>2</td>\n",
       "    </tr>\n",
       "    <tr>\n",
       "      <th>1</th>\n",
       "      <td>दले ले देश सकेछन सबै बेचे र खान सुरू गरेछन अब ...</td>\n",
       "      <td>लखेटनु पछ</td>\n",
       "      <td>3</td>\n",
       "    </tr>\n",
       "    <tr>\n",
       "      <th>2</th>\n",
       "      <td>नेपाल को ससकृती ध्वस्त पार्ने योजना हो यो !</td>\n",
       "      <td>ससकृती ध्वस्त पार्ने</td>\n",
       "      <td>3</td>\n",
       "    </tr>\n",
       "    <tr>\n",
       "      <th>3</th>\n",
       "      <td>मठ मन्दिर गुम्बा का जग्गा हरु मा भुमाफिया को न...</td>\n",
       "      <td>भुमाफिया</td>\n",
       "      <td>3</td>\n",
       "    </tr>\n",
       "    <tr>\n",
       "      <th>4</th>\n",
       "      <td>नेपाल का कल कर्खाना र नदि नाला बेची सके अब मठ ...</td>\n",
       "      <td>बेची सके</td>\n",
       "      <td>3</td>\n",
       "    </tr>\n",
       "  </tbody>\n",
       "</table>\n",
       "</div>"
      ],
      "text/plain": [
       "                                                Text           Aspect Term  \\\n",
       "0  गुठी विधेक ल्याएर ठमेल मा राज गुठि को जग्गा मा...        जोगाउन को लागि   \n",
       "1  दले ले देश सकेछन सबै बेचे र खान सुरू गरेछन अब ...             लखेटनु पछ   \n",
       "2        नेपाल को ससकृती ध्वस्त पार्ने योजना हो यो !  ससकृती ध्वस्त पार्ने   \n",
       "3  मठ मन्दिर गुम्बा का जग्गा हरु मा भुमाफिया को न...              भुमाफिया   \n",
       "4  नेपाल का कल कर्खाना र नदि नाला बेची सके अब मठ ...              बेची सके   \n",
       "\n",
       "   Target  \n",
       "0       2  \n",
       "1       3  \n",
       "2       3  \n",
       "3       3  \n",
       "4       3  "
      ]
     },
     "execution_count": 6,
     "metadata": {},
     "output_type": "execute_result"
    }
   ],
   "source": [
    "df_copy.head()"
   ]
  },
  {
   "cell_type": "markdown",
   "id": "4dd8e3b1-92be-4184-a53c-221a8650aca1",
   "metadata": {},
   "source": [
    "## We created a single target for each Sentiment polarity to simplify Model training "
   ]
  },
  {
   "cell_type": "code",
   "execution_count": 7,
   "id": "74f6aa87-4378-434b-8cbe-1664e6974564",
   "metadata": {},
   "outputs": [],
   "source": [
    "# Dropping the Aspect Term feature\n",
    "\n",
    "df_copy.drop(\"Aspect Term\", axis=1, inplace= True)"
   ]
  },
  {
   "cell_type": "markdown",
   "id": "3739b9f5-7b2d-424e-824d-18158c76b0d0",
   "metadata": {},
   "source": [
    "## Now we import a custom python script for returning the embeddings to the dataframe\n"
   ]
  },
  {
   "cell_type": "markdown",
   "id": "4e66481d-24f9-4714-8561-d8b19be69752",
   "metadata": {},
   "source": [
    "The script imported below supports dataset's embeddings generation by word2vec, fasttext, glove while also supports loading the model by simply passing pre-trained embeddings. "
   ]
  },
  {
   "cell_type": "markdown",
   "id": "559aed4d-74ab-443d-a4a8-b07c0c61f989",
   "metadata": {},
   "source": [
    "<i>LASER, NepBERTa embeddings that are being considered should support embeddings generation through the script, add the functionality in the script </i>"
   ]
  },
  {
   "cell_type": "code",
   "execution_count": 8,
   "id": "b0c0fa8d-80f7-409a-9d9e-de008130218b",
   "metadata": {},
   "outputs": [],
   "source": [
    "# Transforming the dataset to vectors generated by pre-trained Nepali word2vec\n",
    "\n",
    "from generate_embeddings import load_word2vec_model, generate_word2vec_embeddings\n",
    "\n",
    "# Loading the model with pre-trained embeddings\n",
    "pre_trained_word2vec = load_word2vec_model(\"../Data/Embeddings/nepali_embeddings_word2vec.txt\")"
   ]
  },
  {
   "cell_type": "code",
   "execution_count": 9,
   "id": "f1f66c38-d175-49b2-8da9-216206cb8f90",
   "metadata": {},
   "outputs": [],
   "source": [
    "# Now creating a new df and generating embeddings for text data \n",
    "\n",
    "df_pretrained_word2vec = df_copy.copy()\n",
    "df_pretrained_word2vec= generate_word2vec_embeddings(df_pretrained_word2vec, \"Text\", pre_trained_word2vec)"
   ]
  },
  {
   "cell_type": "code",
   "execution_count": 10,
   "id": "12fbc7a5-1082-4dff-8183-e3e668f1e2b2",
   "metadata": {},
   "outputs": [
    {
     "data": {
      "text/html": [
       "<div>\n",
       "<style scoped>\n",
       "    .dataframe tbody tr th:only-of-type {\n",
       "        vertical-align: middle;\n",
       "    }\n",
       "\n",
       "    .dataframe tbody tr th {\n",
       "        vertical-align: top;\n",
       "    }\n",
       "\n",
       "    .dataframe thead th {\n",
       "        text-align: right;\n",
       "    }\n",
       "</style>\n",
       "<table border=\"1\" class=\"dataframe\">\n",
       "  <thead>\n",
       "    <tr style=\"text-align: right;\">\n",
       "      <th></th>\n",
       "      <th>Text</th>\n",
       "      <th>0</th>\n",
       "      <th>1</th>\n",
       "      <th>2</th>\n",
       "      <th>3</th>\n",
       "      <th>4</th>\n",
       "      <th>5</th>\n",
       "      <th>6</th>\n",
       "      <th>7</th>\n",
       "      <th>8</th>\n",
       "      <th>...</th>\n",
       "      <th>291</th>\n",
       "      <th>292</th>\n",
       "      <th>293</th>\n",
       "      <th>294</th>\n",
       "      <th>295</th>\n",
       "      <th>296</th>\n",
       "      <th>297</th>\n",
       "      <th>298</th>\n",
       "      <th>299</th>\n",
       "      <th>Target</th>\n",
       "    </tr>\n",
       "  </thead>\n",
       "  <tbody>\n",
       "    <tr>\n",
       "      <th>0</th>\n",
       "      <td>गुठी विधेक ल्याएर ठमेल मा राज गुठि को जग्गा मा...</td>\n",
       "      <td>-0.353896</td>\n",
       "      <td>-0.362858</td>\n",
       "      <td>-0.423552</td>\n",
       "      <td>1.104782</td>\n",
       "      <td>-0.010077</td>\n",
       "      <td>0.141672</td>\n",
       "      <td>0.289903</td>\n",
       "      <td>0.133494</td>\n",
       "      <td>-0.097301</td>\n",
       "      <td>...</td>\n",
       "      <td>-1.099061</td>\n",
       "      <td>0.555198</td>\n",
       "      <td>-0.914626</td>\n",
       "      <td>0.487582</td>\n",
       "      <td>-0.510756</td>\n",
       "      <td>0.030198</td>\n",
       "      <td>0.281444</td>\n",
       "      <td>-0.032571</td>\n",
       "      <td>-0.526055</td>\n",
       "      <td>2</td>\n",
       "    </tr>\n",
       "    <tr>\n",
       "      <th>1</th>\n",
       "      <td>दले ले देश सकेछन सबै बेचे र खान सुरू गरेछन अब ...</td>\n",
       "      <td>0.024839</td>\n",
       "      <td>-0.276190</td>\n",
       "      <td>-0.076623</td>\n",
       "      <td>0.665478</td>\n",
       "      <td>0.056230</td>\n",
       "      <td>0.578328</td>\n",
       "      <td>-0.236490</td>\n",
       "      <td>0.222671</td>\n",
       "      <td>-0.147569</td>\n",
       "      <td>...</td>\n",
       "      <td>-0.036520</td>\n",
       "      <td>0.926974</td>\n",
       "      <td>0.483738</td>\n",
       "      <td>0.741491</td>\n",
       "      <td>-0.771113</td>\n",
       "      <td>-0.622755</td>\n",
       "      <td>0.375458</td>\n",
       "      <td>0.073563</td>\n",
       "      <td>0.495352</td>\n",
       "      <td>3</td>\n",
       "    </tr>\n",
       "    <tr>\n",
       "      <th>2</th>\n",
       "      <td>नेपाल को ससकृती ध्वस्त पार्ने योजना हो यो !</td>\n",
       "      <td>-0.714236</td>\n",
       "      <td>-1.034701</td>\n",
       "      <td>0.636945</td>\n",
       "      <td>1.421791</td>\n",
       "      <td>-0.247544</td>\n",
       "      <td>-0.153742</td>\n",
       "      <td>0.468619</td>\n",
       "      <td>-1.279188</td>\n",
       "      <td>0.328922</td>\n",
       "      <td>...</td>\n",
       "      <td>-0.715127</td>\n",
       "      <td>0.374132</td>\n",
       "      <td>-0.018418</td>\n",
       "      <td>0.937120</td>\n",
       "      <td>-0.911520</td>\n",
       "      <td>-0.015114</td>\n",
       "      <td>-0.662453</td>\n",
       "      <td>0.295455</td>\n",
       "      <td>0.262537</td>\n",
       "      <td>3</td>\n",
       "    </tr>\n",
       "    <tr>\n",
       "      <th>3</th>\n",
       "      <td>मठ मन्दिर गुम्बा का जग्गा हरु मा भुमाफिया को न...</td>\n",
       "      <td>-0.147426</td>\n",
       "      <td>0.211941</td>\n",
       "      <td>-0.482885</td>\n",
       "      <td>0.637930</td>\n",
       "      <td>0.107930</td>\n",
       "      <td>-0.186813</td>\n",
       "      <td>0.514862</td>\n",
       "      <td>0.093724</td>\n",
       "      <td>0.079478</td>\n",
       "      <td>...</td>\n",
       "      <td>-0.783017</td>\n",
       "      <td>-0.011488</td>\n",
       "      <td>-0.302620</td>\n",
       "      <td>0.428254</td>\n",
       "      <td>-0.037419</td>\n",
       "      <td>0.036183</td>\n",
       "      <td>0.024025</td>\n",
       "      <td>-0.149977</td>\n",
       "      <td>-0.402901</td>\n",
       "      <td>3</td>\n",
       "    </tr>\n",
       "    <tr>\n",
       "      <th>4</th>\n",
       "      <td>नेपाल का कल कर्खाना र नदि नाला बेची सके अब मठ ...</td>\n",
       "      <td>-0.554735</td>\n",
       "      <td>0.216233</td>\n",
       "      <td>-0.209741</td>\n",
       "      <td>0.497239</td>\n",
       "      <td>-0.159377</td>\n",
       "      <td>0.180602</td>\n",
       "      <td>-0.095353</td>\n",
       "      <td>-0.048488</td>\n",
       "      <td>0.356057</td>\n",
       "      <td>...</td>\n",
       "      <td>-1.092410</td>\n",
       "      <td>-0.020246</td>\n",
       "      <td>0.343114</td>\n",
       "      <td>-0.085956</td>\n",
       "      <td>-0.928195</td>\n",
       "      <td>-0.355542</td>\n",
       "      <td>0.296502</td>\n",
       "      <td>0.076301</td>\n",
       "      <td>0.043207</td>\n",
       "      <td>3</td>\n",
       "    </tr>\n",
       "  </tbody>\n",
       "</table>\n",
       "<p>5 rows × 302 columns</p>\n",
       "</div>"
      ],
      "text/plain": [
       "                                                Text         0         1  \\\n",
       "0  गुठी विधेक ल्याएर ठमेल मा राज गुठि को जग्गा मा... -0.353896 -0.362858   \n",
       "1  दले ले देश सकेछन सबै बेचे र खान सुरू गरेछन अब ...  0.024839 -0.276190   \n",
       "2        नेपाल को ससकृती ध्वस्त पार्ने योजना हो यो ! -0.714236 -1.034701   \n",
       "3  मठ मन्दिर गुम्बा का जग्गा हरु मा भुमाफिया को न... -0.147426  0.211941   \n",
       "4  नेपाल का कल कर्खाना र नदि नाला बेची सके अब मठ ... -0.554735  0.216233   \n",
       "\n",
       "          2         3         4         5         6         7         8  ...  \\\n",
       "0 -0.423552  1.104782 -0.010077  0.141672  0.289903  0.133494 -0.097301  ...   \n",
       "1 -0.076623  0.665478  0.056230  0.578328 -0.236490  0.222671 -0.147569  ...   \n",
       "2  0.636945  1.421791 -0.247544 -0.153742  0.468619 -1.279188  0.328922  ...   \n",
       "3 -0.482885  0.637930  0.107930 -0.186813  0.514862  0.093724  0.079478  ...   \n",
       "4 -0.209741  0.497239 -0.159377  0.180602 -0.095353 -0.048488  0.356057  ...   \n",
       "\n",
       "        291       292       293       294       295       296       297  \\\n",
       "0 -1.099061  0.555198 -0.914626  0.487582 -0.510756  0.030198  0.281444   \n",
       "1 -0.036520  0.926974  0.483738  0.741491 -0.771113 -0.622755  0.375458   \n",
       "2 -0.715127  0.374132 -0.018418  0.937120 -0.911520 -0.015114 -0.662453   \n",
       "3 -0.783017 -0.011488 -0.302620  0.428254 -0.037419  0.036183  0.024025   \n",
       "4 -1.092410 -0.020246  0.343114 -0.085956 -0.928195 -0.355542  0.296502   \n",
       "\n",
       "        298       299  Target  \n",
       "0 -0.032571 -0.526055       2  \n",
       "1  0.073563  0.495352       3  \n",
       "2  0.295455  0.262537       3  \n",
       "3 -0.149977 -0.402901       3  \n",
       "4  0.076301  0.043207       3  \n",
       "\n",
       "[5 rows x 302 columns]"
      ]
     },
     "execution_count": 10,
     "metadata": {},
     "output_type": "execute_result"
    }
   ],
   "source": [
    "df_pretrained_word2vec.head()"
   ]
  },
  {
   "cell_type": "code",
   "execution_count": 12,
   "id": "3eba0c85-cea3-4050-844b-49087b92df12",
   "metadata": {},
   "outputs": [],
   "source": [
    "# Saving the df as csv inside /Data/Preprocessed for ready to use df while classifiers training \n",
    "\n",
    "df_pretrained_word2vec.drop(\"Text\", axis=1, inplace= True)\n",
    "df_pretrained_word2vec.to_csv(\"../Data/Preprocessed/pretrained_word2vec_df.csv\")"
   ]
  }
 ],
 "metadata": {
  "kernelspec": {
   "display_name": "Python 3 (ipykernel)",
   "language": "python",
   "name": "python3"
  },
  "language_info": {
   "codemirror_mode": {
    "name": "ipython",
    "version": 3
   },
   "file_extension": ".py",
   "mimetype": "text/x-python",
   "name": "python",
   "nbconvert_exporter": "python",
   "pygments_lexer": "ipython3",
   "version": "3.11.4"
  }
 },
 "nbformat": 4,
 "nbformat_minor": 5
}
