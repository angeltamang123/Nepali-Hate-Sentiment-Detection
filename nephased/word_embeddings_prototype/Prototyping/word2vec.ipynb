{
 "cells": [
  {
   "cell_type": "code",
   "execution_count": 1,
   "id": "b6a08a5a",
   "metadata": {
    "_cell_guid": "b1076dfc-b9ad-4769-8c92-a6c4dae69d19",
    "_uuid": "8f2839f25d086af736a60e9eeb907d3b93b6e0e5",
    "execution": {
     "iopub.execute_input": "2025-06-02T14:01:58.144956Z",
     "iopub.status.busy": "2025-06-02T14:01:58.144541Z",
     "iopub.status.idle": "2025-06-02T14:02:00.502955Z",
     "shell.execute_reply": "2025-06-02T14:02:00.501629Z"
    },
    "papermill": {
     "duration": 2.366306,
     "end_time": "2025-06-02T14:02:00.504953",
     "exception": false,
     "start_time": "2025-06-02T14:01:58.138647",
     "status": "completed"
    },
    "tags": []
   },
   "outputs": [
    {
     "name": "stdout",
     "output_type": "stream",
     "text": [
      "/kaggle/input/pretrained-fasttext/pretrained_word2vec/pretrained_word2vec.txt\n",
      "/kaggle/input/pretrained-fasttext/pretrained_fasttext/pretrained_fasttext/pretrained.fast_text.wv.vectors_vocab.npy\n",
      "/kaggle/input/pretrained-fasttext/pretrained_fasttext/pretrained_fasttext/pretrained.fast_text.trainables.vectors_ngrams_lockf.npy\n",
      "/kaggle/input/pretrained-fasttext/pretrained_fasttext/pretrained_fasttext/pretrained.fast_text.wv.vectors.npy\n",
      "/kaggle/input/pretrained-fasttext/pretrained_fasttext/pretrained_fasttext/pretrained.fast_text.trainables.syn1neg.npy\n",
      "/kaggle/input/pretrained-fasttext/pretrained_fasttext/pretrained_fasttext/pretrained.fast_text.trainables.vectors_vocab_lockf.npy\n",
      "/kaggle/input/pretrained-fasttext/pretrained_fasttext/pretrained_fasttext/pretrained.fast_text.wv.vectors_ngrams.npy\n",
      "/kaggle/input/pretrained-fasttext/pretrained_fasttext/pretrained_fasttext/pretrained.fast_text\n",
      "/kaggle/input/nepsa/NepSA.csv\n"
     ]
    }
   ],
   "source": [
    "# This Python 3 environment comes with many helpful analytics libraries installed\n",
    "# It is defined by the kaggle/python Docker image: https://github.com/kaggle/docker-python\n",
    "# For example, here's several helpful packages to load\n",
    "\n",
    "import numpy as np # linear algebra\n",
    "import pandas as pd # data processing, CSV file I/O (e.g. pd.read_csv)\n",
    "\n",
    "# Input data files are available in the read-only \"../input/\" directory\n",
    "# For example, running this (by clicking run or pressing Shift+Enter) will list all files under the input directory\n",
    "\n",
    "import os\n",
    "for dirname, _, filenames in os.walk('/kaggle/input'):\n",
    "    for filename in filenames:\n",
    "        print(os.path.join(dirname, filename))\n",
    "\n",
    "# You can write up to 20GB to the current directory (/kaggle/working/) that gets preserved as output when you create a version using \"Save & Run All\" \n",
    "# You can also write temporary files to /kaggle/temp/, but they won't be saved outside of the current session"
   ]
  },
  {
   "cell_type": "code",
   "execution_count": 2,
   "id": "dcd6bc67",
   "metadata": {
    "execution": {
     "iopub.execute_input": "2025-06-02T14:02:00.514294Z",
     "iopub.status.busy": "2025-06-02T14:02:00.513643Z",
     "iopub.status.idle": "2025-06-02T14:02:00.610344Z",
     "shell.execute_reply": "2025-06-02T14:02:00.607866Z"
    },
    "papermill": {
     "duration": 0.103787,
     "end_time": "2025-06-02T14:02:00.612704",
     "exception": false,
     "start_time": "2025-06-02T14:02:00.508917",
     "status": "completed"
    },
    "tags": []
   },
   "outputs": [
    {
     "name": "stdout",
     "output_type": "stream",
     "text": [
      "<class 'pandas.core.frame.DataFrame'>\n",
      "RangeIndex: 4707 entries, 0 to 4706\n",
      "Data columns (total 2 columns):\n",
      " #   Column  Non-Null Count  Dtype \n",
      "---  ------  --------------  ----- \n",
      " 0   Text    4707 non-null   object\n",
      " 1   Target  4707 non-null   int64 \n",
      "dtypes: int64(1), object(1)\n",
      "memory usage: 73.7+ KB\n"
     ]
    }
   ],
   "source": [
    "from pathlib import Path\n",
    "\n",
    "df= pd.read_csv(\"/kaggle/input/nepsa/NepSA.csv\")\n",
    "df_copy= df.copy()\n",
    "df.info()\n",
    "\n",
    "scratch_output = \"./scratch/\"\n",
    "finetuned_output = \"./output\"\n",
    "Path(scratch_output).mkdir()\n",
    "Path(finetuned_output).mkdir()\n",
    "\n"
   ]
  },
  {
   "cell_type": "code",
   "execution_count": 3,
   "id": "7ff69aec",
   "metadata": {
    "execution": {
     "iopub.execute_input": "2025-06-02T14:02:00.625211Z",
     "iopub.status.busy": "2025-06-02T14:02:00.624875Z",
     "iopub.status.idle": "2025-06-02T14:02:04.056664Z",
     "shell.execute_reply": "2025-06-02T14:02:04.055596Z"
    },
    "papermill": {
     "duration": 3.439737,
     "end_time": "2025-06-02T14:02:04.058623",
     "exception": false,
     "start_time": "2025-06-02T14:02:00.618886",
     "status": "completed"
    },
    "tags": []
   },
   "outputs": [],
   "source": [
    "# Tokenizing using nltk and creating a corpus for models to train on\n",
    "\n",
    "import nltk\n",
    "from nltk.tokenize import word_tokenize\n",
    "\n",
    "sentences= df_copy['Text'].apply(lambda x: word_tokenize(x)).tolist()"
   ]
  },
  {
   "cell_type": "markdown",
   "id": "57674af1",
   "metadata": {
    "papermill": {
     "duration": 0.003931,
     "end_time": "2025-06-02T14:02:04.066555",
     "exception": false,
     "start_time": "2025-06-02T14:02:04.062624",
     "status": "completed"
    },
    "tags": []
   },
   "source": [
    "# Word2Vec scratch"
   ]
  },
  {
   "cell_type": "code",
   "execution_count": 4,
   "id": "b4491816",
   "metadata": {
    "execution": {
     "iopub.execute_input": "2025-06-02T14:02:04.076067Z",
     "iopub.status.busy": "2025-06-02T14:02:04.075515Z",
     "iopub.status.idle": "2025-06-02T14:04:04.738028Z",
     "shell.execute_reply": "2025-06-02T14:04:04.736833Z"
    },
    "papermill": {
     "duration": 120.671828,
     "end_time": "2025-06-02T14:04:04.742289",
     "exception": false,
     "start_time": "2025-06-02T14:02:04.070461",
     "status": "completed"
    },
    "tags": []
   },
   "outputs": [
    {
     "name": "stdout",
     "output_type": "stream",
     "text": [
      "24783234.0\n"
     ]
    }
   ],
   "source": [
    "from gensim.models import Word2Vec\n",
    "\n",
    "scratch = Word2Vec(sentences, vector_size= 300,sg=1 ,negative=10 ,window= 15, min_count=3,alpha=0.0025, epochs=200, workers=4, seed= 42, compute_loss=True)  #sg=1 means using Skip-gram\n",
    "print(scratch.get_latest_training_loss())"
   ]
  },
  {
   "cell_type": "code",
   "execution_count": 5,
   "id": "140fedac",
   "metadata": {
    "execution": {
     "iopub.execute_input": "2025-06-02T14:04:04.752942Z",
     "iopub.status.busy": "2025-06-02T14:04:04.752386Z",
     "iopub.status.idle": "2025-06-02T14:04:04.790179Z",
     "shell.execute_reply": "2025-06-02T14:04:04.788051Z"
    },
    "papermill": {
     "duration": 0.045372,
     "end_time": "2025-06-02T14:04:04.792396",
     "exception": false,
     "start_time": "2025-06-02T14:04:04.747024",
     "status": "completed"
    },
    "tags": []
   },
   "outputs": [
    {
     "name": "stdout",
     "output_type": "stream",
     "text": [
      "दलाल: [('गोरू', 0.6038889288902283), ('घुसिया', 0.591804563999176), ('पापी', 0.5852213501930237), ('संसद', 0.5716174244880676), ('भारतिय', 0.5635927319526672), ('भुमाफिया', 0.5588367581367493), ('नपाएर', 0.550086498260498), ('रहने', 0.5464518666267395), ('सम्बन्ध', 0.544558584690094), ('डाका', 0.5416148900985718)]\n",
      "मुजि: [('नगेन्द्र', 0.7136744856834412), ('हरामि', 0.6718366146087646), ('आय', 0.6610497832298279), ('रण्डि', 0.6600621342658997), ('बादी', 0.6586503982543945), ('चम्चा', 0.6574056148529053), ('खालि', 0.6565040946006775), ('प्रचन्डे', 0.6562313437461853), ('बोल्नै', 0.654056191444397), ('लामो', 0.6482406258583069)]\n",
      "रन्डि: [('रन्दि', 0.8025878667831421), ('राडी', 0.7951111197471619), ('मास्टर', 0.7848541140556335), ('चिक्ने', 0.7755618691444397), ('तेइ', 0.7742782831192017), ('पढ्ने', 0.7729200720787048), ('बान', 0.7703817486763), ('बन', 0.7690048813819885), ('जादा', 0.7669946551322937), ('चिरि', 0.7658504247665405)]\n",
      "चिक्ने: [('मया', 0.9025090932846069), ('मास्टर', 0.8532073497772217), ('खुला', 0.8281682729721069), ('चिरि', 0.8174630403518677), ('खुर्सानि', 0.7994527220726013), ('दल्लनु', 0.7893841862678528), ('जाठा', 0.784870445728302), ('रन्डि', 0.7755618095397949), ('कन्डम', 0.7738624215126038), ('उल्टो', 0.7738367319107056)]\n",
      "ठोक्ने: [('चलाउनु', 0.876136064529419), ('त्यहीँ', 0.8141038417816162), ('युटुबे', 0.8119514584541321), ('झुन्ड्याएर', 0.797070324420929), ('कालोमोसो', 0.7839454412460327), ('जहा', 0.7623460292816162), ('भेटिन्छ', 0.7591094970703125), ('खानु', 0.7483780384063721), ('घुमाउनु', 0.7458140850067139), ('एकै', 0.7448419332504272)]\n",
      "बलात्कारी: [('नजिक', 0.8444812297821045), ('पसल', 0.8404960632324219), ('गेट', 0.8380696773529053), ('सकेको', 0.8369386792182922), ('बेस्या', 0.8164228796958923), ('भरि', 0.8025847673416138), ('बजार', 0.8022330403327942), ('बहिष्कार', 0.7986727952957153), ('ओई', 0.7951547503471375), ('केस', 0.7889034152030945)]\n",
      "माचिक्ने: [('खा', 0.7663693428039551), ('राडी', 0.7424136400222778), ('लादो', 0.7365076541900635), ('बोल्दा', 0.7334885001182556), ('राडि', 0.7316910624504089), ('पख', 0.7293441891670227), ('रन्दि', 0.7281885147094727), ('नलाग्ने', 0.7247768640518188), ('काग', 0.7168713212013245), ('बस्छ', 0.7127388119697571)]\n",
      "Similarity between ठोक and हान्नु: 0.648053765296936\n"
     ]
    }
   ],
   "source": [
    "print(f\"दलाल: {scratch.wv.most_similar('दलाल')}\")\n",
    "print(f\"मुजि: {scratch.wv.most_similar('मुजि')}\")\n",
    "print(f\"रन्डि: {scratch.wv.most_similar('रन्डि')}\")\n",
    "print(f\"चिक्ने: {scratch.wv.most_similar('चिक्ने')}\")\n",
    "print(f\"ठोक्ने: {scratch.wv.most_similar('ठोक्ने')}\")\n",
    "print(f\"बलात्कारी: {scratch.wv.most_similar('बलात्कारी')}\")\n",
    "print(f\"माचिक्ने: {scratch.wv.most_similar('माचिक्ने')}\")\n",
    "print(f\"Similarity between ठोक and हान्नु: {scratch.wv.similarity('ठोक', 'हान्नु')}\")"
   ]
  },
  {
   "cell_type": "markdown",
   "id": "8015b127",
   "metadata": {
    "papermill": {
     "duration": 0.005919,
     "end_time": "2025-06-02T14:04:04.805422",
     "exception": false,
     "start_time": "2025-06-02T14:04:04.799503",
     "status": "completed"
    },
    "tags": []
   },
   "source": [
    "Saving Word2Vec will be done in txt as Word2Vec doesn't make sub word vectors unlike fasttext. So vectors saved as txt file will suffice.Furthermore the pre-trained Word2Vec model itself is a txt file and not a full model"
   ]
  },
  {
   "cell_type": "code",
   "execution_count": 6,
   "id": "d04a9afe",
   "metadata": {
    "execution": {
     "iopub.execute_input": "2025-06-02T14:04:04.818099Z",
     "iopub.status.busy": "2025-06-02T14:04:04.817678Z",
     "iopub.status.idle": "2025-06-02T14:04:05.393179Z",
     "shell.execute_reply": "2025-06-02T14:04:05.392339Z"
    },
    "papermill": {
     "duration": 0.583247,
     "end_time": "2025-06-02T14:04:05.394967",
     "exception": false,
     "start_time": "2025-06-02T14:04:04.811720",
     "status": "completed"
    },
    "tags": []
   },
   "outputs": [],
   "source": [
    "scratch.wv.save_word2vec_format(os.path.join(scratch_output, 'scratch.txt'), binary=False)"
   ]
  },
  {
   "cell_type": "markdown",
   "id": "4095c1fd",
   "metadata": {
    "papermill": {
     "duration": 0.003291,
     "end_time": "2025-06-02T14:04:05.402203",
     "exception": false,
     "start_time": "2025-06-02T14:04:05.398912",
     "status": "completed"
    },
    "tags": []
   },
   "source": [
    "# Pre-trained Word2Vec"
   ]
  },
  {
   "cell_type": "code",
   "execution_count": 7,
   "id": "9a3ef700",
   "metadata": {
    "execution": {
     "iopub.execute_input": "2025-06-02T14:04:05.410892Z",
     "iopub.status.busy": "2025-06-02T14:04:05.410487Z",
     "iopub.status.idle": "2025-06-02T14:06:04.642936Z",
     "shell.execute_reply": "2025-06-02T14:06:04.641725Z"
    },
    "papermill": {
     "duration": 119.239028,
     "end_time": "2025-06-02T14:06:04.644754",
     "exception": false,
     "start_time": "2025-06-02T14:04:05.405726",
     "status": "completed"
    },
    "tags": []
   },
   "outputs": [],
   "source": [
    "from gensim.models import KeyedVectors\n",
    "\n",
    "pretrained_input = \"/kaggle/input/pretrained-fasttext/pretrained_word2vec/pretrained_word2vec.txt\"\n",
    "\n",
    "pretrained = KeyedVectors.load_word2vec_format(pretrained_input, binary=False)"
   ]
  },
  {
   "cell_type": "code",
   "execution_count": null,
   "id": "fdead8c3",
   "metadata": {
    "execution": {
     "iopub.execute_input": "2025-05-27T10:19:01.885327Z",
     "iopub.status.busy": "2025-05-27T10:19:01.884950Z",
     "iopub.status.idle": "2025-05-27T10:19:02.204524Z",
     "shell.execute_reply": "2025-05-27T10:19:02.203202Z",
     "shell.execute_reply.started": "2025-05-27T10:19:01.885301Z"
    },
    "papermill": {
     "duration": 0.003446,
     "end_time": "2025-06-02T14:06:04.652219",
     "exception": false,
     "start_time": "2025-06-02T14:06:04.648773",
     "status": "completed"
    },
    "tags": []
   },
   "outputs": [],
   "source": []
  },
  {
   "cell_type": "markdown",
   "id": "ba0a9ffc",
   "metadata": {
    "papermill": {
     "duration": 0.003322,
     "end_time": "2025-06-02T14:06:04.659020",
     "exception": false,
     "start_time": "2025-06-02T14:06:04.655698",
     "status": "completed"
    },
    "tags": []
   },
   "source": [
    "# Fine-Tuned Word2Vec\n",
    "The pretrained model is a txt file and finetuning without a full model doesn't sound convincing. However a full model from [NPVec1](https://github.com/nowalab/nepali-word-embeddings), specifically the tokenized and stemmed one which fits required case the most doesn't load at all. That's why the alternative being the 300 dimensional Word2Vec [model](https://ieee-dataport.org/open-access/300-dimensional-word-embeddings-nepali-language) which is only a text file of the word vectors. The finetuning procedure will be as stated in this [site](https://czarrar.github.io/Gensim-Word2Vec/) and another [site](https://datascience.stackexchange.com/questions/97568/fine-tuning-pre-trained-word2vec-model-with-gensim-4-0)."
   ]
  },
  {
   "cell_type": "code",
   "execution_count": 8,
   "id": "1a64a1d1",
   "metadata": {
    "execution": {
     "iopub.execute_input": "2025-06-02T14:06:04.668190Z",
     "iopub.status.busy": "2025-06-02T14:06:04.667873Z",
     "iopub.status.idle": "2025-06-02T14:11:04.384839Z",
     "shell.execute_reply": "2025-06-02T14:11:04.383698Z"
    },
    "papermill": {
     "duration": 299.727354,
     "end_time": "2025-06-02T14:11:04.389915",
     "exception": false,
     "start_time": "2025-06-02T14:06:04.662561",
     "status": "completed"
    },
    "tags": []
   },
   "outputs": [
    {
     "name": "stdout",
     "output_type": "stream",
     "text": [
      "519271\n"
     ]
    },
    {
     "data": {
      "text/plain": [
       "(8660367, 9137400)"
      ]
     },
     "execution_count": 8,
     "metadata": {},
     "output_type": "execute_result"
    }
   ],
   "source": [
    "finetuned = Word2Vec(vector_size = 300,sg=1 ,negative=10 ,window= 15, min_count=1,alpha=0.0025, epochs=200, workers=4, seed= 42)\n",
    "finetuned.build_vocab(sentences)\n",
    "\n",
    "# Adding pre-trained model vocabulary\n",
    "pretrained_vocab = [[word] for word in pretrained.key_to_index.keys()]\n",
    "finetuned.build_vocab(pretrained_vocab, update=True)\n",
    "\n",
    "# Ensuring all the words in the vocabulary are updated during finetuning with vectors of ones\n",
    "vocab_size = len(finetuned.wv)\n",
    "finetuned.wv.vectors_lockf = np.ones(vocab_size, dtype=np.float32)\n",
    "\n",
    "# Load the pre-trained models embeddings\n",
    "# note: if a word doesn't exist in the pre-trained vocabulary then it is left as is in the original model\n",
    "finetuned.wv.intersect_word2vec_format(pretrained_input, binary=False, lockf=1.0)\n",
    "print(len(finetuned.wv))\n",
    "total_examples = finetuned.corpus_count\n",
    "\n",
    "# Finally Finetuning\n",
    "finetuned.train(sentences, total_examples=total_examples, epochs= finetuned.epochs)"
   ]
  },
  {
   "cell_type": "code",
   "execution_count": 9,
   "id": "5d10a405",
   "metadata": {
    "execution": {
     "iopub.execute_input": "2025-06-02T14:11:04.400054Z",
     "iopub.status.busy": "2025-06-02T14:11:04.399678Z",
     "iopub.status.idle": "2025-06-02T14:11:04.988443Z",
     "shell.execute_reply": "2025-06-02T14:11:04.987313Z"
    },
    "papermill": {
     "duration": 0.5967,
     "end_time": "2025-06-02T14:11:04.990468",
     "exception": false,
     "start_time": "2025-06-02T14:11:04.393768",
     "status": "completed"
    },
    "tags": []
   },
   "outputs": [
    {
     "name": "stdout",
     "output_type": "stream",
     "text": [
      "दलाल: [('दलाली', 0.652705729007721), ('दलालहरू', 0.6195130944252014), ('ठग', 0.5988847613334656), ('भुमाफिया', 0.5781099796295166), ('बिचौलिया', 0.5708465576171875), ('पुँजीपति', 0.5636776089668274), ('फटाह', 0.5504918694496155), ('गेरो', 0.5478551387786865), ('कारेकरम', 0.5454437136650085), ('सूरू', 0.5442875623703003)]\n",
      "मुजि: [('phd', 0.8831667304039001), ('बोग्दा', 0.8724841475486755), ('तेरि', 0.8723926544189453), ('प्रचन्डे', 0.870991587638855), ('मपनी', 0.8708116412162781), ('पुति', 0.8703693151473999), ('हाल्दैन', 0.8702211380004883), ('खोक्क्रो', 0.8700627088546753), ('नहासे', 0.8697423338890076), ('चुतिया', 0.8692623376846313)]\n",
      "रन्डि: [('चिक्ने', 0.9668002128601074), ('अत्रो', 0.9662339091300964), ('फाल्दिनुनी', 0.9618247747421265), ('तेरिमा', 0.9599411487579346), ('जिउदै', 0.9556483030319214), ('त्रिसुलि', 0.9495136141777039), ('१जन', 0.9491158723831177), ('खाटे', 0.9488843679428101), ('पर्दोइन', 0.9485908150672913), ('हाल्योनि', 0.9483177661895752)]\n",
      "चिक्ने: [('रन्डि', 0.9668002128601074), ('जिउदै', 0.9664196372032166), ('मुँजीको', 0.9647455811500549), ('हाल्योनि', 0.9563656449317932), ('बेहौरा', 0.955331027507782), ('सोदे', 0.9531798362731934), ('खुर्सानि', 0.9526042342185974), ('बेज्जती', 0.9519448280334473), ('त्रिसुलि', 0.9503768086433411), ('दल्लनु', 0.9500113725662231)]\n",
      "ठोक्ने: [('ठोकेर', 0.7468441128730774), ('युटुबे', 0.7448335886001587), ('हान्नू', 0.7444401979446411), ('टुंन्डिखेल', 0.7398526668548584), ('दैर', 0.739449679851532), ('भाँच्नु', 0.7356870174407959), ('८४', 0.7348819971084595), ('ठोक्नुपर्छ', 0.7337965965270996), ('नचाम्', 0.7321879863739014), ('घेरछेक', 0.7298198342323303)]\n",
      "बलात्कारी: [('अपराधी', 0.7012556195259094), ('हत्यारा', 0.6754475235939026), ('अपराधि', 0.6150827407836914), ('भ्रष्टाचारी', 0.5934820771217346), ('बलत्कार', 0.5904859900474548), ('दोषी', 0.5903783440589905), ('दोषि', 0.5829657912254333), ('बलात्कार', 0.5759428143501282), ('पीडक', 0.5747812390327454), ('बलत्कारी', 0.5678690671920776)]\n",
      "माचिक्ने: [('लाडो', 0.9418737292289734), ('रन्दि', 0.9332529306411743), ('तेरिमा', 0.9306054711341858), ('लगाऊछस', 0.9286727905273438), ('थालेछस्', 0.9277077913284302), ('माचिक्नी', 0.9249604344367981), ('जाथ', 0.9234074950218201), ('पुतिमुखे', 0.9227136969566345), ('नपुने', 0.9214847087860107), ('रण्डी', 0.9213273525238037)]\n",
      "Similarity between ठोक and हान्नु: 0.7086793780326843\n"
     ]
    }
   ],
   "source": [
    "print(f\"दलाल: {finetuned.wv.most_similar('दलाल')}\")\n",
    "print(f\"मुजि: {finetuned.wv.most_similar('मुजि')}\")\n",
    "print(f\"रन्डि: {finetuned.wv.most_similar('रन्डि')}\")\n",
    "print(f\"चिक्ने: {finetuned.wv.most_similar('चिक्ने')}\")\n",
    "print(f\"ठोक्ने: {finetuned.wv.most_similar('ठोक्ने')}\")\n",
    "print(f\"बलात्कारी: {finetuned.wv.most_similar('बलात्कारी')}\")\n",
    "print(f\"माचिक्ने: {finetuned.wv.most_similar('माचिक्ने')}\")\n",
    "print(f\"Similarity between ठोक and हान्नु: {finetuned.wv.similarity('ठोक', 'हान्नु')}\")"
   ]
  },
  {
   "cell_type": "code",
   "execution_count": 10,
   "id": "b9577a87",
   "metadata": {
    "execution": {
     "iopub.execute_input": "2025-06-02T14:11:05.002406Z",
     "iopub.status.busy": "2025-06-02T14:11:05.002009Z",
     "iopub.status.idle": "2025-06-02T14:12:56.519193Z",
     "shell.execute_reply": "2025-06-02T14:12:56.517795Z"
    },
    "papermill": {
     "duration": 111.524742,
     "end_time": "2025-06-02T14:12:56.521210",
     "exception": false,
     "start_time": "2025-06-02T14:11:04.996468",
     "status": "completed"
    },
    "tags": []
   },
   "outputs": [],
   "source": [
    "finetuned.wv.save_word2vec_format(os.path.join(finetuned_output, 'finetuned.txt'), binary=False)"
   ]
  },
  {
   "cell_type": "code",
   "execution_count": 11,
   "id": "73baad5a",
   "metadata": {
    "execution": {
     "iopub.execute_input": "2025-06-02T14:12:56.531651Z",
     "iopub.status.busy": "2025-06-02T14:12:56.531297Z",
     "iopub.status.idle": "2025-06-02T14:12:56.948808Z",
     "shell.execute_reply": "2025-06-02T14:12:56.947405Z"
    },
    "papermill": {
     "duration": 0.424587,
     "end_time": "2025-06-02T14:12:56.950432",
     "exception": true,
     "start_time": "2025-06-02T14:12:56.525845",
     "status": "failed"
    },
    "tags": []
   },
   "outputs": [
    {
     "name": "stdout",
     "output_type": "stream",
     "text": [
      "दलाल: [('दलालहरू', 0.6451959013938904), ('दलाली', 0.5998064875602722), ('बिचौलिया', 0.5902517437934875), ('पुँजीपति', 0.5644993782043457), ('ठग', 0.5342469215393066), ('एजेन्ट', 0.5191587805747986), ('पूँजीपति', 0.5182876586914062), ('नोकरशाही', 0.5007683634757996), ('कारोबारी', 0.4855310916900635), ('गिरोह', 0.4851357042789459)]\n"
     ]
    },
    {
     "ename": "KeyError",
     "evalue": "\"Key 'मुजि' not present in vocabulary\"",
     "output_type": "error",
     "traceback": [
      "\u001b[0;31m---------------------------------------------------------------------------\u001b[0m",
      "\u001b[0;31mKeyError\u001b[0m                                  Traceback (most recent call last)",
      "\u001b[0;32m/tmp/ipykernel_13/2121980902.py\u001b[0m in \u001b[0;36m<cell line: 0>\u001b[0;34m()\u001b[0m\n\u001b[1;32m      1\u001b[0m \u001b[0;31m# keeping this at last as this will raise Exception and stop the script. So that all the models are saved before the exception\u001b[0m\u001b[0;34m\u001b[0m\u001b[0;34m\u001b[0m\u001b[0m\n\u001b[1;32m      2\u001b[0m \u001b[0mprint\u001b[0m\u001b[0;34m(\u001b[0m\u001b[0;34mf\"दलाल: {pretrained.most_similar('दलाल')}\"\u001b[0m\u001b[0;34m)\u001b[0m\u001b[0;34m\u001b[0m\u001b[0;34m\u001b[0m\u001b[0m\n\u001b[0;32m----> 3\u001b[0;31m \u001b[0mprint\u001b[0m\u001b[0;34m(\u001b[0m\u001b[0;34mf\"मुजि: {pretrained.most_similar('मुजि')}\"\u001b[0m\u001b[0;34m)\u001b[0m\u001b[0;34m\u001b[0m\u001b[0;34m\u001b[0m\u001b[0m\n\u001b[0m\u001b[1;32m      4\u001b[0m \u001b[0mprint\u001b[0m\u001b[0;34m(\u001b[0m\u001b[0;34mf\"रन्डि: {pretrained.most_similar('रन्डि')}\"\u001b[0m\u001b[0;34m)\u001b[0m\u001b[0;34m\u001b[0m\u001b[0;34m\u001b[0m\u001b[0m\n\u001b[1;32m      5\u001b[0m \u001b[0mprint\u001b[0m\u001b[0;34m(\u001b[0m\u001b[0;34mf\"चिक्ने: {pretrained.most_similar('चिक्ने')}\"\u001b[0m\u001b[0;34m)\u001b[0m\u001b[0;34m\u001b[0m\u001b[0;34m\u001b[0m\u001b[0m\n",
      "\u001b[0;32m/usr/local/lib/python3.11/dist-packages/gensim/models/keyedvectors.py\u001b[0m in \u001b[0;36mmost_similar\u001b[0;34m(self, positive, negative, topn, clip_start, clip_end, restrict_vocab, indexer)\u001b[0m\n\u001b[1;32m    839\u001b[0m \u001b[0;34m\u001b[0m\u001b[0m\n\u001b[1;32m    840\u001b[0m         \u001b[0;31m# compute the weighted average of all keys\u001b[0m\u001b[0;34m\u001b[0m\u001b[0;34m\u001b[0m\u001b[0m\n\u001b[0;32m--> 841\u001b[0;31m         \u001b[0mmean\u001b[0m \u001b[0;34m=\u001b[0m \u001b[0mself\u001b[0m\u001b[0;34m.\u001b[0m\u001b[0mget_mean_vector\u001b[0m\u001b[0;34m(\u001b[0m\u001b[0mkeys\u001b[0m\u001b[0;34m,\u001b[0m \u001b[0mweight\u001b[0m\u001b[0;34m,\u001b[0m \u001b[0mpre_normalize\u001b[0m\u001b[0;34m=\u001b[0m\u001b[0;32mTrue\u001b[0m\u001b[0;34m,\u001b[0m \u001b[0mpost_normalize\u001b[0m\u001b[0;34m=\u001b[0m\u001b[0;32mTrue\u001b[0m\u001b[0;34m,\u001b[0m \u001b[0mignore_missing\u001b[0m\u001b[0;34m=\u001b[0m\u001b[0;32mFalse\u001b[0m\u001b[0;34m)\u001b[0m\u001b[0;34m\u001b[0m\u001b[0;34m\u001b[0m\u001b[0m\n\u001b[0m\u001b[1;32m    842\u001b[0m         all_keys = [\n\u001b[1;32m    843\u001b[0m             \u001b[0mself\u001b[0m\u001b[0;34m.\u001b[0m\u001b[0mget_index\u001b[0m\u001b[0;34m(\u001b[0m\u001b[0mkey\u001b[0m\u001b[0;34m)\u001b[0m \u001b[0;32mfor\u001b[0m \u001b[0mkey\u001b[0m \u001b[0;32min\u001b[0m \u001b[0mkeys\u001b[0m \u001b[0;32mif\u001b[0m \u001b[0misinstance\u001b[0m\u001b[0;34m(\u001b[0m\u001b[0mkey\u001b[0m\u001b[0;34m,\u001b[0m \u001b[0m_KEY_TYPES\u001b[0m\u001b[0;34m)\u001b[0m \u001b[0;32mand\u001b[0m \u001b[0mself\u001b[0m\u001b[0;34m.\u001b[0m\u001b[0mhas_index_for\u001b[0m\u001b[0;34m(\u001b[0m\u001b[0mkey\u001b[0m\u001b[0;34m)\u001b[0m\u001b[0;34m\u001b[0m\u001b[0;34m\u001b[0m\u001b[0m\n",
      "\u001b[0;32m/usr/local/lib/python3.11/dist-packages/gensim/models/keyedvectors.py\u001b[0m in \u001b[0;36mget_mean_vector\u001b[0;34m(self, keys, weights, pre_normalize, post_normalize, ignore_missing)\u001b[0m\n\u001b[1;32m    516\u001b[0m                 \u001b[0mtotal_weight\u001b[0m \u001b[0;34m+=\u001b[0m \u001b[0mabs\u001b[0m\u001b[0;34m(\u001b[0m\u001b[0mweights\u001b[0m\u001b[0;34m[\u001b[0m\u001b[0midx\u001b[0m\u001b[0;34m]\u001b[0m\u001b[0;34m)\u001b[0m\u001b[0;34m\u001b[0m\u001b[0;34m\u001b[0m\u001b[0m\n\u001b[1;32m    517\u001b[0m             \u001b[0;32melif\u001b[0m \u001b[0;32mnot\u001b[0m \u001b[0mignore_missing\u001b[0m\u001b[0;34m:\u001b[0m\u001b[0;34m\u001b[0m\u001b[0;34m\u001b[0m\u001b[0m\n\u001b[0;32m--> 518\u001b[0;31m                 \u001b[0;32mraise\u001b[0m \u001b[0mKeyError\u001b[0m\u001b[0;34m(\u001b[0m\u001b[0;34mf\"Key '{key}' not present in vocabulary\"\u001b[0m\u001b[0;34m)\u001b[0m\u001b[0;34m\u001b[0m\u001b[0;34m\u001b[0m\u001b[0m\n\u001b[0m\u001b[1;32m    519\u001b[0m \u001b[0;34m\u001b[0m\u001b[0m\n\u001b[1;32m    520\u001b[0m         \u001b[0;32mif\u001b[0m \u001b[0mtotal_weight\u001b[0m \u001b[0;34m>\u001b[0m \u001b[0;36m0\u001b[0m\u001b[0;34m:\u001b[0m\u001b[0;34m\u001b[0m\u001b[0;34m\u001b[0m\u001b[0m\n",
      "\u001b[0;31mKeyError\u001b[0m: \"Key 'मुजि' not present in vocabulary\""
     ]
    }
   ],
   "source": [
    "# keeping this at last as this will raise Exception and stop the script. So that all the models are saved before the exception\n",
    "print(f\"दलाल: {pretrained.most_similar('दलाल')}\")\n",
    "print(f\"मुजि: {pretrained.most_similar('मुजि')}\")\n",
    "print(f\"रन्डि: {pretrained.most_similar('रन्डि')}\")\n",
    "print(f\"चिक्ने: {pretrained.most_similar('चिक्ने')}\")\n",
    "print(f\"ठोक्ने: {pretrained.most_similar('ठोक्ने')}\")\n",
    "print(f\"बलात्कारी: {pretrained.most_similar('बलात्कारी')}\")\n",
    "print(f\"माचिक्ने: {pretrained.most_similar('माचिक्ने')}\")\n",
    "print(f\"Similarity between ठोक and हान्नु: {pretrained.similarity('ठोक', 'हान्नु')}\")"
   ]
  },
  {
   "cell_type": "markdown",
   "id": "3cba66e4",
   "metadata": {
    "papermill": {
     "duration": null,
     "end_time": null,
     "exception": null,
     "start_time": null,
     "status": "pending"
    },
    "tags": []
   },
   "source": [
    "As observed the model doesn't have word vectors for profane word, which is expected as the model was trained on new sources and wikipedia."
   ]
  }
 ],
 "metadata": {
  "kaggle": {
   "accelerator": "none",
   "dataSources": [
    {
     "datasetId": 7520235,
     "sourceId": 11960000,
     "sourceType": "datasetVersion"
    },
    {
     "datasetId": 7520078,
     "sourceId": 11969055,
     "sourceType": "datasetVersion"
    }
   ],
   "dockerImageVersionId": 31040,
   "isGpuEnabled": false,
   "isInternetEnabled": true,
   "language": "python",
   "sourceType": "notebook"
  },
  "kernelspec": {
   "display_name": "Python 3",
   "language": "python",
   "name": "python3"
  },
  "language_info": {
   "codemirror_mode": {
    "name": "ipython",
    "version": 3
   },
   "file_extension": ".py",
   "mimetype": "text/x-python",
   "name": "python",
   "nbconvert_exporter": "python",
   "pygments_lexer": "ipython3",
   "version": "3.11.11"
  },
  "papermill": {
   "default_parameters": {},
   "duration": 667.990692,
   "end_time": "2025-06-02T14:13:00.472380",
   "environment_variables": {},
   "exception": true,
   "input_path": "__notebook__.ipynb",
   "output_path": "__notebook__.ipynb",
   "parameters": {},
   "start_time": "2025-06-02T14:01:52.481688",
   "version": "2.6.0"
  }
 },
 "nbformat": 4,
 "nbformat_minor": 5
}
