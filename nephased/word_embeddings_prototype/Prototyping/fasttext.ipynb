{
 "cells": [
  {
   "cell_type": "code",
   "execution_count": 1,
   "id": "f062a5a1",
   "metadata": {
    "_cell_guid": "b1076dfc-b9ad-4769-8c92-a6c4dae69d19",
    "_uuid": "8f2839f25d086af736a60e9eeb907d3b93b6e0e5",
    "execution": {
     "iopub.execute_input": "2025-05-27T07:21:58.988138Z",
     "iopub.status.busy": "2025-05-27T07:21:58.987732Z",
     "iopub.status.idle": "2025-05-27T07:22:01.179578Z",
     "shell.execute_reply": "2025-05-27T07:22:01.177619Z"
    },
    "papermill": {
     "duration": 2.200081,
     "end_time": "2025-05-27T07:22:01.182280",
     "exception": false,
     "start_time": "2025-05-27T07:21:58.982199",
     "status": "completed"
    },
    "tags": []
   },
   "outputs": [
    {
     "name": "stdout",
     "output_type": "stream",
     "text": [
      "/kaggle/input/nepsa/NepSA.csv\n",
      "/kaggle/input/pretrained-fasttext/pretrained_word2vec/pretrained_word2vec/pretrained.word2vec.wv.vectors.npy\n",
      "/kaggle/input/pretrained-fasttext/pretrained_word2vec/pretrained_word2vec/pretrained.word2vec.trainables.syn1neg.npy\n",
      "/kaggle/input/pretrained-fasttext/pretrained_word2vec/pretrained_word2vec/pretrained.word2vec\n",
      "/kaggle/input/pretrained-fasttext/pretrained_fasttext/pretrained_fasttext/pretrained.fast_text.wv.vectors_vocab.npy\n",
      "/kaggle/input/pretrained-fasttext/pretrained_fasttext/pretrained_fasttext/pretrained.fast_text.trainables.vectors_ngrams_lockf.npy\n",
      "/kaggle/input/pretrained-fasttext/pretrained_fasttext/pretrained_fasttext/pretrained.fast_text.wv.vectors.npy\n",
      "/kaggle/input/pretrained-fasttext/pretrained_fasttext/pretrained_fasttext/pretrained.fast_text.trainables.syn1neg.npy\n",
      "/kaggle/input/pretrained-fasttext/pretrained_fasttext/pretrained_fasttext/pretrained.fast_text.trainables.vectors_vocab_lockf.npy\n",
      "/kaggle/input/pretrained-fasttext/pretrained_fasttext/pretrained_fasttext/pretrained.fast_text.wv.vectors_ngrams.npy\n",
      "/kaggle/input/pretrained-fasttext/pretrained_fasttext/pretrained_fasttext/pretrained.fast_text\n"
     ]
    }
   ],
   "source": [
    "# This Python 3 environment comes with many helpful analytics libraries installed\n",
    "# It is defined by the kaggle/python Docker image: https://github.com/kaggle/docker-python\n",
    "# For example, here's several helpful packages to load\n",
    "\n",
    "import numpy as np # linear algebra\n",
    "import pandas as pd # data processing, CSV file I/O (e.g. pd.read_csv)\n",
    "\n",
    "# Input data files are available in the read-only \"../input/\" directory\n",
    "# For example, running this (by clicking run or pressing Shift+Enter) will list all files under the input directory\n",
    "\n",
    "import os\n",
    "for dirname, _, filenames in os.walk('/kaggle/input'):\n",
    "    for filename in filenames:\n",
    "        print(os.path.join(dirname, filename))\n",
    "\n",
    "# You can write up to 20GB to the current directory (/kaggle/working/) that gets preserved as output when you create a version using \"Save & Run All\" \n",
    "# You can also write temporary files to /kaggle/temp/, but they won't be saved outside of the current session"
   ]
  },
  {
   "cell_type": "code",
   "execution_count": 2,
   "id": "63ae04ab",
   "metadata": {
    "execution": {
     "iopub.execute_input": "2025-05-27T07:22:01.197442Z",
     "iopub.status.busy": "2025-05-27T07:22:01.195937Z",
     "iopub.status.idle": "2025-05-27T07:22:01.297502Z",
     "shell.execute_reply": "2025-05-27T07:22:01.296254Z"
    },
    "papermill": {
     "duration": 0.110465,
     "end_time": "2025-05-27T07:22:01.299554",
     "exception": false,
     "start_time": "2025-05-27T07:22:01.189089",
     "status": "completed"
    },
    "tags": []
   },
   "outputs": [
    {
     "name": "stdout",
     "output_type": "stream",
     "text": [
      "<class 'pandas.core.frame.DataFrame'>\n",
      "RangeIndex: 4707 entries, 0 to 4706\n",
      "Data columns (total 2 columns):\n",
      " #   Column  Non-Null Count  Dtype \n",
      "---  ------  --------------  ----- \n",
      " 0   Text    4707 non-null   object\n",
      " 1   Target  4707 non-null   int64 \n",
      "dtypes: int64(1), object(1)\n",
      "memory usage: 73.7+ KB\n"
     ]
    }
   ],
   "source": [
    "from pathlib import Path\n",
    "df= pd.read_csv(\"/kaggle/input/nepsa/NepSA.csv\")\n",
    "df_copy= df.copy()\n",
    "df.info()\n",
    "\n",
    "scratch_output = \"./scratch/\"\n",
    "finetuned_output = \"./finetune/\"\n",
    "\n",
    "Path(scratch_output).mkdir()\n",
    "Path(finetuned_output).mkdir()"
   ]
  },
  {
   "cell_type": "code",
   "execution_count": 3,
   "id": "38c8d65c",
   "metadata": {
    "execution": {
     "iopub.execute_input": "2025-05-27T07:22:01.315508Z",
     "iopub.status.busy": "2025-05-27T07:22:01.315154Z",
     "iopub.status.idle": "2025-05-27T07:22:04.665283Z",
     "shell.execute_reply": "2025-05-27T07:22:04.664154Z"
    },
    "papermill": {
     "duration": 3.359801,
     "end_time": "2025-05-27T07:22:04.667119",
     "exception": false,
     "start_time": "2025-05-27T07:22:01.307318",
     "status": "completed"
    },
    "tags": []
   },
   "outputs": [],
   "source": [
    "# Tokenizing using nltk and creating a corpus for models to train on\n",
    "\n",
    "import nltk\n",
    "from nltk.tokenize import word_tokenize\n",
    "\n",
    "sentences= df_copy['Text'].apply(lambda x: word_tokenize(x)).tolist()"
   ]
  },
  {
   "cell_type": "code",
   "execution_count": 4,
   "id": "8517d8f5",
   "metadata": {
    "execution": {
     "iopub.execute_input": "2025-05-27T07:22:04.675886Z",
     "iopub.status.busy": "2025-05-27T07:22:04.674955Z",
     "iopub.status.idle": "2025-05-27T07:24:37.687800Z",
     "shell.execute_reply": "2025-05-27T07:24:37.686770Z"
    },
    "papermill": {
     "duration": 153.019035,
     "end_time": "2025-05-27T07:24:37.689655",
     "exception": false,
     "start_time": "2025-05-27T07:22:04.670620",
     "status": "completed"
    },
    "tags": []
   },
   "outputs": [],
   "source": [
    "from gensim.models import FastText\n",
    "\n",
    "scratch_fasttext= FastText(sentences, vector_size= 300,sg=1 ,negative=10 ,window= 15, min_count=3,alpha=0.0025, epochs=200, workers=4, seed= 42)"
   ]
  },
  {
   "cell_type": "code",
   "execution_count": 5,
   "id": "8e4afe8f",
   "metadata": {
    "execution": {
     "iopub.execute_input": "2025-05-27T07:24:37.698692Z",
     "iopub.status.busy": "2025-05-27T07:24:37.698167Z",
     "iopub.status.idle": "2025-05-27T07:24:37.723684Z",
     "shell.execute_reply": "2025-05-27T07:24:37.722466Z"
    },
    "papermill": {
     "duration": 0.031839,
     "end_time": "2025-05-27T07:24:37.725478",
     "exception": false,
     "start_time": "2025-05-27T07:24:37.693639",
     "status": "completed"
    },
    "tags": []
   },
   "outputs": [
    {
     "name": "stdout",
     "output_type": "stream",
     "text": [
      "दलाल: [('दलालि', 0.8507505059242249), ('दलाली', 0.8405889868736267), ('दले', 0.7199591994285583), ('गोरू', 0.6841635704040527), ('घुसिया', 0.6700232028961182), ('भारतिय', 0.669421374797821), ('थुईक्क', 0.666473388671875), ('पापी', 0.654083788394928), ('संसद', 0.6519933938980103), ('भुसिया', 0.6435674428939819)]\n",
      "मुजि: [('मुखै', 0.733791708946228), ('मुर्ख', 0.7313032746315002), ('मुख्', 0.7287921905517578), ('मुत', 0.7127673625946045), ('मुर्दाबाद', 0.7093185782432556), ('चम्चा', 0.7061370611190796), ('तनाव', 0.705727756023407), ('मुर्दा', 0.7045921683311462), ('आय', 0.6999744176864624), ('मुजी', 0.6940966844558716)]\n",
      "रन्डि: [('रन्दि', 0.8976467847824097), ('रन्डी', 0.8783191442489624), ('कन्डम', 0.8125463128089905), ('तेइ', 0.8120995163917542), ('थोक', 0.8053849339485168), ('छोरा', 0.8040271401405334), ('राडी', 0.8021667003631592), ('जाठा', 0.7988181114196777), ('सिदै', 0.7897745966911316), ('छोरो', 0.7896008491516113)]\n",
      "चिक्ने: [('माचिक्ने', 0.8801254630088806), ('पढ्ने', 0.8153694272041321), ('झ्याक्ने', 0.8147541284561157), ('मया', 0.783364474773407), ('मास्टर', 0.7823660969734192), ('माचिकने', 0.7751312255859375), ('बिक्ने', 0.7738214731216431), ('छोरो', 0.7590107321739197), ('चिरि', 0.7476708889007568), ('माचिक्नी', 0.7434148788452148)]\n",
      "ठोक्ने: [('ठोक्न', 0.8419105410575867), ('झ्याक्ने', 0.8239672780036926), ('बिगार्ने', 0.8231085538864136), ('ठोक्नु', 0.7947636842727661), ('ठोक्नैपर्छ', 0.7929452061653137), ('भुक्ने', 0.776081383228302), ('हिड्ने', 0.7616037130355835), ('बिक्ने', 0.7561380863189697), ('बेच्ने', 0.7534904479980469), ('पढ्ने', 0.7474054098129272)]\n",
      "बलात्कारी: [('बलात्कारि', 0.9472822546958923), ('बलात्कार', 0.938713788986206), ('बहिष्कार', 0.783676266670227), ('लुगा', 0.7835516929626465), ('नजिक', 0.7791028022766113), ('भस्म', 0.7790323495864868), ('आयिस', 0.7772732377052307), ('पसल', 0.776536226272583), ('आयिस्', 0.7721128463745117), ('ज्यानै', 0.7714125514030457)]\n",
      "माचिक्ने: [('माचिक्नी', 0.9066324234008789), ('माचिकने', 0.8911029696464539), ('चिक्ने', 0.8801254034042358), ('झ्याक्ने', 0.8008409738540649), ('राडी', 0.7719959020614624), ('रन्दि', 0.7535474896430969), ('मया', 0.7496466636657715), ('राडि', 0.7473699450492859), ('पढ्ने', 0.746134340763092), ('हिँड्ने', 0.7452512979507446)]\n",
      "Similarity between ठोक and हान्नु: 0.7314961552619934\n"
     ]
    }
   ],
   "source": [
    "print(f\"दलाल: {scratch_fasttext.wv.most_similar('दलाल')}\")\n",
    "print(f\"मुजि: {scratch_fasttext.wv.most_similar('मुजि')}\")\n",
    "print(f\"रन्डि: {scratch_fasttext.wv.most_similar('रन्डि')}\")\n",
    "print(f\"चिक्ने: {scratch_fasttext.wv.most_similar('चिक्ने')}\")\n",
    "print(f\"ठोक्ने: {scratch_fasttext.wv.most_similar('ठोक्ने')}\")\n",
    "print(f\"बलात्कारी: {scratch_fasttext.wv.most_similar('बलात्कारी')}\")\n",
    "print(f\"माचिक्ने: {scratch_fasttext.wv.most_similar('माचिक्ने')}\")\n",
    "print(f\"Similarity between ठोक and हान्नु: {scratch_fasttext.wv.similarity('ठोक', 'हान्नु')}\")"
   ]
  },
  {
   "cell_type": "code",
   "execution_count": 6,
   "id": "3d13bd4f",
   "metadata": {
    "execution": {
     "iopub.execute_input": "2025-05-27T07:24:37.734119Z",
     "iopub.status.busy": "2025-05-27T07:24:37.733569Z",
     "iopub.status.idle": "2025-05-27T07:24:37.739774Z",
     "shell.execute_reply": "2025-05-27T07:24:37.738482Z"
    },
    "papermill": {
     "duration": 0.012417,
     "end_time": "2025-05-27T07:24:37.741588",
     "exception": false,
     "start_time": "2025-05-27T07:24:37.729171",
     "status": "completed"
    },
    "tags": []
   },
   "outputs": [
    {
     "name": "stdout",
     "output_type": "stream",
     "text": [
      "Vectors shape: (2660, 300)\n"
     ]
    }
   ],
   "source": [
    "print(\"Vectors shape:\", scratch_fasttext.wv.vectors.shape)\n"
   ]
  },
  {
   "cell_type": "code",
   "execution_count": 7,
   "id": "af201995",
   "metadata": {
    "execution": {
     "iopub.execute_input": "2025-05-27T07:24:37.749979Z",
     "iopub.status.busy": "2025-05-27T07:24:37.749653Z",
     "iopub.status.idle": "2025-05-27T07:24:40.121071Z",
     "shell.execute_reply": "2025-05-27T07:24:40.119975Z"
    },
    "papermill": {
     "duration": 2.377801,
     "end_time": "2025-05-27T07:24:40.122979",
     "exception": false,
     "start_time": "2025-05-27T07:24:37.745178",
     "status": "completed"
    },
    "tags": []
   },
   "outputs": [],
   "source": [
    "_ = scratch_fasttext.wv.vectors\n",
    "_ = scratch_fasttext.wv.vectors_ngrams\n",
    "\n",
    "\n",
    "scratch_fasttext.save(os.path.join(scratch_output,'scratch'))"
   ]
  },
  {
   "cell_type": "code",
   "execution_count": 8,
   "id": "eb7f681c",
   "metadata": {
    "execution": {
     "iopub.execute_input": "2025-05-27T07:24:40.132764Z",
     "iopub.status.busy": "2025-05-27T07:24:40.131669Z",
     "iopub.status.idle": "2025-05-27T07:25:24.556473Z",
     "shell.execute_reply": "2025-05-27T07:25:24.555032Z"
    },
    "papermill": {
     "duration": 44.43395,
     "end_time": "2025-05-27T07:25:24.560971",
     "exception": false,
     "start_time": "2025-05-27T07:24:40.127021",
     "status": "completed"
    },
    "tags": []
   },
   "outputs": [],
   "source": [
    "\n",
    "pretrained_fasttext_path = \"/kaggle/input/pretrained-fasttext/pretrained_fasttext/pretrained_fasttext/pretrained.fast_text\"\n",
    "pretrained = FastText.load(pretrained_fasttext_path)"
   ]
  },
  {
   "cell_type": "code",
   "execution_count": 9,
   "id": "4f4a5b91",
   "metadata": {
    "execution": {
     "iopub.execute_input": "2025-05-27T07:25:24.574338Z",
     "iopub.status.busy": "2025-05-27T07:25:24.573941Z",
     "iopub.status.idle": "2025-05-27T07:25:24.897810Z",
     "shell.execute_reply": "2025-05-27T07:25:24.896788Z"
    },
    "papermill": {
     "duration": 0.332268,
     "end_time": "2025-05-27T07:25:24.900215",
     "exception": false,
     "start_time": "2025-05-27T07:25:24.567947",
     "status": "completed"
    },
    "tags": []
   },
   "outputs": [
    {
     "name": "stdout",
     "output_type": "stream",
     "text": [
      "दलाल: [('दलालहर', 0.7440781593322754), ('दलाली', 0.6854984760284424), ('विचौल', 0.6209348440170288), ('बिचौल', 0.6050319075584412), ('दलालबाट', 0.5906900763511658), ('दलालमार्फत', 0.5906495451927185), ('दलालपुँज', 0.5692156553268433), ('पुँजीपति', 0.5689678192138672), ('ोकरशाह', 0.5642825961112976), ('पूँजीपति', 0.5638065338134766)]\n",
      "मुजि: [('मुजिर', 0.8002251982688904), ('मुजिबर', 0.7488963603973389), ('मुजिवर', 0.7370174527168274), ('मुजिब', 0.7313560843467712), ('मुजिव', 0.7237745523452759), ('मुजिबुल', 0.7164750099182129), ('मुजिम', 0.6959578394889832), ('मुजिवुल', 0.6847776174545288), ('मुजिङ', 0.6725438237190247), ('मुजीव', 0.6572784781455994)]\n",
      "रन्डि: [('ब्रेन्डि', 0.6358718872070312), ('भुन्डि', 0.6007540225982666), ('एन्डि', 0.5524656176567078), ('ट्ेरन्डिङ', 0.5476298928260803), ('इन्डि', 0.5357617139816284), ('झण्डि', 0.5149215459823608), ('ट्रन्डिङ', 0.5131903290748596), ('झुन्डि', 0.5115798115730286), ('ट्रेन्डिङ', 0.5075634121894836), ('झुण्डि', 0.5072340965270996)]\n",
      "चिक्ने: [('बिक्ने', 0.7133930921554565), ('टिक्ने', 0.6846340894699097), ('झिक्ने', 0.6242936849594116), ('सिक्ने', 0.612963855266571), ('चिक्', 0.5284040570259094), ('सुक्ने', 0.5146539807319641), ('बिक्नेहर', 0.48710063099861145), ('टिक्नेवाल', 0.486486554145813), ('स्ट्रेचिंग', 0.482295423746109), ('खल्ने', 0.48089736700057983)]\n",
      "ठोक्ने: [('ठोक्न', 0.7227569818496704), ('ठोक्नेहर', 0.6827568411827087), ('ठोक्नुपर', 0.5960269570350647), ('ठोक्नुस', 0.5929687023162842), ('ठोक्थ', 0.5831024646759033), ('ठोक्द', 0.583012044429779), ('ठोक्दै', 0.5733093619346619), ('ठोक्य', 0.5483103394508362), ('बोक्ने', 0.5473573207855225), ('ठोक्छ', 0.5346655249595642)]\n",
      "बलात्कारी: [('बलात्कारील', 0.8286181688308716), ('बलात्कारीहर', 0.7906721830368042), ('हत्यार', 0.7399064302444458), ('अपराधी', 0.7380777597427368), ('बलात्कारगर', 0.7361831665039062), ('बलात्कारपछ', 0.7057195901870728), ('बलत्कारील', 0.6967209577560425), ('बलात्कार', 0.6729101538658142), ('बलत', 0.6703469157218933), ('बलात्कारविरोध', 0.6680774092674255)]\n",
      "माचिक्ने: [('बिक्ने', 0.7094810605049133), ('टिक्ने', 0.6577059030532837), ('माचि', 0.6247499585151672), ('सिक्ने', 0.6117249727249146), ('झिक्ने', 0.6097487211227417), ('माचिस', 0.5190700888633728), ('बज्ने', 0.512355625629425), ('सुक्ने', 0.4983038008213043), ('टिक्नेवाल', 0.49716049432754517), ('खल्ने', 0.4936295747756958)]\n",
      "Similarity between ठोक and हान्नु: 0.4705272614955902\n"
     ]
    }
   ],
   "source": [
    "print(f\"दलाल: {pretrained.wv.most_similar('दलाल')}\")\n",
    "print(f\"मुजि: {pretrained.wv.most_similar('मुजि')}\")\n",
    "print(f\"रन्डि: {pretrained.wv.most_similar('रन्डि')}\")\n",
    "print(f\"चिक्ने: {pretrained.wv.most_similar('चिक्ने')}\")\n",
    "print(f\"ठोक्ने: {pretrained.wv.most_similar('ठोक्ने')}\")\n",
    "print(f\"बलात्कारी: {pretrained.wv.most_similar('बलात्कारी')}\")\n",
    "print(f\"माचिक्ने: {pretrained.wv.most_similar('माचिक्ने')}\")\n",
    "print(f\"Similarity between ठोक and हान्नु: {pretrained.wv.similarity('ठोक', 'हान्नु')}\")"
   ]
  },
  {
   "cell_type": "code",
   "execution_count": 10,
   "id": "eb1bead2",
   "metadata": {
    "execution": {
     "iopub.execute_input": "2025-05-27T07:25:24.909718Z",
     "iopub.status.busy": "2025-05-27T07:25:24.908849Z",
     "iopub.status.idle": "2025-05-27T07:25:24.914371Z",
     "shell.execute_reply": "2025-05-27T07:25:24.913232Z"
    },
    "papermill": {
     "duration": 0.011832,
     "end_time": "2025-05-27T07:25:24.916076",
     "exception": false,
     "start_time": "2025-05-27T07:25:24.904244",
     "status": "completed"
    },
    "tags": []
   },
   "outputs": [
    {
     "name": "stdout",
     "output_type": "stream",
     "text": [
      "17975484\n",
      "50\n"
     ]
    }
   ],
   "source": [
    "print(pretrained.corpus_count)\n",
    "print(pretrained.epochs)"
   ]
  },
  {
   "cell_type": "markdown",
   "id": "4bbe39e0",
   "metadata": {
    "papermill": {
     "duration": 0.003494,
     "end_time": "2025-05-27T07:25:24.923658",
     "exception": false,
     "start_time": "2025-05-27T07:25:24.920164",
     "status": "completed"
    },
    "tags": []
   },
   "source": [
    "# Finetuning\n",
    "Following Resume training for Word2Vec from official Documentation, we apply the same to Fasttext"
   ]
  },
  {
   "cell_type": "code",
   "execution_count": 11,
   "id": "cd19fba6",
   "metadata": {
    "execution": {
     "iopub.execute_input": "2025-05-27T07:25:24.932824Z",
     "iopub.status.busy": "2025-05-27T07:25:24.932523Z",
     "iopub.status.idle": "2025-05-27T07:25:48.343071Z",
     "shell.execute_reply": "2025-05-27T07:25:48.341710Z"
    },
    "papermill": {
     "duration": 23.418245,
     "end_time": "2025-05-27T07:25:48.345566",
     "exception": false,
     "start_time": "2025-05-27T07:25:24.927321",
     "status": "completed"
    },
    "tags": []
   },
   "outputs": [
    {
     "name": "stdout",
     "output_type": "stream",
     "text": [
      "4707\n",
      "50\n"
     ]
    }
   ],
   "source": [
    "finetuned = pretrained\n",
    "finetuned.build_vocab(sentences, update=True)\n",
    "\n",
    "print(finetuned.corpus_count)\n",
    "print(finetuned.epochs)"
   ]
  },
  {
   "cell_type": "code",
   "execution_count": 12,
   "id": "8f8df74b",
   "metadata": {
    "execution": {
     "iopub.execute_input": "2025-05-27T07:25:48.356182Z",
     "iopub.status.busy": "2025-05-27T07:25:48.355732Z",
     "iopub.status.idle": "2025-05-27T07:26:47.249981Z",
     "shell.execute_reply": "2025-05-27T07:26:47.248986Z"
    },
    "papermill": {
     "duration": 58.907035,
     "end_time": "2025-05-27T07:26:47.257278",
     "exception": false,
     "start_time": "2025-05-27T07:25:48.350243",
     "status": "completed"
    },
    "tags": []
   },
   "outputs": [
    {
     "data": {
      "text/plain": [
       "(5243402, 9137400)"
      ]
     },
     "execution_count": 12,
     "metadata": {},
     "output_type": "execute_result"
    }
   ],
   "source": [
    "finetuned.train(sentences, total_examples=finetuned.corpus_count ,epochs=200)"
   ]
  },
  {
   "cell_type": "code",
   "execution_count": 13,
   "id": "087604d1",
   "metadata": {
    "execution": {
     "iopub.execute_input": "2025-05-27T07:26:47.266565Z",
     "iopub.status.busy": "2025-05-27T07:26:47.265900Z",
     "iopub.status.idle": "2025-05-27T07:26:47.553812Z",
     "shell.execute_reply": "2025-05-27T07:26:47.552254Z"
    },
    "papermill": {
     "duration": 0.294428,
     "end_time": "2025-05-27T07:26:47.555539",
     "exception": false,
     "start_time": "2025-05-27T07:26:47.261111",
     "status": "completed"
    },
    "tags": []
   },
   "outputs": [
    {
     "name": "stdout",
     "output_type": "stream",
     "text": [
      "दलाल: [('दलालहर', 0.6962102055549622), ('वदलाल', 0.6183063387870789), ('दलाली', 0.6166598796844482), ('दलालबाट', 0.616618812084198), ('दलालहरुल', 0.6100828647613525), ('दलालीहर', 0.5980662703514099), ('दला', 0.5905641913414001), ('लाल', 0.5859220027923584), ('दलालीप', 0.5828729271888733), ('दलालसंग', 0.5791537761688232)]\n",
      "मुजि: [('मुजिर', 0.7511714100837708), ('मुजिबर', 0.7211726307868958), ('मुजिङ', 0.7162096500396729), ('मुजिम', 0.6950715780258179), ('मुजिब', 0.6893698573112488), ('मुजिवर', 0.6596695184707642), ('मुजिव', 0.6521907448768616), ('मुजिबुल', 0.6481915712356567), ('मुजिवुल', 0.626686155796051), ('मुजिकल', 0.599871814250946)]\n",
      "रन्डि: [('भुन्डि', 0.700746476650238), ('रन्ड', 0.6753078699111938), ('इन्डि', 0.661927342414856), ('रन्डी', 0.658280074596405), ('झुन्डि', 0.643549382686615), ('ब्रेन्डि', 0.6343564987182617), ('एन्डि', 0.6242436170578003), ('झण्डि', 0.6150180101394653), ('झुण्डि', 0.5903967022895813), ('रन्डाल', 0.587599515914917)]\n",
      "चिक्ने: [('माचिक्ने', 0.7951967120170593), ('बिक्ने', 0.7642383575439453), ('टिक्ने', 0.7574322819709778), ('झिक्ने', 0.7427195906639099), ('सिक्ने', 0.742400586605072), ('सुक्ने', 0.6383284330368042), ('चिक्', 0.6337301135063171), ('सेक्ने', 0.6281407475471497), ('चिक्र', 0.6157161593437195), ('भुक्ने', 0.6130943298339844)]\n",
      "ठोक्ने: [('ठोक्न', 0.8057208061218262), ('ठोक्नेहर', 0.8004185557365417), ('ठोक्नु', 0.7409350275993347), ('रोक्ने', 0.7107608318328857), ('बोक्ने', 0.7072882056236267), ('ठोक्थ', 0.7013994455337524), ('ठोक्नुस', 0.6923860907554626), ('ठोक्य', 0.6860464215278625), ('ठोक्नुपर', 0.67744380235672), ('ठोक्द', 0.6772894859313965)]\n",
      "बलात्कारी: [('बलात्कारील', 0.8970400094985962), ('बलात्कारीहर', 0.8877720236778259), ('बलात्कारगर', 0.8209832906723022), ('बलात्कारि', 0.8133341670036316), ('बलात्कारपछ', 0.7992038726806641), ('बलत्कारी', 0.7918533682823181), ('बलात्कार', 0.7867681980133057), ('बलात्कारका', 0.7530841827392578), ('बलात्कारविरोध', 0.7458470463752747), ('बलात्कारवाट', 0.7319368720054626)]\n",
      "माचिक्ने: [('माचिक्नी', 0.8738073706626892), ('चिक्ने', 0.7951967120170593), ('माचि', 0.790735125541687), ('बिक्ने', 0.7388174533843994), ('टिक्ने', 0.705918550491333), ('सिक्ने', 0.7007465958595276), ('माचिस', 0.6874901652336121), ('झिक्ने', 0.671798825263977), ('माच', 0.6591660380363464), ('बिक्नेहर', 0.6281282305717468)]\n",
      "Similarity between ठोक and हान्नु: 0.4303325116634369\n"
     ]
    }
   ],
   "source": [
    "print(f\"दलाल: {finetuned.wv.most_similar('दलाल')}\")\n",
    "print(f\"मुजि: {finetuned.wv.most_similar('मुजि')}\")\n",
    "print(f\"रन्डि: {finetuned.wv.most_similar('रन्डि')}\")\n",
    "print(f\"चिक्ने: {finetuned.wv.most_similar('चिक्ने')}\")\n",
    "print(f\"ठोक्ने: {finetuned.wv.most_similar('ठोक्ने')}\")\n",
    "print(f\"बलात्कारी: {finetuned.wv.most_similar('बलात्कारी')}\")\n",
    "print(f\"माचिक्ने: {finetuned.wv.most_similar('माचिक्ने')}\")\n",
    "print(f\"Similarity between ठोक and हान्नु: {finetuned.wv.similarity('ठोक', 'हान्नु')}\")"
   ]
  },
  {
   "cell_type": "code",
   "execution_count": 14,
   "id": "a55b8170",
   "metadata": {
    "execution": {
     "iopub.execute_input": "2025-05-27T07:26:47.565213Z",
     "iopub.status.busy": "2025-05-27T07:26:47.564885Z",
     "iopub.status.idle": "2025-05-27T07:26:52.277984Z",
     "shell.execute_reply": "2025-05-27T07:26:52.276915Z"
    },
    "papermill": {
     "duration": 4.720254,
     "end_time": "2025-05-27T07:26:52.279902",
     "exception": false,
     "start_time": "2025-05-27T07:26:47.559648",
     "status": "completed"
    },
    "tags": []
   },
   "outputs": [],
   "source": [
    "_ = finetuned.wv.vectors\n",
    "_ = finetuned.wv.vectors_ngrams\n",
    "\n",
    "\n",
    "finetuned.save(os.path.join(finetuned_output,'finetune'))"
   ]
  }
 ],
 "metadata": {
  "kaggle": {
   "accelerator": "none",
   "dataSources": [
    {
     "datasetId": 7520235,
     "sourceId": 11960000,
     "sourceType": "datasetVersion"
    },
    {
     "datasetId": 7520078,
     "sourceId": 11960043,
     "sourceType": "datasetVersion"
    }
   ],
   "dockerImageVersionId": 31040,
   "isGpuEnabled": false,
   "isInternetEnabled": true,
   "language": "python",
   "sourceType": "notebook"
  },
  "kernelspec": {
   "display_name": "Python 3",
   "language": "python",
   "name": "python3"
  },
  "language_info": {
   "codemirror_mode": {
    "name": "ipython",
    "version": 3
   },
   "file_extension": ".py",
   "mimetype": "text/x-python",
   "name": "python",
   "nbconvert_exporter": "python",
   "pygments_lexer": "ipython3",
   "version": "3.11.11"
  },
  "papermill": {
   "default_parameters": {},
   "duration": 301.17691,
   "end_time": "2025-05-27T07:26:54.942742",
   "environment_variables": {},
   "exception": null,
   "input_path": "__notebook__.ipynb",
   "output_path": "__notebook__.ipynb",
   "parameters": {},
   "start_time": "2025-05-27T07:21:53.765832",
   "version": "2.6.0"
  }
 },
 "nbformat": 4,
 "nbformat_minor": 5
}
